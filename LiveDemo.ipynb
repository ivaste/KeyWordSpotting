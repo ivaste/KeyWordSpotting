{
 "cells": [
  {
   "cell_type": "markdown",
   "metadata": {},
   "source": [
    "# KeyWordSpotting - LIVE DEMO"
   ]
  },
  {
   "cell_type": "code",
   "execution_count": 1,
   "metadata": {},
   "outputs": [],
   "source": [
    "#Imports\n",
    "import librosa\n",
    "import numpy as np\n",
    "import matplotlib.pyplot as plt\n",
    "import sounddevice as sd\n",
    "import Models #Our models\n",
    "import LoadAndPreprocessDataset\n",
    "\n",
    "categories=['yes','no','up','down','left','right','on','off','stop','go']\n",
    "#categories=['yes','no','up','down','left','right','on','off','stop','go','zero','one','two','three','four','five','six','seven','eight','nine','unknown']\n"
   ]
  },
  {
   "cell_type": "markdown",
   "metadata": {},
   "source": [
    "## 1) Audio Input\n",
    "### Recording from microphone"
   ]
  },
  {
   "cell_type": "code",
   "execution_count": 2,
   "metadata": {},
   "outputs": [],
   "source": [
    "sr = 16000\n",
    "seconds = 10\n",
    "\n",
    "myrec = sd.rec(int(sr*seconds), samplerate=sr, channels=1)\n",
    "sd.wait()\n",
    "\n",
    "np.save('LiveDemo/myrec2.npy', myrec)"
   ]
  },
  {
   "cell_type": "markdown",
   "metadata": {},
   "source": [
    "### Reading it from a numpy array"
   ]
  },
  {
   "cell_type": "code",
   "execution_count": null,
   "metadata": {},
   "outputs": [],
   "source": [
    "sr=16000\n",
    "#myrec = np.load(\"LiveDemo/ONaudioclip.npy\")\n",
    "myrec = np.load(\"LiveDemo/myrec.npy\")"
   ]
  },
  {
   "cell_type": "markdown",
   "metadata": {},
   "source": [
    "### Reading it from a wav file"
   ]
  },
  {
   "cell_type": "code",
   "execution_count": null,
   "metadata": {},
   "outputs": [],
   "source": [
    "myrec, sr = librosa.load(\"LiveDemo/audioclip.wav\", sr=None)"
   ]
  },
  {
   "cell_type": "markdown",
   "metadata": {},
   "source": [
    "### Audio Clip Informations"
   ]
  },
  {
   "cell_type": "code",
   "execution_count": 3,
   "metadata": {},
   "outputs": [
    {
     "name": "stdout",
     "output_type": "stream",
     "text": [
      "Sample rate =\t16000 samples/s\n",
      "Duration t =\t10.0 s\n",
      "Average intensity = 0.009745188\n"
     ]
    },
    {
     "data": {
      "image/png": "[encoded data removed]",
      "text/plain": [
       "<Figure size 1080x432 with 1 Axes>"
      ]
     },
     "metadata": {
      "needs_background": "light"
     },
     "output_type": "display_data"
    }
   ],
   "source": [
    "print(\"Sample rate =\\t\" + str(sr) + \" samples/s\")\n",
    "print(\"Duration t =\\t\" + str(len(myrec) / sr) + \" s\")\n",
    "print(\"Average intensity =\",np.mean(np.abs(myrec)))\n",
    "\n",
    "# Play it\n",
    "play = False\n",
    "if play:\n",
    "    sd.play(myrec, sr)\n",
    "    \n",
    "# Plot\n",
    "plt.figure(figsize=(15, 6))\n",
    "plt.plot(myrec)\n",
    "plt.xlabel(\"Samples\")\n",
    "plt.ylabel(\"Intensity\")\n",
    "plt.xlim(0, len(myrec))\n",
    "plt.show()"
   ]
  },
  {
   "cell_type": "markdown",
   "metadata": {},
   "source": [
    "## 2) Load Model"
   ]
  },
  {
   "cell_type": "code",
   "execution_count": 4,
   "metadata": {},
   "outputs": [],
   "source": [
    "#Load Model\n",
    "from tensorflow.keras.models import load_model\n",
    "model_name=\"2020-07-25_13-50_DSConvModel\"\n",
    "model = load_model('models/'+model_name+'.h5')"
   ]
  },
  {
   "cell_type": "code",
   "execution_count": null,
   "metadata": {},
   "outputs": [],
   "source": []
  },
  {
   "cell_type": "markdown",
   "metadata": {},
   "source": [
    "## 3) Sliding Window\n",
    "A 1 second window will slide left to right\n",
    "\n"
   ]
  },
  {
   "cell_type": "code",
   "execution_count": 5,
   "metadata": {},
   "outputs": [
    {
     "name": "stdout",
     "output_type": "stream",
     "text": [
      "Number of windows: 64\n",
      "\n",
      "\n",
      "Window 0 Silence\n",
      "Window 1 Silence\n",
      "Window 2 Silence\n",
      "Window 3 Silence\n",
      "Window 4 yes\n",
      "Window 5 yes\n",
      "Window 6 yes\n",
      "Window 7 yes\n",
      "Window 8 yes\n",
      "Window 9 yes\n",
      "Window 10 Silence\n",
      "Window 11 Silence\n",
      "Window 12 Silence\n",
      "Window 13 Silence\n",
      "Window 14 Silence\n",
      "Window 15 Silence\n",
      "Window 16 Silence\n",
      "Window 17 Silence\n",
      "Window 18 no\n",
      "Window 19 no\n",
      "Window 20 no\n",
      "Window 21 no\n",
      "Window 22 no\n",
      "Window 23 no\n",
      "Window 24 no\n",
      "Window 25 up\n",
      "Window 26 Silence\n",
      "Window 27 Silence\n",
      "Window 28 Silence\n",
      "Window 29 Silence\n",
      "Window 30 Silence\n",
      "Window 31 yes\n",
      "Window 32 down\n",
      "Window 33 down\n",
      "Window 34 down\n",
      "Window 35 down\n",
      "Window 36 down\n",
      "Window 37 down\n",
      "Window 38 on\n",
      "Window 39 up\n",
      "Window 40 yes\n",
      "Window 41 Silence\n",
      "Window 42 Silence\n",
      "Window 43 Silence\n",
      "Window 44 left\n",
      "Window 45 left\n",
      "Window 46 left\n",
      "Window 47 left\n",
      "Window 48 left\n",
      "Window 49 left\n",
      "Window 50 left\n",
      "Window 51 left\n",
      "Window 52 left\n",
      "Window 53 Silence\n",
      "Window 54 Silence\n",
      "Window 55 Silence\n",
      "Window 56 Silence\n",
      "Window 57 Silence\n",
      "Window 58 Silence\n",
      "Window 59 Silence\n",
      "Window 60 Silence\n",
      "Window 61 Silence\n",
      "Window 62 Silence\n",
      "Window 63 Silence\n",
      "\n",
      "Average prediction speed per window (ms): 129.74\n"
     ]
    }
   ],
   "source": [
    "###################### PARAMETERS ##########################################\n",
    "\n",
    "ws=7 #windows per second >=4\n",
    "\n",
    "#############################################################################\n",
    "\n",
    "if len(myrec.shape)<2: myrec=myrec[...,np.newaxis] # for the 1 sec audios\n",
    "\n",
    "step=int(sr/ws)\n",
    "nwin=int((len(myrec)-sr)/step)+1 #number of windows\n",
    "windows=np.empty((nwin,sr,1))\n",
    "predictions=np.empty((nwin,1))\n",
    "\n",
    "print(\"Number of windows:\",nwin)\n",
    "#print(\"Step:\",step)\n",
    "print(\"\\n\")\n",
    "#print(windows.shape)\n",
    "#print(predictions.shape)\n",
    "\n",
    "#divide in windows\n",
    "for i in range(nwin):\n",
    "    start=int(i*step)\n",
    "    end=int(start+sr)\n",
    "    windows[i]=myrec[start:end]\n",
    "\n",
    "    \n",
    "\n",
    "#prediction speed measure\n",
    "import time\n",
    "sStarts=[]\n",
    "sEnds=[]\n",
    "\n",
    "for i in range(nwin):\n",
    "    start=int(i*step)\n",
    "\n",
    "    #SILENCE FILTER\n",
    "    if np.mean(np.abs(windows[i]))<5*(10**-3):\n",
    "        predictions[i]=-1 #Silence\n",
    "        #plt.text(start+sr/4, 0, \"SILENCE \"+str(i), color='green')\n",
    "        print(\"Window\",i,\"Silence\")\n",
    "    else:\n",
    "        sStarts.append(time.time())\n",
    "        \n",
    "        a=windows[i]\n",
    "        \n",
    "        #preprocessing:         \n",
    "        a=np.squeeze(a) #remove dimensions of length 1 (the last dimension)\n",
    "        a=a[np.newaxis,...] #add dimension 1 at the beginning to indicate 1 example\n",
    "        #a=LoadAndPreprocessDataset.MFCC(a,n_mfcc=40)\n",
    "        a=LoadAndPreprocessDataset.melspect(a)\n",
    "        a=a[...,np.newaxis] #add dimension 1 at the end for CNN\n",
    "        \n",
    "        #no preprocessing:\n",
    "        #a=a[np.newaxis,...]\n",
    "        \n",
    "        predictions[i]=np.argmax(model.predict(a),1)\n",
    "        \n",
    "        p=categories[int(predictions[i])]\n",
    "        #plt.text(start+sr/4, 0.1, \"PRED \"+str(i), color='blue')\n",
    "        print(\"Window\",i,p)\n",
    "    \n",
    "        sEnds.append(time.time())\n",
    "    \n",
    "#plt.show()\n",
    "\n",
    "\n",
    "#Prediction Speed measure\n",
    "elapseds=[]\n",
    "for i in range(len(sStarts)):\n",
    "    elapseds.append(sEnds[i]-sStarts[i])\n",
    "\n",
    "\n",
    "print(\"\\nAverage prediction speed per window (ms):\",str(round(np.mean(elapseds)*1000,2)))\n",
    "#print(\"Total elapsed time (ms):\", str(round(np.mean(elapseds)*1000*len(elapseds),2)))\n",
    "\n"
   ]
  },
  {
   "cell_type": "markdown",
   "metadata": {},
   "source": [
    "### Fusion Rule"
   ]
  },
  {
   "cell_type": "code",
   "execution_count": 6,
   "metadata": {},
   "outputs": [
    {
     "name": "stdout",
     "output_type": "stream",
     "text": [
      "Window 0 Silence\n",
      "Window 1 Silence\n",
      "Window 2 Silence\n",
      "Window 3 Silence\n",
      "Window 4 yes\n",
      "Window 5 yes\n",
      "Window 6 yes\n",
      "Window 7 yes\n",
      "Window 8 yes\n",
      "Window 9 yes\n",
      "Window 10 Silence\n",
      "Window 11 Silence\n",
      "Window 12 Silence\n",
      "Window 13 Silence\n",
      "Window 14 Silence\n",
      "Window 15 Silence\n",
      "Window 16 Silence\n",
      "Window 17 Silence\n",
      "Window 18 no\n",
      "Window 19 no\n",
      "Window 20 no\n",
      "Window 21 no\n",
      "Window 22 no\n",
      "Window 23 no\n",
      "Window 24 no\n",
      "Window 25 no\n",
      "Window 26 Silence\n",
      "Window 27 Silence\n",
      "Window 28 Silence\n",
      "Window 29 Silence\n",
      "Window 30 Silence\n",
      "Window 31 down\n",
      "Window 32 down\n",
      "Window 33 down\n",
      "Window 34 down\n",
      "Window 35 down\n",
      "Window 36 down\n",
      "Window 37 down\n",
      "Window 38 down\n",
      "Window 39 down\n",
      "Window 40 down\n",
      "Window 41 Silence\n",
      "Window 42 Silence\n",
      "Window 43 Silence\n",
      "Window 44 left\n",
      "Window 45 left\n",
      "Window 46 left\n",
      "Window 47 left\n",
      "Window 48 left\n",
      "Window 49 left\n",
      "Window 50 left\n",
      "Window 51 left\n",
      "Window 52 left\n",
      "Window 53 Silence\n",
      "Window 54 Silence\n",
      "Window 55 Silence\n",
      "Window 56 Silence\n",
      "Window 57 Silence\n",
      "Window 58 Silence\n",
      "Window 59 Silence\n",
      "Window 60 Silence\n",
      "Window 61 Silence\n",
      "Window 62 Silence\n",
      "Window 63 Silence\n"
     ]
    }
   ],
   "source": [
    "#majority\n",
    "'''\n",
    "DFA\n",
    "         -1           any = No silence\n",
    "         ↓ ↑   any   ↓ ↑\n",
    "    --->(S1)--------->(S2)\n",
    "          ↑            |\n",
    "          --------------\n",
    "                -1 = Silence\n",
    "'''\n",
    "newPredictions=[]\n",
    "predictions=list(predictions)\n",
    "predictions+=[-1]*ws #add silence at the end (will be removed later)\n",
    "\n",
    "s1=True #true=s1, false=s2\n",
    "i=0\n",
    "start=0\n",
    "while i<len(predictions):\n",
    "    if s1: #state 1\n",
    "        if predictions[i]!=-1: #not silence\n",
    "            start=i\n",
    "            s1=False\n",
    "        else: #silence\n",
    "            newPredictions.append(-1)\n",
    "        i+=1\n",
    "    else: #state 2\n",
    "        if predictions[i]!=-1: #not silence\n",
    "            pass\n",
    "        else: #silence\n",
    "            end=i\n",
    "            a=predictions[start:end]\n",
    "            #calculate most common number in the list\n",
    "            ht={}\n",
    "            freq=0\n",
    "            most_freq=-1\n",
    "            for e in a:\n",
    "                e=int(e)\n",
    "                if e in ht:\n",
    "                    ht[e]+=1\n",
    "                    if ht[e]>freq:\n",
    "                        most_freq=e\n",
    "                        freq=ht[e]\n",
    "                else: ht[e]=0\n",
    "            newPredictions=newPredictions+[most_freq]*(end-start)\n",
    "            #append silence\n",
    "            newPredictions.append(-1)\n",
    "            s1=True\n",
    "        i+=1\n",
    "#print(newPredictions)\n",
    "\n",
    "# remove the silence added before\n",
    "del newPredictions[-ws:]\n",
    "\n",
    "for i in range(len(newPredictions)):\n",
    "    #if newPredictions[i]==-1: print(i,\"Read:\",predictions[i],newPredictions[i],\"Silence\")\n",
    "    #else: print(i,\"Read:\",predictions[i],newPredictions[i],categories[newPredictions[i]])\n",
    "    if newPredictions[i]==-1: print(\"Window\",i,\"Silence\")\n",
    "    else: print(\"Window\",i,categories[newPredictions[i]])"
   ]
  },
  {
   "cell_type": "code",
   "execution_count": 7,
   "metadata": {
    "scrolled": true
   },
   "outputs": [
    {
     "data": {
      "image/png": "[encoded data removed]",
      "text/plain": [
       "<Figure size 1080x360 with 1 Axes>"
      ]
     },
     "metadata": {
      "needs_background": "light"
     },
     "output_type": "display_data"
    }
   ],
   "source": [
    "# Plot\n",
    "plt.figure(figsize=(15, 5))\n",
    "plt.plot(myrec,label=\"Silence\")\n",
    "plt.xlabel(\"Samples\")\n",
    "plt.ylabel(\"Intensity\")\n",
    "plt.xlim(-1000, len(myrec))\n",
    "\n",
    "\n",
    "\n",
    "i=1\n",
    "splitted=[]\n",
    "chunk=[newPredictions[i]]\n",
    "while i <len(newPredictions):\n",
    "    if newPredictions[i]==newPredictions[i-1]:\n",
    "        chunk.append(newPredictions[i])\n",
    "    else:\n",
    "        splitted.append(chunk)\n",
    "        chunk=[newPredictions[i]]\n",
    "    i+=1\n",
    "splitted.append(chunk)\n",
    "\n",
    "\n",
    "labels=[]\n",
    "yaxis=[]\n",
    "xaxis=[]\n",
    "start=step\n",
    "for j in range(len(splitted)):\n",
    "    k=len(splitted[j])\n",
    "    if splitted[j][0]!=-1:\n",
    "        labels.append(categories[splitted[j][0]])\n",
    "        yaxis.append(myrec[start:sr+start+step*(k-2)])\n",
    "        xaxis.append(list(range(start,sr+start+step*(k-2))))\n",
    "    start+=step*k\n",
    "\n",
    "\n",
    "    \n",
    "for i in range(len(yaxis)):\n",
    "    plt.plot(xaxis[i],yaxis[i], label=labels[i])\n",
    "    #plt.vlines(xaxis[i][0], np.min(myrec), np.max(myrec), colors='k',linestyles='dashed')\n",
    "    #plt.vlines(xaxis[i][-1], np.min(myrec), np.max(myrec), colors='k',linestyles='dashed')\n",
    "    plt.text(xaxis[i][0]-step//2+(xaxis[i][-1]-xaxis[i][0])//2, np.min(myrec), labels[i], color='k',fontsize=20)\n",
    "\n",
    "plt.legend()\n",
    "plt.show()"
   ]
  },
  {
   "cell_type": "code",
   "execution_count": null,
   "metadata": {},
   "outputs": [],
   "source": []
  },
  {
   "cell_type": "code",
   "execution_count": null,
   "metadata": {},
   "outputs": [],
   "source": []
  },
  {
   "cell_type": "code",
   "execution_count": null,
   "metadata": {},
   "outputs": [],
   "source": []
  }
 ],
 "metadata": {
  "kernelspec": {
   "display_name": "gputest",
   "language": "python",
   "name": "gputest"
  },
  "language_info": {
   "codemirror_mode": {
    "name": "ipython",
    "version": 3
   },
   "file_extension": ".py",
   "mimetype": "text/x-python",
   "name": "python",
   "nbconvert_exporter": "python",
   "pygments_lexer": "ipython3",
   "version": "3.7.7"
  }
 },
 "nbformat": 4,
 "nbformat_minor": 4
}
