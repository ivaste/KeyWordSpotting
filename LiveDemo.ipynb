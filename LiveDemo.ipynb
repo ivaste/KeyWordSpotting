{
 "cells": [
  {
   "cell_type": "markdown",
   "metadata": {},
   "source": [
    "# KeyWordSpotting - LIVE DEMO"
   ]
  },
  {
   "cell_type": "code",
   "execution_count": 1,
   "metadata": {},
   "outputs": [],
   "source": [
    "#Imports\n",
    "import librosa\n",
    "import numpy as np\n",
    "import matplotlib.pyplot as plt\n",
    "import sounddevice as sd\n",
    "import Models #Our models\n",
    "#......................."
   ]
  },
  {
   "cell_type": "markdown",
   "metadata": {},
   "source": [
    "## 1) Audio Input\n",
    "### Recording from microphone"
   ]
  },
  {
   "cell_type": "code",
   "execution_count": 10,
   "metadata": {},
   "outputs": [],
   "source": [
    "sr = 16000\n",
    "seconds = 10\n",
    "\n",
    "myrec = sd.rec(int(sr*seconds), samplerate=sr, channels=1)\n",
    "sd.wait()\n",
    "\n",
    "np.save('LiveDemo/myrec.npy', myrec)"
   ]
  },
  {
   "cell_type": "markdown",
   "metadata": {},
   "source": [
    "### Reading it from a numpy array"
   ]
  },
  {
   "cell_type": "code",
   "execution_count": 2,
   "metadata": {},
   "outputs": [],
   "source": [
    "sr=16000\n",
    "myrec = np.load(\"LiveDemo/ONaudioclip.npy\")"
   ]
  },
  {
   "cell_type": "markdown",
   "metadata": {},
   "source": [
    "### Reading it from a wav file"
   ]
  },
  {
   "cell_type": "code",
   "execution_count": null,
   "metadata": {},
   "outputs": [],
   "source": [
    "myrec, sr = librosa.load(\"LiveDemo/audioclip.wav\", sr=None)"
   ]
  },
  {
   "cell_type": "markdown",
   "metadata": {},
   "source": [
    "### Audio Clip Informations"
   ]
  },
  {
   "cell_type": "code",
   "execution_count": 11,
   "metadata": {},
   "outputs": [
    {
     "name": "stdout",
     "output_type": "stream",
     "text": [
      "Sample rate = 16000 samples/s\n",
      "Duration t = 10.0 s\n"
     ]
    },
    {
     "data": {
      "image/png": "[encoded data removed]",
      "text/plain": [
       "<Figure size 1080x576 with 1 Axes>"
      ]
     },
     "metadata": {
      "needs_background": "light"
     },
     "output_type": "display_data"
    }
   ],
   "source": [
    "print(\"Sample rate = \" + str(sr) + \" samples/s\")\n",
    "print(\"Duration t = \" + str(len(myrec) / sr) + \" s\")\n",
    "\n",
    "# Play it\n",
    "play = True\n",
    "if play:\n",
    "    sd.play(myrec, sr)\n",
    "    \n",
    "# Plot\n",
    "plt.figure(figsize=(15, 8))\n",
    "plt.plot(myrec)\n",
    "plt.xlabel(\"Samples\")\n",
    "plt.ylabel(\"Intensity\")\n",
    "plt.xlim(0, len(myrec))\n",
    "plt.show()"
   ]
  },
  {
   "cell_type": "markdown",
   "metadata": {},
   "source": [
    "## 2) Load Model"
   ]
  },
  {
   "cell_type": "code",
   "execution_count": null,
   "metadata": {},
   "outputs": [],
   "source": []
  },
  {
   "cell_type": "code",
   "execution_count": null,
   "metadata": {},
   "outputs": [],
   "source": []
  },
  {
   "cell_type": "markdown",
   "metadata": {},
   "source": [
    "## 3) ..."
   ]
  },
  {
   "cell_type": "markdown",
   "metadata": {},
   "source": [
    "### Silince Filter"
   ]
  },
  {
   "cell_type": "code",
   "execution_count": null,
   "metadata": {},
   "outputs": [],
   "source": [
    "#......"
   ]
  },
  {
   "cell_type": "markdown",
   "metadata": {},
   "source": [
    "### Sliding Window\n",
    "A 1 second window will slide left to right with a step of 1600 samples (100ms) in order to have 10 windows per second \n",
    "\n"
   ]
  },
  {
   "cell_type": "code",
   "execution_count": 26,
   "metadata": {},
   "outputs": [
    {
     "name": "stdout",
     "output_type": "stream",
     "text": [
      "Number of windows: 100\n",
      "0 1600 (1600, 1)\n",
      "1600 3200 (1600, 1)\n",
      "3200 4800 (1600, 1)\n",
      "4800 6400 (1600, 1)\n",
      "6400 8000 (1600, 1)\n",
      "8000 9600 (1600, 1)\n",
      "9600 11200 (1600, 1)\n",
      "11200 12800 (1600, 1)\n",
      "12800 14400 (1600, 1)\n",
      "14400 16000 (1600, 1)\n",
      "16000 17600 (1600, 1)\n",
      "17600 19200 (1600, 1)\n",
      "19200 20800 (1600, 1)\n",
      "20800 22400 (1600, 1)\n",
      "22400 24000 (1600, 1)\n",
      "24000 25600 (1600, 1)\n",
      "25600 27200 (1600, 1)\n",
      "27200 28800 (1600, 1)\n",
      "28800 30400 (1600, 1)\n",
      "30400 32000 (1600, 1)\n",
      "32000 33600 (1600, 1)\n",
      "33600 35200 (1600, 1)\n",
      "35200 36800 (1600, 1)\n",
      "36800 38400 (1600, 1)\n",
      "38400 40000 (1600, 1)\n",
      "40000 41600 (1600, 1)\n",
      "41600 43200 (1600, 1)\n",
      "43200 44800 (1600, 1)\n",
      "44800 46400 (1600, 1)\n",
      "46400 48000 (1600, 1)\n",
      "48000 49600 (1600, 1)\n",
      "49600 51200 (1600, 1)\n",
      "51200 52800 (1600, 1)\n",
      "52800 54400 (1600, 1)\n",
      "54400 56000 (1600, 1)\n",
      "56000 57600 (1600, 1)\n",
      "57600 59200 (1600, 1)\n",
      "59200 60800 (1600, 1)\n",
      "60800 62400 (1600, 1)\n",
      "62400 64000 (1600, 1)\n",
      "64000 65600 (1600, 1)\n",
      "65600 67200 (1600, 1)\n",
      "67200 68800 (1600, 1)\n",
      "68800 70400 (1600, 1)\n",
      "70400 72000 (1600, 1)\n",
      "72000 73600 (1600, 1)\n",
      "73600 75200 (1600, 1)\n",
      "75200 76800 (1600, 1)\n",
      "76800 78400 (1600, 1)\n",
      "78400 80000 (1600, 1)\n",
      "80000 81600 (1600, 1)\n",
      "81600 83200 (1600, 1)\n",
      "83200 84800 (1600, 1)\n",
      "84800 86400 (1600, 1)\n",
      "86400 88000 (1600, 1)\n",
      "88000 89600 (1600, 1)\n",
      "89600 91200 (1600, 1)\n",
      "91200 92800 (1600, 1)\n",
      "92800 94400 (1600, 1)\n",
      "94400 96000 (1600, 1)\n",
      "96000 97600 (1600, 1)\n",
      "97600 99200 (1600, 1)\n",
      "99200 100800 (1600, 1)\n",
      "100800 102400 (1600, 1)\n",
      "102400 104000 (1600, 1)\n",
      "104000 105600 (1600, 1)\n",
      "105600 107200 (1600, 1)\n",
      "107200 108800 (1600, 1)\n",
      "108800 110400 (1600, 1)\n",
      "110400 112000 (1600, 1)\n",
      "112000 113600 (1600, 1)\n",
      "113600 115200 (1600, 1)\n",
      "115200 116800 (1600, 1)\n",
      "116800 118400 (1600, 1)\n",
      "118400 120000 (1600, 1)\n",
      "120000 121600 (1600, 1)\n",
      "121600 123200 (1600, 1)\n",
      "123200 124800 (1600, 1)\n",
      "124800 126400 (1600, 1)\n",
      "126400 128000 (1600, 1)\n",
      "128000 129600 (1600, 1)\n",
      "129600 131200 (1600, 1)\n",
      "131200 132800 (1600, 1)\n",
      "132800 134400 (1600, 1)\n",
      "134400 136000 (1600, 1)\n",
      "136000 137600 (1600, 1)\n",
      "137600 139200 (1600, 1)\n",
      "139200 140800 (1600, 1)\n",
      "140800 142400 (1600, 1)\n",
      "142400 144000 (1600, 1)\n",
      "144000 145600 (1600, 1)\n",
      "145600 147200 (1600, 1)\n",
      "147200 148800 (1600, 1)\n",
      "148800 150400 (1600, 1)\n",
      "150400 152000 (1600, 1)\n",
      "152000 153600 (1600, 1)\n",
      "153600 155200 (1600, 1)\n",
      "155200 156800 (1600, 1)\n",
      "156800 158400 (1600, 1)\n",
      "158400 160000 (1600, 1)\n"
     ]
    }
   ],
   "source": [
    "ws=10 #windows per second\n",
    "nwin=int(ws*len(myrec)/sr) #number of windows\n",
    "windows=np.empty((nwin,sr,1))\n",
    "predictions=[]\n",
    "\n",
    "print(\"Number of windows:\",nwin)\n",
    "\n",
    "for i in range(nwin):\n",
    "    start=int(i*sr/ws)\n",
    "    end=int((i+1)*sr/ws)##############################################àà\n",
    "    print(start,end,myrec[start:end].shape)\n",
    "    \n",
    "    #windows[i]=myrec[start:end]\n"
   ]
  },
  {
   "cell_type": "code",
   "execution_count": null,
   "metadata": {},
   "outputs": [],
   "source": []
  },
  {
   "cell_type": "code",
   "execution_count": null,
   "metadata": {},
   "outputs": [],
   "source": []
  },
  {
   "cell_type": "code",
   "execution_count": null,
   "metadata": {},
   "outputs": [],
   "source": []
  },
  {
   "cell_type": "code",
   "execution_count": null,
   "metadata": {},
   "outputs": [],
   "source": []
  },
  {
   "cell_type": "code",
   "execution_count": null,
   "metadata": {},
   "outputs": [],
   "source": []
  },
  {
   "cell_type": "code",
   "execution_count": null,
   "metadata": {},
   "outputs": [],
   "source": []
  }
 ],
 "metadata": {
  "kernelspec": {
   "display_name": "gputest",
   "language": "python",
   "name": "gputest"
  },
  "language_info": {
   "codemirror_mode": {
    "name": "ipython",
    "version": 3
   },
   "file_extension": ".py",
   "mimetype": "text/x-python",
   "name": "python",
   "nbconvert_exporter": "python",
   "pygments_lexer": "ipython3",
   "version": "3.7.7"
  }
 },
 "nbformat": 4,
 "nbformat_minor": 4
}
