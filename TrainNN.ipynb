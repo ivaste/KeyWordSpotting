{
 "cells": [
  {
   "cell_type": "markdown",
   "metadata": {},
   "source": [
    "# 1) Prepare X_train, X_val, y_train, y_val"
   ]
  },
  {
   "cell_type": "code",
   "execution_count": 1,
   "metadata": {},
   "outputs": [],
   "source": [
    "import LoadAndPreprocessDataset"
   ]
  },
  {
   "cell_type": "code",
   "execution_count": 2,
   "metadata": {},
   "outputs": [
    {
     "name": "stdout",
     "output_type": "stream",
     "text": [
      "(10000, 36, 126) (1000, 36, 126)\n",
      "(10000, 36, 126, 1) (1000, 36, 126, 1)\n"
     ]
    }
   ],
   "source": [
    "#Load filenames\n",
    "train,val,test = LoadAndPreprocessDataset.loadDatasetFilenames()\n",
    "\n",
    "#Load TRAIN files\n",
    "X,y_train=LoadAndPreprocessDataset.loadBatch(train,batch_size=10000)\n",
    "#Preprocess TRAIN\n",
    "X_train=LoadAndPreprocessDataset.MFCC_DELTA(X,n_mfcc=12)\n",
    "#X_train=LoadAndPreprocessDataset.MFCC(X,n_mfcc=40)\n",
    "#Release memory\n",
    "del(X)\n",
    "\n",
    "#Load VAL files\n",
    "X,y_val=LoadAndPreprocessDataset.loadBatch(val,batch_size=1000)\n",
    "#Preprocess VAL\n",
    "X_val=LoadAndPreprocessDataset.MFCC_DELTA(X,n_mfcc=12)\n",
    "#X_val=LoadAndPreprocessDataset.MFCC(X,n_mfcc=40)\n",
    "#Release memory\n",
    "del(X)\n",
    "\n",
    "print(X_train.shape,X_val.shape)\n",
    "\n",
    "#ADD extra dimension for CNN\n",
    "import numpy as np\n",
    "X_train = X_train[..., np.newaxis]\n",
    "X_val = X_val[..., np.newaxis]\n",
    "print(X_train.shape,X_val.shape)\n",
    "\n",
    "# NORMALIZATION\n",
    "### NO normalization seems better\n",
    "#from sklearn.preprocessing import normalize\n",
    "#from sklearn.preprocessing import MinMaxScaler\n",
    "#scaler = MinMaxScaler(feature_range=(-1,1)) # Gives huge bias\n",
    "#for i in range(len(X_train)):\n",
    "    #X_train[i]=normalize(X_train[i], axis=0, norm='max') #normalize each feature of the example\n",
    "    #X_train[i]=(X_train[i] - X_train[i].min(0)) / X_train[i].ptp(0) # HUGE BIAS\n",
    "    #X_train[i]=scaler.fit_transform(X_train[i]) # HUGE BIAS\n",
    "#for i in range(len(X_val)):\n",
    "    #X_val[i]=normalize(X_val[i], axis=0, norm='max') #normalize each feature of the example\n",
    "    #X_val[i]=(X_val[i] - X_val[i].min(0)) / X_val[i].ptp(0) #HUGE BIAS\n",
    "    #X_val[i]=scaler.fit_transform(X_val[i])  # HUGE BIAS\n",
    "\n",
    "\n"
   ]
  },
  {
   "cell_type": "code",
   "execution_count": 3,
   "metadata": {},
   "outputs": [
    {
     "name": "stdout",
     "output_type": "stream",
     "text": [
      "(10000, 36, 126, 1)\n",
      "(10000,)\n",
      "(1000, 36, 126, 1)\n",
      "(1000,)\n"
     ]
    },
    {
     "data": {
      "image/png": "[encoded data removed]",
      "text/plain": [
       "<Figure size 720x288 with 1 Axes>"
      ]
     },
     "metadata": {
      "needs_background": "light"
     },
     "output_type": "display_data"
    },
    {
     "data": {
      "image/png": "[encoded data removed]",
      "text/plain": [
       "<Figure size 720x288 with 1 Axes>"
      ]
     },
     "metadata": {
      "needs_background": "light"
     },
     "output_type": "display_data"
    },
    {
     "name": "stdout",
     "output_type": "stream",
     "text": [
      "-715.541748046875\n",
      "151.89212036132812\n"
     ]
    },
    {
     "data": {
      "text/plain": [
       "'for i in range(len(X_train[1])):\\n    print(i,np.min(X_train[1,i]),np.max(X_train[1,i]))\\nprint(X_train[1].shape)'"
      ]
     },
     "execution_count": 3,
     "metadata": {},
     "output_type": "execute_result"
    }
   ],
   "source": [
    "# Look at some data\n",
    "\n",
    "print(X_train.shape)\n",
    "print(y_train.shape)\n",
    "print(X_val.shape)\n",
    "print(y_val.shape)\n",
    "\n",
    "import matplotlib.pyplot as plt\n",
    "plt.figure(figsize=(10, 4))\n",
    "plt.pcolormesh(X_train[0,:,:,0])\n",
    "plt.show()\n",
    "\n",
    "plt.figure(figsize=(10, 4))\n",
    "plt.pcolormesh(X_val[0,:,:,0])\n",
    "plt.show()\n",
    "\n",
    "import numpy as np\n",
    "print(np.min(X_train))\n",
    "print(np.max(X_train))\n",
    "\n",
    "'''for i in range(len(X_train[1])):\n",
    "    print(i,np.min(X_train[1,i]),np.max(X_train[1,i]))\n",
    "print(X_train[1].shape)'''"
   ]
  },
  {
   "cell_type": "markdown",
   "metadata": {},
   "source": [
    "----------------------------------------------------\n",
    "\n",
    "# 2) Model\n"
   ]
  },
  {
   "cell_type": "markdown",
   "metadata": {},
   "source": [
    "## Define NN"
   ]
  },
  {
   "cell_type": "code",
   "execution_count": 4,
   "metadata": {},
   "outputs": [],
   "source": [
    "import Models"
   ]
  },
  {
   "cell_type": "code",
   "execution_count": 16,
   "metadata": {},
   "outputs": [
    {
     "name": "stdout",
     "output_type": "stream",
     "text": [
      "Model: \"AttRNNSpeechModel\"\n",
      "__________________________________________________________________________________________________\n",
      "Layer (type)                    Output Shape         Param #     Connected to                     \n",
      "==================================================================================================\n",
      "input_4 (InputLayer)            [(None, 36, 126, 1)] 0                                            \n",
      "__________________________________________________________________________________________________\n",
      "conv2d_6 (Conv2D)               (None, 36, 126, 10)  260         input_4[0][0]                    \n",
      "__________________________________________________________________________________________________\n",
      "batch_normalization_2 (BatchNor (None, 36, 126, 10)  40          conv2d_6[0][0]                   \n",
      "__________________________________________________________________________________________________\n",
      "conv2d_7 (Conv2D)               (None, 36, 126, 1)   251         batch_normalization_2[0][0]      \n",
      "__________________________________________________________________________________________________\n",
      "batch_normalization_3 (BatchNor (None, 36, 126, 1)   4           conv2d_7[0][0]                   \n",
      "__________________________________________________________________________________________________\n",
      "squeeze_last_dim (Lambda)       (None, 36, 126)      0           batch_normalization_3[0][0]      \n",
      "__________________________________________________________________________________________________\n",
      "bidirectional_2 (Bidirectional) (None, 36, 128)      97792       squeeze_last_dim[0][0]           \n",
      "__________________________________________________________________________________________________\n",
      "bidirectional_3 (Bidirectional) (None, 36, 128)      98816       bidirectional_2[0][0]            \n",
      "__________________________________________________________________________________________________\n",
      "lambda_1 (Lambda)               (None, 128)          0           bidirectional_3[0][0]            \n",
      "__________________________________________________________________________________________________\n",
      "dense_7 (Dense)                 (None, 128)          16512       lambda_1[0][0]                   \n",
      "__________________________________________________________________________________________________\n",
      "dot_2 (Dot)                     (None, 36)           0           dense_7[0][0]                    \n",
      "                                                                 bidirectional_3[0][0]            \n",
      "__________________________________________________________________________________________________\n",
      "attSoftmax (Softmax)            (None, 36)           0           dot_2[0][0]                      \n",
      "__________________________________________________________________________________________________\n",
      "dot_3 (Dot)                     (None, 128)          0           attSoftmax[0][0]                 \n",
      "                                                                 bidirectional_3[0][0]            \n",
      "__________________________________________________________________________________________________\n",
      "dense_8 (Dense)                 (None, 64)           8256        dot_3[0][0]                      \n",
      "__________________________________________________________________________________________________\n",
      "dense_9 (Dense)                 (None, 32)           2080        dense_8[0][0]                    \n",
      "__________________________________________________________________________________________________\n",
      "output (Dense)                  (None, 10)           330         dense_9[0][0]                    \n",
      "==================================================================================================\n",
      "Total params: 224,341\n",
      "Trainable params: 224,319\n",
      "Non-trainable params: 22\n",
      "__________________________________________________________________________________________________\n"
     ]
    }
   ],
   "source": [
    "categories=['yes','no','up','down','left','right','on','off','stop','go']\n",
    "nCategories=len(categories)\n",
    "\n",
    "\n",
    "import datetime\n",
    "modelName=\"AttRNNSpeechModel\"\n",
    "save_name=datetime.datetime.now().strftime(\"%Y-%m-%d_%H-%M\")+\"_\"+modelName\n",
    "\n",
    "model = Models.LeNet5(nCategories,\n",
    "                        inputShape=X_train.shape[1:],\n",
    "                        name=modelName)\n",
    "model = Models.AttRNNSpeechModel(nCategories,\n",
    "                        inputShape=X_train.shape[1:],\n",
    "                        name=modelName)\n",
    "\n",
    "\n",
    "model.compile(optimizer='Nadam',\n",
    "              loss=['sparse_categorical_crossentropy'],\n",
    "              metrics=['sparse_categorical_accuracy'])\n",
    "\n",
    "model.summary()"
   ]
  },
  {
   "cell_type": "markdown",
   "metadata": {},
   "source": [
    "## Train NN"
   ]
  },
  {
   "cell_type": "code",
   "execution_count": 17,
   "metadata": {},
   "outputs": [],
   "source": [
    "from tensorflow.keras.callbacks import EarlyStopping, ModelCheckpoint, LearningRateScheduler, TensorBoard\n",
    "import math\n",
    "\n",
    "\n",
    "log_dir = \"logs\\\\\"+save_name\n",
    "\n",
    "def step_decay(epoch):\n",
    "    initial_lrate = 0.001\n",
    "    drop = 0.4\n",
    "    epochs_drop = 15.0\n",
    "    lrate = initial_lrate * math.pow(drop, math.floor((1+epoch)/epochs_drop))\n",
    "    \n",
    "    if (lrate < 4e-5):\n",
    "        lrate = 4e-5\n",
    "      \n",
    "    print('Changing learning rate to {}'.format(lrate))\n",
    "    return lrate\n",
    "lrate = LearningRateScheduler(step_decay)\n",
    "\n",
    "def performance_scheduling(epoch):\n",
    "    #.....\n",
    "    return lrate\n",
    "\n",
    "my_callbacks = [\n",
    "    EarlyStopping(monitor='val_sparse_categorical_accuracy',\n",
    "                  patience=20,\n",
    "                  verbose=1,\n",
    "                  restore_best_weights=True),\n",
    "    ModelCheckpoint('models/'+save_name+'.h5',\n",
    "                    monitor='val_sparse_categorical_accuracy',\n",
    "                    verbose=1,\n",
    "                    save_best_only=True),\n",
    "    TensorBoard(log_dir=log_dir,histogram_freq=1)]\n",
    "    #lrate]\n"
   ]
  },
  {
   "cell_type": "code",
   "execution_count": 18,
   "metadata": {},
   "outputs": [
    {
     "name": "stdout",
     "output_type": "stream",
     "text": [
      "Train on 10000 samples, validate on 1000 samples\n",
      "Changing learning rate to 0.001\n",
      "Epoch 1/60\n",
      " 9984/10000 [============================>.] - ETA: 0s - loss: 1.8181 - sparse_categorical_accuracy: 0.3228\n",
      "Epoch 00001: val_sparse_categorical_accuracy improved from -inf to 0.30900, saving model to models/2020-07-19_18-21_AttRNNSpeechModel.h5\n",
      "10000/10000 [==============================] - 18s 2ms/sample - loss: 1.8176 - sparse_categorical_accuracy: 0.3230 - val_loss: 1.9836 - val_sparse_categorical_accuracy: 0.3090\n",
      "Changing learning rate to 0.001\n",
      "Epoch 2/60\n",
      " 9920/10000 [============================>.] - ETA: 0s - loss: 1.1992 - sparse_categorical_accuracy: 0.5619\n",
      "Epoch 00002: val_sparse_categorical_accuracy improved from 0.30900 to 0.59100, saving model to models/2020-07-19_18-21_AttRNNSpeechModel.h5\n",
      "10000/10000 [==============================] - 8s 841us/sample - loss: 1.1976 - sparse_categorical_accuracy: 0.5628 - val_loss: 1.1417 - val_sparse_categorical_accuracy: 0.5910\n",
      "Changing learning rate to 0.001\n",
      "Epoch 3/60\n",
      " 9984/10000 [============================>.] - ETA: 0s - loss: 0.9312 - sparse_categorical_accuracy: 0.6686\n",
      "Epoch 00003: val_sparse_categorical_accuracy improved from 0.59100 to 0.63800, saving model to models/2020-07-19_18-21_AttRNNSpeechModel.h5\n",
      "10000/10000 [==============================] - 8s 836us/sample - loss: 0.9314 - sparse_categorical_accuracy: 0.6684 - val_loss: 0.9985 - val_sparse_categorical_accuracy: 0.6380\n",
      "Changing learning rate to 0.001\n",
      "Epoch 4/60\n",
      " 9952/10000 [============================>.] - ETA: 0s - loss: 0.7696 - sparse_categorical_accuracy: 0.7229\n",
      "Epoch 00004: val_sparse_categorical_accuracy improved from 0.63800 to 0.67100, saving model to models/2020-07-19_18-21_AttRNNSpeechModel.h5\n",
      "10000/10000 [==============================] - 8s 834us/sample - loss: 0.7697 - sparse_categorical_accuracy: 0.7227 - val_loss: 0.9443 - val_sparse_categorical_accuracy: 0.6710\n",
      "Changing learning rate to 0.001\n",
      "Epoch 5/60\n",
      " 9952/10000 [============================>.] - ETA: 0s - loss: 0.6453 - sparse_categorical_accuracy: 0.7706\n",
      "Epoch 00005: val_sparse_categorical_accuracy improved from 0.67100 to 0.71200, saving model to models/2020-07-19_18-21_AttRNNSpeechModel.h5\n",
      "10000/10000 [==============================] - 9s 900us/sample - loss: 0.6453 - sparse_categorical_accuracy: 0.7707 - val_loss: 0.8480 - val_sparse_categorical_accuracy: 0.7120\n",
      "Changing learning rate to 0.001\n",
      "Epoch 6/60\n",
      " 9984/10000 [============================>.] - ETA: 0s - loss: 0.5461 - sparse_categorical_accuracy: 0.8042- ETA: 2s - loss:\n",
      "Epoch 00006: val_sparse_categorical_accuracy did not improve from 0.71200\n",
      "10000/10000 [==============================] - 9s 890us/sample - loss: 0.5460 - sparse_categorical_accuracy: 0.8042 - val_loss: 0.9005 - val_sparse_categorical_accuracy: 0.6880\n",
      "Changing learning rate to 0.001\n",
      "Epoch 7/60\n",
      " 9952/10000 [============================>.] - ETA: 0s - loss: 0.4583 - sparse_categorical_accuracy: 0.8356\n",
      "Epoch 00007: val_sparse_categorical_accuracy did not improve from 0.71200\n",
      "10000/10000 [==============================] - 9s 875us/sample - loss: 0.4578 - sparse_categorical_accuracy: 0.8361 - val_loss: 0.8869 - val_sparse_categorical_accuracy: 0.7020\n",
      "Changing learning rate to 0.001\n",
      "Epoch 8/60\n",
      " 9952/10000 [============================>.] - ETA: 0s - loss: 0.3753 - sparse_categorical_accuracy: 0.8619\n",
      "Epoch 00008: val_sparse_categorical_accuracy improved from 0.71200 to 0.73000, saving model to models/2020-07-19_18-21_AttRNNSpeechModel.h5\n",
      "10000/10000 [==============================] - 9s 864us/sample - loss: 0.3761 - sparse_categorical_accuracy: 0.8614 - val_loss: 0.9129 - val_sparse_categorical_accuracy: 0.7300\n",
      "Changing learning rate to 0.001\n",
      "Epoch 9/60\n",
      " 9952/10000 [============================>.] - ETA: 0s - loss: 0.3085 - sparse_categorical_accuracy: 0.8875\n",
      "Epoch 00009: val_sparse_categorical_accuracy did not improve from 0.73000\n",
      "10000/10000 [==============================] - 9s 893us/sample - loss: 0.3093 - sparse_categorical_accuracy: 0.8870 - val_loss: 1.0337 - val_sparse_categorical_accuracy: 0.7110\n",
      "Changing learning rate to 0.001\n",
      "Epoch 10/60\n",
      " 9952/10000 [============================>.] - ETA: 0s - loss: 0.2724 - sparse_categorical_accuracy: 0.9030\n",
      "Epoch 00010: val_sparse_categorical_accuracy did not improve from 0.73000\n",
      "10000/10000 [==============================] - 9s 902us/sample - loss: 0.2730 - sparse_categorical_accuracy: 0.9028 - val_loss: 1.1218 - val_sparse_categorical_accuracy: 0.6960\n",
      "Changing learning rate to 0.001\n",
      "Epoch 11/60\n",
      " 9984/10000 [============================>.] - ETA: 0s - loss: 0.2152 - sparse_categorical_accuracy: 0.9233\n",
      "Epoch 00011: val_sparse_categorical_accuracy did not improve from 0.73000\n",
      "10000/10000 [==============================] - 9s 889us/sample - loss: 0.2155 - sparse_categorical_accuracy: 0.9232 - val_loss: 1.1865 - val_sparse_categorical_accuracy: 0.6990\n",
      "Changing learning rate to 0.001\n",
      "Epoch 12/60\n",
      " 9920/10000 [============================>.] - ETA: 0s - loss: 0.2098 - sparse_categorical_accuracy: 0.9227\n",
      "Epoch 00012: val_sparse_categorical_accuracy did not improve from 0.73000\n",
      "10000/10000 [==============================] - 9s 854us/sample - loss: 0.2099 - sparse_categorical_accuracy: 0.9226 - val_loss: 1.1476 - val_sparse_categorical_accuracy: 0.7100\n",
      "Changing learning rate to 0.001\n",
      "Epoch 13/60\n",
      " 9984/10000 [============================>.] - ETA: 0s - loss: 0.1581 - sparse_categorical_accuracy: 0.9427\n",
      "Epoch 00013: val_sparse_categorical_accuracy did not improve from 0.73000\n",
      "10000/10000 [==============================] - 9s 866us/sample - loss: 0.1580 - sparse_categorical_accuracy: 0.9428 - val_loss: 1.3290 - val_sparse_categorical_accuracy: 0.6960\n",
      "Changing learning rate to 0.001\n",
      "Epoch 14/60\n",
      " 9952/10000 [============================>.] - ETA: 0s - loss: 0.1699 - sparse_categorical_accuracy: 0.9409\n",
      "Epoch 00014: val_sparse_categorical_accuracy did not improve from 0.73000\n",
      "10000/10000 [==============================] - 9s 890us/sample - loss: 0.1693 - sparse_categorical_accuracy: 0.9411 - val_loss: 1.3273 - val_sparse_categorical_accuracy: 0.6980\n",
      "Changing learning rate to 0.0004\n",
      "Epoch 15/60\n",
      " 9952/10000 [============================>.] - ETA: 0s - loss: 0.0515 - sparse_categorical_accuracy: 0.9860\n",
      "Epoch 00015: val_sparse_categorical_accuracy did not improve from 0.73000\n",
      "10000/10000 [==============================] - 8s 843us/sample - loss: 0.0514 - sparse_categorical_accuracy: 0.9861 - val_loss: 1.2737 - val_sparse_categorical_accuracy: 0.7290\n",
      "Changing learning rate to 0.0004\n",
      "Epoch 16/60\n",
      " 9952/10000 [============================>.] - ETA: 0s - loss: 0.0220 - sparse_categorical_accuracy: 0.9971\n",
      "Epoch 00016: val_sparse_categorical_accuracy improved from 0.73000 to 0.73600, saving model to models/2020-07-19_18-21_AttRNNSpeechModel.h5\n",
      "10000/10000 [==============================] - 9s 915us/sample - loss: 0.0219 - sparse_categorical_accuracy: 0.9971 - val_loss: 1.3230 - val_sparse_categorical_accuracy: 0.7360\n",
      "Changing learning rate to 0.0004\n",
      "Epoch 17/60\n",
      " 9984/10000 [============================>.] - ETA: 0s - loss: 0.0138 - sparse_categorical_accuracy: 0.9984\n",
      "Epoch 00017: val_sparse_categorical_accuracy did not improve from 0.73600\n",
      "10000/10000 [==============================] - 9s 852us/sample - loss: 0.0138 - sparse_categorical_accuracy: 0.9984 - val_loss: 1.3898 - val_sparse_categorical_accuracy: 0.7250\n",
      "Changing learning rate to 0.0004\n",
      "Epoch 18/60\n",
      " 9984/10000 [============================>.] - ETA: 0s - loss: 0.0093 - sparse_categorical_accuracy: 0.9991\n",
      "Epoch 00018: val_sparse_categorical_accuracy did not improve from 0.73600\n",
      "10000/10000 [==============================] - 9s 862us/sample - loss: 0.0095 - sparse_categorical_accuracy: 0.9990 - val_loss: 1.4607 - val_sparse_categorical_accuracy: 0.7270\n",
      "Changing learning rate to 0.0004\n",
      "Epoch 19/60\n",
      " 9952/10000 [============================>.] - ETA: 0s - loss: 0.0070 - sparse_categorical_accuracy: 0.9993\n",
      "Epoch 00019: val_sparse_categorical_accuracy did not improve from 0.73600\n",
      "10000/10000 [==============================] - 9s 874us/sample - loss: 0.0070 - sparse_categorical_accuracy: 0.9993 - val_loss: 1.5017 - val_sparse_categorical_accuracy: 0.7290\n",
      "Changing learning rate to 0.0004\n",
      "Epoch 20/60\n"
     ]
    },
    {
     "name": "stdout",
     "output_type": "stream",
     "text": [
      " 9984/10000 [============================>.] - ETA: 0s - loss: 0.0049 - sparse_categorical_accuracy: 0.9997\n",
      "Epoch 00020: val_sparse_categorical_accuracy did not improve from 0.73600\n",
      "10000/10000 [==============================] - 8s 848us/sample - loss: 0.0049 - sparse_categorical_accuracy: 0.9997 - val_loss: 1.5592 - val_sparse_categorical_accuracy: 0.7290\n",
      "Changing learning rate to 0.0004\n",
      "Epoch 21/60\n",
      " 9984/10000 [============================>.] - ETA: 0s - loss: 0.0035 - sparse_categorical_accuracy: 0.9997\n",
      "Epoch 00021: val_sparse_categorical_accuracy did not improve from 0.73600\n",
      "10000/10000 [==============================] - 9s 881us/sample - loss: 0.0035 - sparse_categorical_accuracy: 0.9997 - val_loss: 1.6109 - val_sparse_categorical_accuracy: 0.7260\n",
      "Changing learning rate to 0.0004\n",
      "Epoch 22/60\n",
      " 9952/10000 [============================>.] - ETA: 0s - loss: 0.0043 - sparse_categorical_accuracy: 0.9997\n",
      "Epoch 00022: val_sparse_categorical_accuracy did not improve from 0.73600\n",
      "10000/10000 [==============================] - 9s 888us/sample - loss: 0.0044 - sparse_categorical_accuracy: 0.9997 - val_loss: 1.6848 - val_sparse_categorical_accuracy: 0.7240\n",
      "Changing learning rate to 0.0004\n",
      "Epoch 23/60\n",
      " 9952/10000 [============================>.] - ETA: 0s - loss: 0.0661 - sparse_categorical_accuracy: 0.9790\n",
      "Epoch 00023: val_sparse_categorical_accuracy did not improve from 0.73600\n",
      "10000/10000 [==============================] - 9s 861us/sample - loss: 0.0663 - sparse_categorical_accuracy: 0.9789 - val_loss: 1.6863 - val_sparse_categorical_accuracy: 0.7040\n",
      "Changing learning rate to 0.0004\n",
      "Epoch 24/60\n",
      " 9984/10000 [============================>.] - ETA: 0s - loss: 0.0472 - sparse_categorical_accuracy: 0.9848\n",
      "Epoch 00024: val_sparse_categorical_accuracy did not improve from 0.73600\n",
      "10000/10000 [==============================] - 9s 873us/sample - loss: 0.0471 - sparse_categorical_accuracy: 0.9848 - val_loss: 1.6356 - val_sparse_categorical_accuracy: 0.7120\n",
      "Changing learning rate to 0.0004\n",
      "Epoch 25/60\n",
      " 9952/10000 [============================>.] - ETA: 0s - loss: 0.0163 - sparse_categorical_accuracy: 0.9967\n",
      "Epoch 00025: val_sparse_categorical_accuracy did not improve from 0.73600\n",
      "10000/10000 [==============================] - 9s 854us/sample - loss: 0.0163 - sparse_categorical_accuracy: 0.9967 - val_loss: 1.7634 - val_sparse_categorical_accuracy: 0.7070\n",
      "Changing learning rate to 0.0004\n",
      "Epoch 26/60\n",
      " 9984/10000 [============================>.] - ETA: 0s - loss: 0.0064 - sparse_categorical_accuracy: 0.9993\n",
      "Epoch 00026: val_sparse_categorical_accuracy did not improve from 0.73600\n",
      "10000/10000 [==============================] - 9s 853us/sample - loss: 0.0064 - sparse_categorical_accuracy: 0.9993 - val_loss: 1.7147 - val_sparse_categorical_accuracy: 0.7310\n",
      "Changing learning rate to 0.0004\n",
      "Epoch 27/60\n",
      " 9952/10000 [============================>.] - ETA: 0s - loss: 0.0035 - sparse_categorical_accuracy: 0.9997\n",
      "Epoch 00027: val_sparse_categorical_accuracy improved from 0.73600 to 0.73800, saving model to models/2020-07-19_18-21_AttRNNSpeechModel.h5\n",
      "10000/10000 [==============================] - 8s 841us/sample - loss: 0.0035 - sparse_categorical_accuracy: 0.9997 - val_loss: 1.7548 - val_sparse_categorical_accuracy: 0.7380\n",
      "Changing learning rate to 0.0004\n",
      "Epoch 28/60\n",
      " 9952/10000 [============================>.] - ETA: 0s - loss: 0.0045 - sparse_categorical_accuracy: 0.9992- ETA: 1s - loss: 0.0046 - sparse_categoric\n",
      "Epoch 00028: val_sparse_categorical_accuracy did not improve from 0.73800\n",
      "10000/10000 [==============================] - 9s 850us/sample - loss: 0.0045 - sparse_categorical_accuracy: 0.9992 - val_loss: 1.7841 - val_sparse_categorical_accuracy: 0.7330\n",
      "Changing learning rate to 0.0004\n",
      "Epoch 29/60\n",
      " 9984/10000 [============================>.] - ETA: 0s - loss: 0.0016 - sparse_categorical_accuracy: 1.0000\n",
      "Epoch 00029: val_sparse_categorical_accuracy did not improve from 0.73800\n",
      "10000/10000 [==============================] - 8s 834us/sample - loss: 0.0016 - sparse_categorical_accuracy: 1.0000 - val_loss: 1.8188 - val_sparse_categorical_accuracy: 0.7290\n",
      "Changing learning rate to 0.00016000000000000004\n",
      "Epoch 30/60\n",
      " 9952/10000 [============================>.] - ETA: 0s - loss: 9.2103e-04 - sparse_categorical_accuracy: 1.0000\n",
      "Epoch 00030: val_sparse_categorical_accuracy did not improve from 0.73800\n",
      "10000/10000 [==============================] - 8s 818us/sample - loss: 9.1947e-04 - sparse_categorical_accuracy: 1.0000 - val_loss: 1.8441 - val_sparse_categorical_accuracy: 0.7260\n",
      "Changing learning rate to 0.00016000000000000004\n",
      "Epoch 31/60\n",
      " 9920/10000 [============================>.] - ETA: 0s - loss: 7.4932e-04 - sparse_categorical_accuracy: 1.0000\n",
      "Epoch 00031: val_sparse_categorical_accuracy did not improve from 0.73800\n",
      "10000/10000 [==============================] - 8s 820us/sample - loss: 7.4773e-04 - sparse_categorical_accuracy: 1.0000 - val_loss: 1.8554 - val_sparse_categorical_accuracy: 0.7300\n",
      "Changing learning rate to 0.00016000000000000004\n",
      "Epoch 32/60\n",
      " 9952/10000 [============================>.] - ETA: 0s - loss: 6.7883e-04 - sparse_categorical_accuracy: 1.0000\n",
      "Epoch 00032: val_sparse_categorical_accuracy did not improve from 0.73800\n",
      "10000/10000 [==============================] - 8s 819us/sample - loss: 6.7893e-04 - sparse_categorical_accuracy: 1.0000 - val_loss: 1.8625 - val_sparse_categorical_accuracy: 0.7290\n",
      "Changing learning rate to 0.00016000000000000004\n",
      "Epoch 33/60\n",
      " 9952/10000 [============================>.] - ETA: 0s - loss: 5.9974e-04 - sparse_categorical_accuracy: 1.0000\n",
      "Epoch 00033: val_sparse_categorical_accuracy did not improve from 0.73800\n",
      "10000/10000 [==============================] - 8s 846us/sample - loss: 6.0091e-04 - sparse_categorical_accuracy: 1.0000 - val_loss: 1.8753 - val_sparse_categorical_accuracy: 0.7340\n",
      "Changing learning rate to 0.00016000000000000004\n",
      "Epoch 34/60\n",
      " 9984/10000 [============================>.] - ETA: 0s - loss: 5.4030e-04 - sparse_categorical_accuracy: 1.0000\n",
      "Epoch 00034: val_sparse_categorical_accuracy did not improve from 0.73800\n",
      "10000/10000 [==============================] - 8s 848us/sample - loss: 5.3990e-04 - sparse_categorical_accuracy: 1.0000 - val_loss: 1.8937 - val_sparse_categorical_accuracy: 0.7270\n",
      "Changing learning rate to 0.00016000000000000004\n",
      "Epoch 35/60\n",
      " 9984/10000 [============================>.] - ETA: 0s - loss: 4.7473e-04 - sparse_categorical_accuracy: 1.0000\n",
      "Epoch 00035: val_sparse_categorical_accuracy did not improve from 0.73800\n",
      "10000/10000 [==============================] - 8s 838us/sample - loss: 4.7424e-04 - sparse_categorical_accuracy: 1.0000 - val_loss: 1.9137 - val_sparse_categorical_accuracy: 0.7270\n",
      "Changing learning rate to 0.00016000000000000004\n",
      "Epoch 36/60\n",
      " 9920/10000 [============================>.] - ETA: 0s - loss: 4.3500e-04 - sparse_categorical_accuracy: 1.0000\n",
      "Epoch 00036: val_sparse_categorical_accuracy did not improve from 0.73800\n",
      "10000/10000 [==============================] - 8s 847us/sample - loss: 4.3399e-04 - sparse_categorical_accuracy: 1.0000 - val_loss: 1.9283 - val_sparse_categorical_accuracy: 0.7320\n",
      "Changing learning rate to 0.00016000000000000004\n",
      "Epoch 37/60\n",
      " 9952/10000 [============================>.] - ETA: 0s - loss: 3.8090e-04 - sparse_categorical_accuracy: 1.0000\n",
      "Epoch 00037: val_sparse_categorical_accuracy did not improve from 0.73800\n",
      "10000/10000 [==============================] - 9s 866us/sample - loss: 3.8142e-04 - sparse_categorical_accuracy: 1.0000 - val_loss: 1.9497 - val_sparse_categorical_accuracy: 0.7280\n",
      "Changing learning rate to 0.00016000000000000004\n",
      "Epoch 38/60\n",
      " 9920/10000 [============================>.] - ETA: 0s - loss: 3.3769e-04 - sparse_categorical_accuracy: 1.0000\n",
      "Epoch 00038: val_sparse_categorical_accuracy did not improve from 0.73800\n",
      "10000/10000 [==============================] - 8s 826us/sample - loss: 3.3697e-04 - sparse_categorical_accuracy: 1.0000 - val_loss: 1.9760 - val_sparse_categorical_accuracy: 0.7290\n",
      "Changing learning rate to 0.00016000000000000004\n",
      "Epoch 39/60\n",
      " 9920/10000 [============================>.] - ETA: 0s - loss: 2.8422e-04 - sparse_categorical_accuracy: 1.0000\n",
      "Epoch 00039: val_sparse_categorical_accuracy did not improve from 0.73800\n",
      "10000/10000 [==============================] - 9s 867us/sample - loss: 2.8407e-04 - sparse_categorical_accuracy: 1.0000 - val_loss: 1.9907 - val_sparse_categorical_accuracy: 0.7300\n"
     ]
    },
    {
     "name": "stdout",
     "output_type": "stream",
     "text": [
      "Changing learning rate to 0.00016000000000000004\n",
      "Epoch 40/60\n",
      " 9984/10000 [============================>.] - ETA: 0s - loss: 2.5568e-04 - sparse_categorical_accuracy: 1.0000\n",
      "Epoch 00040: val_sparse_categorical_accuracy did not improve from 0.73800\n",
      "10000/10000 [==============================] - 8s 819us/sample - loss: 2.5760e-04 - sparse_categorical_accuracy: 1.0000 - val_loss: 2.0207 - val_sparse_categorical_accuracy: 0.7250\n",
      "Changing learning rate to 0.00016000000000000004\n",
      "Epoch 41/60\n",
      " 9920/10000 [============================>.] - ETA: 0s - loss: 2.2647e-04 - sparse_categorical_accuracy: 1.0000\n",
      "Epoch 00041: val_sparse_categorical_accuracy did not improve from 0.73800\n",
      "10000/10000 [==============================] - 8s 821us/sample - loss: 2.2745e-04 - sparse_categorical_accuracy: 1.0000 - val_loss: 2.0382 - val_sparse_categorical_accuracy: 0.7310\n",
      "Changing learning rate to 0.00016000000000000004\n",
      "Epoch 42/60\n",
      " 9952/10000 [============================>.] - ETA: 0s - loss: 1.9682e-04 - sparse_categorical_accuracy: 1.0000Restoring model weights from the end of the best epoch.\n",
      "\n",
      "Epoch 00042: val_sparse_categorical_accuracy did not improve from 0.73800\n",
      "10000/10000 [==============================] - 8s 817us/sample - loss: 1.9616e-04 - sparse_categorical_accuracy: 1.0000 - val_loss: 2.0655 - val_sparse_categorical_accuracy: 0.7270\n",
      "Epoch 00042: early stopping\n"
     ]
    }
   ],
   "source": [
    "#Train\n",
    "results = model.fit(x=X_train,\n",
    "                    y=y_train,\n",
    "                    validation_data=(X_val,y_val),\n",
    "                    batch_size=32, # usually between 10 and 32\n",
    "                    epochs=60,\n",
    "                    callbacks=my_callbacks,\n",
    "                    verbose=1)\n",
    "\n",
    "#model.save('models/'+modelName+'.h5')"
   ]
  },
  {
   "cell_type": "code",
   "execution_count": 19,
   "metadata": {},
   "outputs": [
    {
     "data": {
      "image/png": "[encoded data removed]",
      "text/plain": [
       "<Figure size 432x288 with 1 Axes>"
      ]
     },
     "metadata": {
      "needs_background": "light"
     },
     "output_type": "display_data"
    },
    {
     "data": {
      "image/png": "[encoded data removed]",
      "text/plain": [
       "<Figure size 432x288 with 1 Axes>"
      ]
     },
     "metadata": {
      "needs_background": "light"
     },
     "output_type": "display_data"
    }
   ],
   "source": [
    "import matplotlib.pyplot as plt\n",
    "\n",
    "save_dir=\"output/\"+save_name+\"_\"\n",
    "\n",
    "# summarize history for categorical accuracy\n",
    "plt.plot(results.history['sparse_categorical_accuracy'])\n",
    "plt.plot(results.history['val_sparse_categorical_accuracy'])\n",
    "plt.title('Categorical accuracy')\n",
    "plt.ylabel('accuracy')\n",
    "plt.xlabel('epoch')\n",
    "plt.legend(['train', 'val'], loc='upper left')\n",
    "plt.savefig(save_dir+\"Categorical Accuracy\", dpi=400)\n",
    "plt.show()\n",
    "\n",
    "# summarize history for loss\n",
    "plt.plot(results.history['loss'])\n",
    "plt.plot(results.history['val_loss'])\n",
    "plt.title('model loss')\n",
    "plt.ylabel('loss')\n",
    "plt.xlabel('epoch')\n",
    "plt.legend(['train', 'val'], loc='upper left')\n",
    "plt.savefig(save_dir+\"Loss\", dpi=400)\n",
    "plt.show()\n",
    "\n"
   ]
  },
  {
   "cell_type": "markdown",
   "metadata": {},
   "source": [
    "--------------------------------------------"
   ]
  },
  {
   "cell_type": "markdown",
   "metadata": {},
   "source": [
    "# 3) Test the model"
   ]
  },
  {
   "cell_type": "code",
   "execution_count": 20,
   "metadata": {},
   "outputs": [],
   "source": [
    "#Load TEST files\n",
    "X,y_test=LoadAndPreprocessDataset.loadBatch(val,batch_size=1000)\n",
    "#Preprocess TEST\n",
    "X_test=LoadAndPreprocessDataset.MFCC_DELTA(X,n_mfcc=12)\n",
    "#X_test=LoadAndPreprocessDataset.MFCC(X,n_mfcc=40)\n",
    "#Release memory\n",
    "del(X)\n",
    "\n",
    "#ADD extra dimension for CNN\n",
    "import numpy as np\n",
    "X_test = X_test[..., np.newaxis]"
   ]
  },
  {
   "cell_type": "code",
   "execution_count": 21,
   "metadata": {},
   "outputs": [
    {
     "name": "stdout",
     "output_type": "stream",
     "text": [
      "1000/1000 [==============================] - 1s 1ms/sample - loss: 1.7845 - sparse_categorical_accuracy: 0.7420\n"
     ]
    },
    {
     "data": {
      "text/plain": [
       "'import time\\n\\ns=time.time()\\ny_pred=np.argmax(model.predict(X_test[:500,:,:]),1)\\ne=time.time()\\nprint(\"Entire:\",e-s)\\n\\nstarts=np.empty((len(X_test),))\\nends=np.empty((len(X_test),))\\nfor i in range(len(X_test)):\\n    a=np.array([X_test[i]])\\n    starts[i]=time.time()\\n    a=np.argmax(model.predict(a),1)\\n    ends[i]=time.time()\\naverage=sum(ends-starts)/len(X_test)\\nprint(\"Average single prediction time (s):\",average)'"
      ]
     },
     "execution_count": 21,
     "metadata": {},
     "output_type": "execute_result"
    }
   ],
   "source": [
    "#load best model\n",
    "from tensorflow.keras.models import load_model\n",
    "model = load_model('models/'+save_name+'.h5')\n",
    "\n",
    "# Test the model on test data\n",
    "import numpy as np\n",
    "score = model.evaluate(X_test, y_test)\n",
    "y_pred=np.argmax(model.predict(X_test),1)\n",
    "\n",
    "\n",
    "#Measure time for every single prediction\n",
    "\"\"\"import time\n",
    "\n",
    "s=time.time()\n",
    "y_pred=np.argmax(model.predict(X_test[:500,:,:]),1)\n",
    "e=time.time()\n",
    "print(\"Entire:\",e-s)\n",
    "\n",
    "starts=np.empty((len(X_test),))\n",
    "ends=np.empty((len(X_test),))\n",
    "for i in range(len(X_test)):\n",
    "    a=np.array([X_test[i]])\n",
    "    starts[i]=time.time()\n",
    "    a=np.argmax(model.predict(a),1)\n",
    "    ends[i]=time.time()\n",
    "average=sum(ends-starts)/len(X_test)\n",
    "print(\"Average single prediction time (s):\",average)\"\"\"\n",
    "\n",
    "# 1 prediction or a batch of 10 requires the same amount of time\n",
    "# a batch of 100 prediction requires the double of 1\n",
    "# a batch of 500 prediction requires the 3 times of 1"
   ]
  },
  {
   "cell_type": "markdown",
   "metadata": {},
   "source": [
    "# 4) Metrics Summary"
   ]
  },
  {
   "cell_type": "code",
   "execution_count": 22,
   "metadata": {},
   "outputs": [
    {
     "name": "stdout",
     "output_type": "stream",
     "text": [
      "Train loss:\t 0.0\n",
      "Train accuracy:\t 1.0\n",
      "Val loss:\t 2.065\n",
      "Val accuracy:\t 0.727\n",
      "Test loss:\t 1.785\n",
      "Test accuracy:\t 0.742\n",
      "Bias:\t\t -0.01\n",
      "Variance:\t 0.273\n",
      "Precision:\t 0.742\n",
      "Recall:\t\t 0.742\n",
      "F1:\t\t 0.742\n"
     ]
    },
    {
     "data": {
      "image/png": "[encoded data removed]",
      "text/plain": [
       "<Figure size 1080x1080 with 2 Axes>"
      ]
     },
     "metadata": {
      "needs_background": "light"
     },
     "output_type": "display_data"
    }
   ],
   "source": [
    "train_loss=results.history.get('loss')[-1]\n",
    "val_loss=results.history.get('val_loss')[-1]\n",
    "\n",
    "train_error=1-results.history.get('sparse_categorical_accuracy')[-1]\n",
    "val_error=1-results.history.get('val_sparse_categorical_accuracy')[-1]\n",
    "\n",
    "test_loss=score[0]\n",
    "test_error=1-score[1]\n",
    "\n",
    "print('Train loss:\\t', round(train_loss,3))\n",
    "print('Train accuracy:\\t', round(1-train_error,3))\n",
    "print('Val loss:\\t', round(val_loss,3))\n",
    "print('Val accuracy:\\t', round(1-val_error,3))\n",
    "print('Test loss:\\t', round(test_loss,3))\n",
    "print('Test accuracy:\\t', round(score[1],3))\n",
    "\n",
    "optimal_error=0.01 #human error\n",
    "\n",
    "bias=train_error-optimal_error\n",
    "variance=val_error-train_error\n",
    "print(\"Bias:\\t\\t\",round(bias,3))\n",
    "print(\"Variance:\\t\",round(variance,3))\n",
    "\n",
    "\n",
    "# Precision and Recall(sensitivity/true positive rate)\n",
    "from sklearn.metrics import precision_score, recall_score\n",
    "prec=precision_score(y_test, y_pred,average='micro')\n",
    "rec=recall_score(y_test, y_pred,average='micro')\n",
    "\n",
    "#F1 - high if both recall and precision are high.\n",
    "from sklearn.metrics import f1_score\n",
    "f1=f1_score(y_test, y_pred,average='micro')\n",
    "\n",
    "print(\"Precision:\\t\",round(prec,3))\n",
    "print(\"Recall:\\t\\t\",round(rec,3))\n",
    "print(\"F1:\\t\\t\",round(f1,3))\n",
    "\n",
    "# Confusion Matrix\n",
    "from sklearn.metrics import confusion_matrix\n",
    "cm = confusion_matrix(y_test, y_pred)\n",
    "import audioUtils\n",
    "audioUtils.plot_confusion_matrix(cm,categories, normalize=False,save_path=save_dir)\n",
    "\n",
    "\n",
    "\n",
    "# SAVE MODEL SUMMARY and METRICS TO FILE\n",
    "f = open(save_dir+\"Metrics.txt\", \"a\")\n",
    "\n",
    "stringlist = []\n",
    "model.summary(print_fn=lambda x: stringlist.append(x))\n",
    "short_model_summary = \"\\n\".join(stringlist)\n",
    "f.write(short_model_summary+\"\\n\\n\")\n",
    "\n",
    "f.write('Train loss:\\t'+ str(round(train_loss,3))+ \"\\n\")\n",
    "f.write('Train accuracy:\\t'+ str((round(1-train_error,3)))+ \"\\n\")\n",
    "f.write('Val loss:\\t'+ str(round(val_loss,3))+ \"\\n\")\n",
    "f.write('Val accuracy:\\t'+ str((round(1-val_error,3)))+ \"\\n\")\n",
    "f.write('Test loss:\\t'+ str(round(test_loss,3))+ \"\\n\")\n",
    "f.write('Test accuracy:\\t'+ str(round(score[1],3))+ \"\\n\")\n",
    "f.write(\"Bias:\\t\\t\"+str(round(bias,3))+ \"\\n\")\n",
    "f.write(\"Variance:\\t\"+str(round(variance,3))+ \"\\n\")\n",
    "f.write(\"Precision:\\t\"+str(round(prec,3))+ \"\\n\")\n",
    "f.write(\"Recall:\\t\\t\"+str(round(rec,3))+ \"\\n\")\n",
    "f.write(\"F1:\\t\\t\"+str(round(f1,3)))\n",
    "f.close()"
   ]
  },
  {
   "cell_type": "code",
   "execution_count": null,
   "metadata": {},
   "outputs": [],
   "source": [
    "#ROC FOR MULTICLASS?????\n",
    "\"\"\"\n",
    "#ROC Curve\n",
    "from sklearn.metrics import roc_curve\n",
    "fpr, tpr, thresholds = roc_curve(y_test, y_pred)\n",
    "def plot_roc_curve(fpr, tpr, label=None):\n",
    "    plt.plot(fpr, tpr, linewidth=2, label=label)\n",
    "    plt.plot([0, 1], [0, 1], \"k--\") # dashed diagonal\n",
    "    # Add axis labels and grid\n",
    "plot_roc_curve(fpr, tpr)\n",
    "plt.show()\n",
    "\n",
    "#AUC Score\n",
    "#perfect classifier=1, purely random=0.5.\n",
    "from sklearn.metrics import roc_auc_score\n",
    "roc_auc_score(y_test, y_pred)\"\"\""
   ]
  },
  {
   "cell_type": "code",
   "execution_count": null,
   "metadata": {},
   "outputs": [],
   "source": []
  },
  {
   "cell_type": "code",
   "execution_count": null,
   "metadata": {},
   "outputs": [],
   "source": []
  }
 ],
 "metadata": {
  "kernelspec": {
   "display_name": "gputest",
   "language": "python",
   "name": "gputest"
  },
  "language_info": {
   "codemirror_mode": {
    "name": "ipython",
    "version": 3
   },
   "file_extension": ".py",
   "mimetype": "text/x-python",
   "name": "python",
   "nbconvert_exporter": "python",
   "pygments_lexer": "ipython3",
   "version": "3.7.7"
  }
 },
 "nbformat": 4,
 "nbformat_minor": 4
}
