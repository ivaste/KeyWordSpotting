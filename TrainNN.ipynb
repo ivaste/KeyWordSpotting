{
 "cells": [
  {
   "cell_type": "code",
   "execution_count": 1,
   "metadata": {},
   "outputs": [
    {
     "name": "stdout",
     "output_type": "stream",
     "text": [
      "10\n"
     ]
    }
   ],
   "source": [
    "#Hyperparameters\n",
    "categories=['yes','no','up','down','left','right','on','off','stop','go']\n",
    "#categories=['yes','no','up','down','left','right','on','off','stop','go','zero','one','two','three','four','five','six','seven','eight','nine','unknown']\n",
    "nCategories=len(categories)\n",
    "print(nCategories)\n",
    "\n",
    "nTrainSamples=30000 #30k, 84k\n",
    "nValidSamples=3000 #3k, 9900\n",
    "nTestSamples=3000 #3k, 11k\n",
    "\n"
   ]
  },
  {
   "cell_type": "markdown",
   "metadata": {},
   "source": [
    "# 1) Prepare X_train, X_val, y_train, y_val"
   ]
  },
  {
   "cell_type": "code",
   "execution_count": 2,
   "metadata": {},
   "outputs": [],
   "source": [
    "import LoadAndPreprocessDataset"
   ]
  },
  {
   "cell_type": "code",
   "execution_count": 3,
   "metadata": {},
   "outputs": [
    {
     "name": "stdout",
     "output_type": "stream",
     "text": [
      "(30000, 120, 126) (3000, 120, 126)\n",
      "(30000, 120, 126, 1) (3000, 120, 126, 1)\n",
      "X_train uses 30000 of 30769 files and occupies 3628800000 bytes\n",
      "X_val uses 3000 of 3703 files and occupies 362880000 bytes\n"
     ]
    }
   ],
   "source": [
    "#Load filenames\n",
    "train,val,test = LoadAndPreprocessDataset.loadDatasetFilenames(nCategories=nCategories)\n",
    "\n",
    "#Load TRAIN files\n",
    "X,y_train=LoadAndPreprocessDataset.loadBatch(train,batch_size=nTrainSamples, nCategories=nCategories)\n",
    "#Preprocess TRAIN\n",
    "X_train=LoadAndPreprocessDataset.MFCC_DELTA(X,n_mfcc=40)\n",
    "#X_train=LoadAndPreprocessDataset.MFCC(X,n_mfcc=40)\n",
    "#X_train=LoadAndPreprocessDataset.melspect(X)\n",
    "#X_train=X #No preprocessing\n",
    "#Release memory\n",
    "del(X)\n",
    "\n",
    "#Load VAL files\n",
    "X,y_val=LoadAndPreprocessDataset.loadBatch(val,batch_size=nValidSamples, nCategories=nCategories)\n",
    "#Preprocess VAL\n",
    "X_val=LoadAndPreprocessDataset.MFCC_DELTA(X,n_mfcc=40)\n",
    "#X_val=LoadAndPreprocessDataset.MFCC(X,n_mfcc=40)\n",
    "#X_val=LoadAndPreprocessDataset.melspect(X)\n",
    "#X_val=X #No preprocessing\n",
    "#Release memory\n",
    "del(X)\n",
    "\n",
    "print(X_train.shape,X_val.shape)\n",
    "\n",
    "\n",
    "# NORMALIZATION\n",
    "### NO normalization seems better\n",
    "#from sklearn.preprocessing import normalize\n",
    "#from sklearn.preprocessing import MinMaxScaler\n",
    "#scaler = MinMaxScaler(feature_range=(-1,1)) # Gives huge bias\n",
    "#for i in range(len(X_train)):\n",
    "    #X_train[i]=normalize(X_train[i], axis=0, norm='max') #normalize each feature of the example\n",
    "    #X_train[i]=(X_train[i] - X_train[i].min(0)) / X_train[i].ptp(0) # HUGE BIAS\n",
    "    #X_train[i]=scaler.fit_transform(X_train[i]) # HUGE BIAS\n",
    "#for i in range(len(X_val)):\n",
    "    #X_val[i]=normalize(X_val[i], axis=0, norm='max') #normalize each feature of the example\n",
    "    #X_val[i]=(X_val[i] - X_val[i].min(0)) / X_val[i].ptp(0) #HUGE BIAS\n",
    "    #X_val[i]=scaler.fit_transform(X_val[i])  # HUGE BIAS\n",
    "\n",
    "\n",
    "#ADD extra dimension for CNN\n",
    "import numpy as np\n",
    "X_train = X_train[..., np.newaxis]\n",
    "X_val = X_val[..., np.newaxis]\n",
    "print(X_train.shape,X_val.shape)\n",
    "\n",
    "\n",
    "print('X_train uses',X_train.shape[0],\"of\",len(train),\"files\",\"and occupies\",X_train.nbytes,\"bytes\")\n",
    "print('X_val uses',X_val.shape[0],\"of\",len(val),\"files\",\"and occupies\",X_val.nbytes,\"bytes\")"
   ]
  },
  {
   "cell_type": "code",
   "execution_count": 4,
   "metadata": {},
   "outputs": [
    {
     "name": "stdout",
     "output_type": "stream",
     "text": [
      "{'yes': 3163, 'no': 3032, 'up': 2870, 'down': 3059, 'left': 2959, 'right': 2944, 'on': 2997, 'off': 2900, 'stop': 3045, 'go': 3031}\n",
      "{'yes': 319, 'no': 335, 'up': 276, 'down': 311, 'left': 282, 'right': 287, 'on': 295, 'off': 304, 'stop': 288, 'go': 303}\n"
     ]
    }
   ],
   "source": [
    "#DEBUGGING: Check how many examples there are per category\n",
    "trainCat={}\n",
    "for e in categories: trainCat[e]=0\n",
    "for e in y_train: trainCat[categories[e]]+=1\n",
    "print(trainCat)\n",
    "\n",
    "valCat={}\n",
    "for e in categories: valCat[e]=0\n",
    "for e in y_val: valCat[categories[e]]+=1\n",
    "print(valCat)"
   ]
  },
  {
   "cell_type": "code",
   "execution_count": 5,
   "metadata": {},
   "outputs": [
    {
     "name": "stdout",
     "output_type": "stream",
     "text": [
      "(30000, 120, 126, 1)\n",
      "(30000,)\n",
      "(3000, 120, 126, 1)\n",
      "(3000,)\n"
     ]
    },
    {
     "data": {
      "image/png": "[encoded data removed]",
      "text/plain": [
       "<Figure size 720x288 with 1 Axes>"
      ]
     },
     "metadata": {
      "needs_background": "light"
     },
     "output_type": "display_data"
    },
    {
     "data": {
      "image/png": "[encoded data removed]",
      "text/plain": [
       "<Figure size 720x288 with 1 Axes>"
      ]
     },
     "metadata": {
      "needs_background": "light"
     },
     "output_type": "display_data"
    },
    {
     "name": "stdout",
     "output_type": "stream",
     "text": [
      "-715.541748046875\n",
      "156.43775939941406\n"
     ]
    }
   ],
   "source": [
    "# Look at some data\n",
    "\n",
    "print(X_train.shape)\n",
    "print(y_train.shape)\n",
    "print(X_val.shape)\n",
    "print(y_val.shape)\n",
    "\n",
    "import matplotlib.pyplot as plt\n",
    "plt.figure(figsize=(10, 4))\n",
    "plt.pcolormesh(X_train[0,:,:,0])\n",
    "plt.show()\n",
    "\n",
    "plt.figure(figsize=(10, 4))\n",
    "plt.pcolormesh(X_val[0,:,:,0])\n",
    "plt.show()\n",
    "\n",
    "import numpy as np\n",
    "print(np.min(X_train))\n",
    "print(np.max(X_train))\n"
   ]
  },
  {
   "cell_type": "markdown",
   "metadata": {},
   "source": [
    "----------------------------------------------------\n",
    "\n",
    "# 2) Model\n"
   ]
  },
  {
   "cell_type": "markdown",
   "metadata": {},
   "source": [
    "## Define NN"
   ]
  },
  {
   "cell_type": "code",
   "execution_count": 6,
   "metadata": {},
   "outputs": [],
   "source": [
    "import Models"
   ]
  },
  {
   "cell_type": "code",
   "execution_count": 7,
   "metadata": {},
   "outputs": [
    {
     "name": "stdout",
     "output_type": "stream",
     "text": [
      "Model: \"DSConvModel10\"\n",
      "_________________________________________________________________\n",
      "Layer (type)                 Output Shape              Param #   \n",
      "=================================================================\n",
      "input_1 (InputLayer)         [(None, 120, 126, 1)]     0         \n",
      "_________________________________________________________________\n",
      "conv2d (Conv2D)              (None, 120, 63, 276)      11316     \n",
      "_________________________________________________________________\n",
      "batch_normalization (BatchNo (None, 120, 63, 276)      1104      \n",
      "_________________________________________________________________\n",
      "depthwise_conv2d (DepthwiseC (None, 59, 31, 276)       2760      \n",
      "_________________________________________________________________\n",
      "batch_normalization_1 (Batch (None, 59, 31, 276)       1104      \n",
      "_________________________________________________________________\n",
      "activation (Activation)      (None, 59, 31, 276)       0         \n",
      "_________________________________________________________________\n",
      "conv2d_1 (Conv2D)            (None, 59, 31, 276)       76452     \n",
      "_________________________________________________________________\n",
      "batch_normalization_2 (Batch (None, 59, 31, 276)       1104      \n",
      "_________________________________________________________________\n",
      "activation_1 (Activation)    (None, 59, 31, 276)       0         \n",
      "_________________________________________________________________\n",
      "depthwise_conv2d_1 (Depthwis (None, 57, 29, 276)       2760      \n",
      "_________________________________________________________________\n",
      "batch_normalization_3 (Batch (None, 57, 29, 276)       1104      \n",
      "_________________________________________________________________\n",
      "activation_2 (Activation)    (None, 57, 29, 276)       0         \n",
      "_________________________________________________________________\n",
      "conv2d_2 (Conv2D)            (None, 57, 29, 276)       76452     \n",
      "_________________________________________________________________\n",
      "batch_normalization_4 (Batch (None, 57, 29, 276)       1104      \n",
      "_________________________________________________________________\n",
      "activation_3 (Activation)    (None, 57, 29, 276)       0         \n",
      "_________________________________________________________________\n",
      "depthwise_conv2d_2 (Depthwis (None, 55, 27, 276)       2760      \n",
      "_________________________________________________________________\n",
      "batch_normalization_5 (Batch (None, 55, 27, 276)       1104      \n",
      "_________________________________________________________________\n",
      "activation_4 (Activation)    (None, 55, 27, 276)       0         \n",
      "_________________________________________________________________\n",
      "conv2d_3 (Conv2D)            (None, 55, 27, 276)       76452     \n",
      "_________________________________________________________________\n",
      "batch_normalization_6 (Batch (None, 55, 27, 276)       1104      \n",
      "_________________________________________________________________\n",
      "activation_5 (Activation)    (None, 55, 27, 276)       0         \n",
      "_________________________________________________________________\n",
      "depthwise_conv2d_3 (Depthwis (None, 53, 25, 276)       2760      \n",
      "_________________________________________________________________\n",
      "batch_normalization_7 (Batch (None, 53, 25, 276)       1104      \n",
      "_________________________________________________________________\n",
      "activation_6 (Activation)    (None, 53, 25, 276)       0         \n",
      "_________________________________________________________________\n",
      "conv2d_4 (Conv2D)            (None, 53, 25, 276)       76452     \n",
      "_________________________________________________________________\n",
      "batch_normalization_8 (Batch (None, 53, 25, 276)       1104      \n",
      "_________________________________________________________________\n",
      "activation_7 (Activation)    (None, 53, 25, 276)       0         \n",
      "_________________________________________________________________\n",
      "depthwise_conv2d_4 (Depthwis (None, 51, 23, 276)       2760      \n",
      "_________________________________________________________________\n",
      "batch_normalization_9 (Batch (None, 51, 23, 276)       1104      \n",
      "_________________________________________________________________\n",
      "activation_8 (Activation)    (None, 51, 23, 276)       0         \n",
      "_________________________________________________________________\n",
      "conv2d_5 (Conv2D)            (None, 51, 23, 276)       76452     \n",
      "_________________________________________________________________\n",
      "batch_normalization_10 (Batc (None, 51, 23, 276)       1104      \n",
      "_________________________________________________________________\n",
      "activation_9 (Activation)    (None, 51, 23, 276)       0         \n",
      "_________________________________________________________________\n",
      "average_pooling2d (AveragePo (None, 25, 11, 276)       0         \n",
      "_________________________________________________________________\n",
      "flatten (Flatten)            (None, 75900)             0         \n",
      "_________________________________________________________________\n",
      "dense (Dense)                (None, 10)                759010    \n",
      "=================================================================\n",
      "Total params: 1,178,530\n",
      "Trainable params: 1,172,458\n",
      "Non-trainable params: 6,072\n",
      "_________________________________________________________________\n"
     ]
    }
   ],
   "source": [
    "import datetime\n",
    "\n",
    "modelName=\"DSConvModel\"+str(nCategories)\n",
    "save_name=datetime.datetime.now().strftime(\"%Y-%m-%d_%H-%M\")+\"_\"+modelName\n",
    "\n",
    "'''model = Models.LeNet5(nCategories,\n",
    "                        inputShape=X_train.shape[1:],\n",
    "                        name=modelName)\n",
    "model = Models.AttRNNSpeechModel(nCategories,\n",
    "                        inputShape=X_train.shape[1:],\n",
    "                        name=modelName)\n",
    "Xmodel = Models.directCNN(nCategories,\n",
    "                        inputShape=X_train.shape[1:],\n",
    "                        name=modelName)'''\n",
    "\n",
    "\n",
    "################### DA FARE I SEGUENTI #####################\n",
    "model = Models.DSConvModel(nCategories,\n",
    "                        inputShape=X_train.shape[1:],\n",
    "                        name=modelName)\n",
    "\n",
    "'''model = Models.DSConvModelMedium(nCategories,\n",
    "                        inputShape=X_train.shape[1:],\n",
    "                        name=modelName)'''\n",
    "\n",
    "'''model = Models.DSConvModelSmall(nCategories,\n",
    "                        inputShape=X_train.shape[1:],\n",
    "                        name=modelName)'''\n",
    "############################################################\n",
    "\n",
    "\n",
    "model.compile(optimizer='nadam',\n",
    "              loss=['sparse_categorical_crossentropy'],\n",
    "              metrics=['sparse_categorical_accuracy'])\n",
    "\n",
    "model.summary()"
   ]
  },
  {
   "cell_type": "markdown",
   "metadata": {},
   "source": [
    "## Train NN"
   ]
  },
  {
   "cell_type": "code",
   "execution_count": 8,
   "metadata": {},
   "outputs": [],
   "source": [
    "from tensorflow.keras.callbacks import EarlyStopping, ModelCheckpoint, LearningRateScheduler, TensorBoard\n",
    "import math\n",
    "\n",
    "\n",
    "log_dir = \"logs\\\\\"+save_name\n",
    "\n",
    "def step_decay(epoch):\n",
    "    initial_lrate = 0.001\n",
    "    drop = 0.4\n",
    "    epochs_drop = 15.0\n",
    "    lrate = initial_lrate * math.pow(drop, math.floor((1+epoch)/epochs_drop))\n",
    "    \n",
    "    if (lrate < 4e-5):\n",
    "        lrate = 4e-5\n",
    "      \n",
    "    print('Changing learning rate to {}'.format(lrate))\n",
    "    return lrate\n",
    "lrate = LearningRateScheduler(step_decay)\n",
    "\n",
    "def performance_scheduling(epoch):\n",
    "    #.....\n",
    "    return lrate\n",
    "\n",
    "my_callbacks = [\n",
    "    EarlyStopping(monitor='val_sparse_categorical_accuracy',\n",
    "                  patience=10,\n",
    "                  verbose=1,\n",
    "                  restore_best_weights=True),\n",
    "    ModelCheckpoint('models/'+save_name+'.h5',\n",
    "                    monitor='val_sparse_categorical_accuracy',\n",
    "                    verbose=1,\n",
    "                    save_best_only=True),\n",
    "    TensorBoard(log_dir=log_dir,histogram_freq=1)]\n",
    "    #lrate]\n"
   ]
  },
  {
   "cell_type": "code",
   "execution_count": 9,
   "metadata": {},
   "outputs": [
    {
     "name": "stdout",
     "output_type": "stream",
     "text": [
      "Train on 30000 samples, validate on 3000 samples\n",
      "Epoch 1/50\n",
      "29984/30000 [============================>.] - ETA: 0s - loss: 0.8556 - sparse_categorical_accuracy: 0.7711\n",
      "Epoch 00001: val_sparse_categorical_accuracy improved from -inf to 0.73533, saving model to models/2020-08-02_13-30_DSConvModel10.h5\n",
      "30000/30000 [==============================] - 304s 10ms/sample - loss: 0.8553 - sparse_categorical_accuracy: 0.7711 - val_loss: 0.9339 - val_sparse_categorical_accuracy: 0.7353\n",
      "Epoch 2/50\n",
      "29984/30000 [============================>.] - ETA: 0s - loss: 0.2692 - sparse_categorical_accuracy: 0.9116\n",
      "Epoch 00002: val_sparse_categorical_accuracy improved from 0.73533 to 0.89367, saving model to models/2020-08-02_13-30_DSConvModel10.h5\n",
      "30000/30000 [==============================] - 279s 9ms/sample - loss: 0.2691 - sparse_categorical_accuracy: 0.9116 - val_loss: 0.3487 - val_sparse_categorical_accuracy: 0.8937\n",
      "Epoch 3/50\n",
      "29984/30000 [============================>.] - ETA: 0s - loss: 0.1977 - sparse_categorical_accuracy: 0.9323\n",
      "Epoch 00003: val_sparse_categorical_accuracy improved from 0.89367 to 0.90667, saving model to models/2020-08-02_13-30_DSConvModel10.h5\n",
      "30000/30000 [==============================] - 278s 9ms/sample - loss: 0.1977 - sparse_categorical_accuracy: 0.9323 - val_loss: 0.3400 - val_sparse_categorical_accuracy: 0.9067\n",
      "Epoch 4/50\n",
      "29984/30000 [============================>.] - ETA: 0s - loss: 0.1695 - sparse_categorical_accuracy: 0.9431\n",
      "Epoch 00004: val_sparse_categorical_accuracy improved from 0.90667 to 0.93233, saving model to models/2020-08-02_13-30_DSConvModel10.h5\n",
      "30000/30000 [==============================] - 281s 9ms/sample - loss: 0.1695 - sparse_categorical_accuracy: 0.9431 - val_loss: 0.2267 - val_sparse_categorical_accuracy: 0.9323\n",
      "Epoch 5/50\n",
      "29984/30000 [============================>.] - ETA: 0s - loss: 0.1390 - sparse_categorical_accuracy: 0.9536\n",
      "Epoch 00005: val_sparse_categorical_accuracy did not improve from 0.93233\n",
      "30000/30000 [==============================] - 278s 9ms/sample - loss: 0.1391 - sparse_categorical_accuracy: 0.9536 - val_loss: 0.2823 - val_sparse_categorical_accuracy: 0.9200\n",
      "Epoch 6/50\n",
      "29984/30000 [============================>.] - ETA: 0s - loss: 0.1226 - sparse_categorical_accuracy: 0.9578\n",
      "Epoch 00006: val_sparse_categorical_accuracy improved from 0.93233 to 0.94167, saving model to models/2020-08-02_13-30_DSConvModel10.h5\n",
      "30000/30000 [==============================] - 278s 9ms/sample - loss: 0.1225 - sparse_categorical_accuracy: 0.9578 - val_loss: 0.2022 - val_sparse_categorical_accuracy: 0.9417\n",
      "Epoch 7/50\n",
      "29984/30000 [============================>.] - ETA: 0s - loss: 0.1137 - sparse_categorical_accuracy: 0.9617\n",
      "Epoch 00007: val_sparse_categorical_accuracy did not improve from 0.94167\n",
      "30000/30000 [==============================] - 278s 9ms/sample - loss: 0.1137 - sparse_categorical_accuracy: 0.9617 - val_loss: 0.2176 - val_sparse_categorical_accuracy: 0.9290\n",
      "Epoch 8/50\n",
      "29984/30000 [============================>.] - ETA: 0s - loss: 0.0974 - sparse_categorical_accuracy: 0.9664\n",
      "Epoch 00008: val_sparse_categorical_accuracy did not improve from 0.94167\n",
      "30000/30000 [==============================] - 279s 9ms/sample - loss: 0.0974 - sparse_categorical_accuracy: 0.9664 - val_loss: 0.2394 - val_sparse_categorical_accuracy: 0.9283\n",
      "Epoch 9/50\n",
      "29984/30000 [============================>.] - ETA: 0s - loss: 0.0866 - sparse_categorical_accuracy: 0.9697\n",
      "Epoch 00009: val_sparse_categorical_accuracy did not improve from 0.94167\n",
      "30000/30000 [==============================] - 279s 9ms/sample - loss: 0.0865 - sparse_categorical_accuracy: 0.9697 - val_loss: 0.3110 - val_sparse_categorical_accuracy: 0.9207\n",
      "Epoch 10/50\n",
      "29984/30000 [============================>.] - ETA: 0s - loss: 0.0768 - sparse_categorical_accuracy: 0.9744\n",
      "Epoch 00010: val_sparse_categorical_accuracy did not improve from 0.94167\n",
      "30000/30000 [==============================] - 278s 9ms/sample - loss: 0.0770 - sparse_categorical_accuracy: 0.9744 - val_loss: 0.2364 - val_sparse_categorical_accuracy: 0.9373\n",
      "Epoch 11/50\n",
      "29984/30000 [============================>.] - ETA: 0s - loss: 0.0690 - sparse_categorical_accuracy: 0.9768\n",
      "Epoch 00011: val_sparse_categorical_accuracy did not improve from 0.94167\n",
      "30000/30000 [==============================] - 279s 9ms/sample - loss: 0.0689 - sparse_categorical_accuracy: 0.9768 - val_loss: 0.2367 - val_sparse_categorical_accuracy: 0.9370\n",
      "Epoch 12/50\n",
      "29984/30000 [============================>.] - ETA: 0s - loss: 0.0615 - sparse_categorical_accuracy: 0.9806\n",
      "Epoch 00012: val_sparse_categorical_accuracy did not improve from 0.94167\n",
      "30000/30000 [==============================] - 283s 9ms/sample - loss: 0.0615 - sparse_categorical_accuracy: 0.9805 - val_loss: 0.2676 - val_sparse_categorical_accuracy: 0.9337\n",
      "Epoch 13/50\n",
      "29984/30000 [============================>.] - ETA: 0s - loss: 0.0559 - sparse_categorical_accuracy: 0.9826\n",
      "Epoch 00013: val_sparse_categorical_accuracy did not improve from 0.94167\n",
      "30000/30000 [==============================] - 286s 10ms/sample - loss: 0.0559 - sparse_categorical_accuracy: 0.9826 - val_loss: 0.2411 - val_sparse_categorical_accuracy: 0.9377\n",
      "Epoch 14/50\n",
      "29984/30000 [============================>.] - ETA: 0s - loss: 0.0462 - sparse_categorical_accuracy: 0.9850\n",
      "Epoch 00014: val_sparse_categorical_accuracy improved from 0.94167 to 0.94600, saving model to models/2020-08-02_13-30_DSConvModel10.h5\n",
      "30000/30000 [==============================] - 279s 9ms/sample - loss: 0.0463 - sparse_categorical_accuracy: 0.9850 - val_loss: 0.2656 - val_sparse_categorical_accuracy: 0.9460\n",
      "Epoch 15/50\n",
      "29984/30000 [============================>.] - ETA: 0s - loss: 0.0417 - sparse_categorical_accuracy: 0.9865\n",
      "Epoch 00015: val_sparse_categorical_accuracy did not improve from 0.94600\n",
      "30000/30000 [==============================] - 278s 9ms/sample - loss: 0.0417 - sparse_categorical_accuracy: 0.9865 - val_loss: 0.4025 - val_sparse_categorical_accuracy: 0.9327\n",
      "Epoch 16/50\n",
      "29984/30000 [============================>.] - ETA: 0s - loss: 0.0407 - sparse_categorical_accuracy: 0.9876\n",
      "Epoch 00016: val_sparse_categorical_accuracy did not improve from 0.94600\n",
      "30000/30000 [==============================] - 278s 9ms/sample - loss: 0.0407 - sparse_categorical_accuracy: 0.9876 - val_loss: 0.2507 - val_sparse_categorical_accuracy: 0.9433\n",
      "Epoch 17/50\n",
      "29984/30000 [============================>.] - ETA: 0s - loss: 0.0356 - sparse_categorical_accuracy: 0.9900\n",
      "Epoch 00017: val_sparse_categorical_accuracy did not improve from 0.94600\n",
      "30000/30000 [==============================] - 278s 9ms/sample - loss: 0.0356 - sparse_categorical_accuracy: 0.9900 - val_loss: 0.2457 - val_sparse_categorical_accuracy: 0.9453\n",
      "Epoch 18/50\n",
      "29984/30000 [============================>.] - ETA: 0s - loss: 0.0250 - sparse_categorical_accuracy: 0.9923\n",
      "Epoch 00018: val_sparse_categorical_accuracy did not improve from 0.94600\n",
      "30000/30000 [==============================] - 293s 10ms/sample - loss: 0.0250 - sparse_categorical_accuracy: 0.9923 - val_loss: 0.2982 - val_sparse_categorical_accuracy: 0.9373\n",
      "Epoch 19/50\n",
      "29984/30000 [============================>.] - ETA: 0s - loss: 0.0312 - sparse_categorical_accuracy: 0.9901\n",
      "Epoch 00019: val_sparse_categorical_accuracy did not improve from 0.94600\n",
      "30000/30000 [==============================] - 288s 10ms/sample - loss: 0.0314 - sparse_categorical_accuracy: 0.9901 - val_loss: 0.3114 - val_sparse_categorical_accuracy: 0.9253\n",
      "Epoch 20/50\n",
      "29984/30000 [============================>.] - ETA: 0s - loss: 0.0273 - sparse_categorical_accuracy: 0.9919\n",
      "Epoch 00020: val_sparse_categorical_accuracy did not improve from 0.94600\n",
      "30000/30000 [==============================] - 278s 9ms/sample - loss: 0.0273 - sparse_categorical_accuracy: 0.9919 - val_loss: 0.3521 - val_sparse_categorical_accuracy: 0.9390\n",
      "Epoch 21/50\n",
      "29984/30000 [============================>.] - ETA: 0s - loss: 0.0241 - sparse_categorical_accuracy: 0.9930\n",
      "Epoch 00021: val_sparse_categorical_accuracy did not improve from 0.94600\n",
      "30000/30000 [==============================] - 283s 9ms/sample - loss: 0.0241 - sparse_categorical_accuracy: 0.9930 - val_loss: 0.2979 - val_sparse_categorical_accuracy: 0.9390\n"
     ]
    },
    {
     "name": "stdout",
     "output_type": "stream",
     "text": [
      "Epoch 22/50\n",
      "29984/30000 [============================>.] - ETA: 0s - loss: 0.0213 - sparse_categorical_accuracy: 0.9934\n",
      "Epoch 00022: val_sparse_categorical_accuracy did not improve from 0.94600\n",
      "30000/30000 [==============================] - 286s 10ms/sample - loss: 0.0213 - sparse_categorical_accuracy: 0.9934 - val_loss: 0.3207 - val_sparse_categorical_accuracy: 0.9373\n",
      "Epoch 23/50\n",
      "29984/30000 [============================>.] - ETA: 0s - loss: 0.0226 - sparse_categorical_accuracy: 0.9930\n",
      "Epoch 00023: val_sparse_categorical_accuracy did not improve from 0.94600\n",
      "30000/30000 [==============================] - 290s 10ms/sample - loss: 0.0226 - sparse_categorical_accuracy: 0.9930 - val_loss: 0.3098 - val_sparse_categorical_accuracy: 0.9420\n",
      "Epoch 24/50\n",
      "29984/30000 [============================>.] - ETA: 0s - loss: 0.0224 - sparse_categorical_accuracy: 0.9933Restoring model weights from the end of the best epoch.\n",
      "\n",
      "Epoch 00024: val_sparse_categorical_accuracy did not improve from 0.94600\n",
      "30000/30000 [==============================] - 291s 10ms/sample - loss: 0.0224 - sparse_categorical_accuracy: 0.9933 - val_loss: 0.3324 - val_sparse_categorical_accuracy: 0.9333\n",
      "Epoch 00024: early stopping\n"
     ]
    }
   ],
   "source": [
    "#Train\n",
    "results = model.fit(x=X_train,\n",
    "                    y=y_train,\n",
    "                    validation_data=(X_val,y_val),\n",
    "                    batch_size=32, # usually between 10 and 32\n",
    "                    epochs=50,\n",
    "                    callbacks=my_callbacks,\n",
    "                    verbose=1)\n",
    "\n",
    "#model.save('models/'+modelName+'.h5')"
   ]
  },
  {
   "cell_type": "code",
   "execution_count": 10,
   "metadata": {},
   "outputs": [
    {
     "data": {
      "image/png": "[encoded data removed]",
      "text/plain": [
       "<Figure size 432x288 with 1 Axes>"
      ]
     },
     "metadata": {
      "needs_background": "light"
     },
     "output_type": "display_data"
    },
    {
     "data": {
      "image/png": "[encoded data removed]",
      "text/plain": [
       "<Figure size 432x288 with 1 Axes>"
      ]
     },
     "metadata": {
      "needs_background": "light"
     },
     "output_type": "display_data"
    }
   ],
   "source": [
    "import matplotlib.pyplot as plt\n",
    "\n",
    "save_dir=\"output/\"+save_name+\"_\"\n",
    "\n",
    "# summarize history for categorical accuracy\n",
    "plt.plot(results.history['sparse_categorical_accuracy'])\n",
    "plt.plot(results.history['val_sparse_categorical_accuracy'])\n",
    "plt.title('Categorical accuracy')\n",
    "plt.ylabel('accuracy')\n",
    "plt.xlabel('epoch')\n",
    "plt.legend(['train', 'val'], loc='upper left')\n",
    "plt.savefig(save_dir+\"Categorical Accuracy\", dpi=400)\n",
    "plt.show()\n",
    "\n",
    "# summarize history for loss\n",
    "plt.plot(results.history['loss'])\n",
    "plt.plot(results.history['val_loss'])\n",
    "plt.title('model loss')\n",
    "plt.ylabel('loss')\n",
    "plt.xlabel('epoch')\n",
    "plt.legend(['train', 'val'], loc='upper left')\n",
    "plt.savefig(save_dir+\"Loss\", dpi=400)\n",
    "plt.show()\n",
    "\n"
   ]
  },
  {
   "cell_type": "markdown",
   "metadata": {},
   "source": [
    "--------------------------------------------"
   ]
  },
  {
   "cell_type": "markdown",
   "metadata": {},
   "source": [
    "# 3) Test the model"
   ]
  },
  {
   "cell_type": "code",
   "execution_count": 11,
   "metadata": {},
   "outputs": [],
   "source": [
    "#Release memory\n",
    "del(X_train)\n",
    "del(y_train)\n",
    "del(X_val)\n",
    "del(y_val)"
   ]
  },
  {
   "cell_type": "code",
   "execution_count": 12,
   "metadata": {},
   "outputs": [
    {
     "name": "stdout",
     "output_type": "stream",
     "text": [
      "X_test uses 3000 of 4074 files and occupies 362880000 bytes\n",
      "{'yes': 307, 'no': 294, 'up': 313, 'down': 304, 'left': 284, 'right': 299, 'on': 310, 'off': 293, 'stop': 298, 'go': 298}\n"
     ]
    }
   ],
   "source": [
    "#Load TEST file\n",
    "X,y_test=LoadAndPreprocessDataset.loadBatch(test,batch_size=nTestSamples, nCategories=nCategories)\n",
    "#Preprocess TEST\n",
    "X_test=LoadAndPreprocessDataset.MFCC_DELTA(X,n_mfcc=40)\n",
    "#X_test=LoadAndPreprocessDataset.MFCC(X,n_mfcc=40)\n",
    "#X_test=LoadAndPreprocessDataset.melspect(X)\n",
    "#X_test=X\n",
    "#Release memory\n",
    "del(X)\n",
    "\n",
    "#ADD extra dimension for CNN\n",
    "import numpy as np\n",
    "X_test = X_test[..., np.newaxis]\n",
    "\n",
    "\n",
    "print('X_test uses',X_test.shape[0],\"of\",len(test),\"files\",\"and occupies\",X_test.nbytes,\"bytes\")\n",
    "\n",
    "\n",
    "#DEBUGGING: Check how many examples there are per category\n",
    "testCat={}\n",
    "for e in categories: testCat[e]=0\n",
    "for e in y_test: testCat[categories[e]]+=1\n",
    "print(testCat)"
   ]
  },
  {
   "cell_type": "code",
   "execution_count": 13,
   "metadata": {},
   "outputs": [
    {
     "name": "stdout",
     "output_type": "stream",
     "text": [
      "3000/3000 [==============================] - 7s 2ms/sample - loss: 0.2569 - sparse_categorical_accuracy: 0.9393\n"
     ]
    },
    {
     "data": {
      "text/plain": [
       "'import time\\n\\ns=time.time()\\ny_pred=np.argmax(model.predict(X_test[:500,:,:]),1)\\ne=time.time()\\nprint(\"Entire:\",e-s)\\n\\nstarts=np.empty((len(X_test),))\\nends=np.empty((len(X_test),))\\nfor i in range(len(X_test)):\\n    a=np.array([X_test[i]])\\n    starts[i]=time.time()\\n    a=np.argmax(model.predict(a),1)\\n    ends[i]=time.time()\\naverage=sum(ends-starts)/len(X_test)\\nprint(\"Average single prediction time (s):\",average)'"
      ]
     },
     "execution_count": 13,
     "metadata": {},
     "output_type": "execute_result"
    }
   ],
   "source": [
    "#load best model\n",
    "from tensorflow.keras.models import load_model\n",
    "model = load_model('models/'+save_name+'.h5')\n",
    "\n",
    "# Test the model on test data\n",
    "import numpy as np\n",
    "score = model.evaluate(X_test, y_test)\n",
    "y_pred=np.argmax(model.predict(X_test),1)\n",
    "\n",
    "\n",
    "#Measure time for every single prediction\n",
    "\"\"\"import time\n",
    "\n",
    "s=time.time()\n",
    "y_pred=np.argmax(model.predict(X_test[:500,:,:]),1)\n",
    "e=time.time()\n",
    "print(\"Entire:\",e-s)\n",
    "\n",
    "starts=np.empty((len(X_test),))\n",
    "ends=np.empty((len(X_test),))\n",
    "for i in range(len(X_test)):\n",
    "    a=np.array([X_test[i]])\n",
    "    starts[i]=time.time()\n",
    "    a=np.argmax(model.predict(a),1)\n",
    "    ends[i]=time.time()\n",
    "average=sum(ends-starts)/len(X_test)\n",
    "print(\"Average single prediction time (s):\",average)\"\"\"\n",
    "\n",
    "# 1 prediction or a batch of 10 requires the same amount of time\n",
    "# a batch of 100 prediction requires the double of 1\n",
    "# a batch of 500 prediction requires the 3 times of 1"
   ]
  },
  {
   "cell_type": "markdown",
   "metadata": {},
   "source": [
    "# 4) Metrics Summary"
   ]
  },
  {
   "cell_type": "code",
   "execution_count": 14,
   "metadata": {},
   "outputs": [
    {
     "name": "stdout",
     "output_type": "stream",
     "text": [
      "Train loss:\t 0.022\n",
      "Train accuracy:\t 0.993\n",
      "Val loss:\t 0.332\n",
      "Val accuracy:\t 0.933\n",
      "Test loss:\t 0.257\n",
      "Test accuracy:\t 0.939\n",
      "Bias:\t\t 0.007\n",
      "Variance:\t 0.06\n",
      "Precision:\t 0.939\n",
      "Recall:\t\t 0.939\n",
      "F1:\t\t 0.939\n"
     ]
    },
    {
     "data": {
      "image/png": "[encoded data removed]",
      "text/plain": [
       "<Figure size 1080x1080 with 2 Axes>"
      ]
     },
     "metadata": {
      "needs_background": "light"
     },
     "output_type": "display_data"
    }
   ],
   "source": [
    "train_loss=results.history.get('loss')[-1]\n",
    "val_loss=results.history.get('val_loss')[-1]\n",
    "\n",
    "train_error=1-results.history.get('sparse_categorical_accuracy')[-1]\n",
    "val_error=1-results.history.get('val_sparse_categorical_accuracy')[-1]\n",
    "\n",
    "test_loss=score[0]\n",
    "test_error=1-score[1]\n",
    "\n",
    "print('Train loss:\\t', round(train_loss,3))\n",
    "print('Train accuracy:\\t', round(1-train_error,3))\n",
    "print('Val loss:\\t', round(val_loss,3))\n",
    "print('Val accuracy:\\t', round(1-val_error,3))\n",
    "print('Test loss:\\t', round(test_loss,3))\n",
    "print('Test accuracy:\\t', round(score[1],3))\n",
    "\n",
    "optimal_error=0.00 #human error\n",
    "\n",
    "bias=train_error-optimal_error\n",
    "variance=val_error-train_error\n",
    "print(\"Bias:\\t\\t\",round(bias,3))\n",
    "print(\"Variance:\\t\",round(variance,3))\n",
    "\n",
    "\n",
    "# Precision and Recall(sensitivity/true positive rate)\n",
    "from sklearn.metrics import precision_score, recall_score\n",
    "prec=precision_score(y_test, y_pred,average='micro')\n",
    "rec=recall_score(y_test, y_pred,average='micro')\n",
    "\n",
    "#F1 - high if both recall and precision are high.\n",
    "from sklearn.metrics import f1_score\n",
    "f1=f1_score(y_test, y_pred,average='micro')\n",
    "\n",
    "print(\"Precision:\\t\",round(prec,3))\n",
    "print(\"Recall:\\t\\t\",round(rec,3))\n",
    "print(\"F1:\\t\\t\",round(f1,3))\n",
    "\n",
    "# Confusion Matrix\n",
    "from sklearn.metrics import confusion_matrix\n",
    "cm = confusion_matrix(y_test, y_pred)\n",
    "import audioUtils\n",
    "audioUtils.plot_confusion_matrix(cm,categories, normalize=False,save_path=save_dir)\n",
    "\n",
    "\n",
    "\n",
    "# SAVE MODEL SUMMARY and METRICS TO FILE\n",
    "f = open(save_dir+\"Metrics.txt\", \"a\")\n",
    "\n",
    "stringlist = []\n",
    "model.summary(print_fn=lambda x: stringlist.append(x))\n",
    "short_model_summary = \"\\n\".join(stringlist)\n",
    "f.write(short_model_summary+\"\\n\\n\")\n",
    "\n",
    "f.write('Train loss:\\t'+ str(round(train_loss,3))+ \"\\n\")\n",
    "f.write('Train accuracy:\\t'+ str((round(1-train_error,3)))+ \"\\n\")\n",
    "f.write('Val loss:\\t'+ str(round(val_loss,3))+ \"\\n\")\n",
    "f.write('Val accuracy:\\t'+ str((round(1-val_error,3)))+ \"\\n\")\n",
    "f.write('Test loss:\\t'+ str(round(test_loss,3))+ \"\\n\")\n",
    "f.write('Test accuracy:\\t'+ str(round(score[1],3))+ \"\\n\")\n",
    "f.write(\"Bias:\\t\\t\"+str(round(bias,3))+ \"\\n\")\n",
    "f.write(\"Variance:\\t\"+str(round(variance,3))+ \"\\n\")\n",
    "f.write(\"Precision:\\t\"+str(round(prec,3))+ \"\\n\")\n",
    "f.write(\"Recall:\\t\\t\"+str(round(rec,3))+ \"\\n\")\n",
    "f.write(\"F1:\\t\\t\"+str(round(f1,3)))\n",
    "f.close()"
   ]
  },
  {
   "cell_type": "code",
   "execution_count": 15,
   "metadata": {},
   "outputs": [
    {
     "name": "stdout",
     "output_type": "stream",
     "text": [
      "21 up - off\n",
      "21 no - go\n",
      "20 no - down\n",
      "13 down - go\n",
      "11 on - off\n",
      "9 up - on\n",
      "8 off - go\n",
      "8 left - right\n",
      "8 up - stop\n",
      "8 yes - left\n",
      "6 down - on\n",
      "5 up - go\n",
      "4 on - go\n",
      "4 up - left\n",
      "4 no - left\n",
      "4 yes - down\n",
      "2 off - stop\n",
      "2 left - go\n",
      "2 no - stop\n",
      "2 no - off\n"
     ]
    }
   ],
   "source": [
    "#Most mispredicted words\n",
    "n_mistakes=20\n",
    "import heapq\n",
    "h=[]\n",
    "for i in range(nCategories):\n",
    "    for j in range(i+1,nCategories):\n",
    "        heapq.heappush(h,(cm[i,j]+cm[j,i],(i,j)))\n",
    "for e in heapq.nlargest(n_mistakes,h):\n",
    "    print(e[0],categories[e[1][0]],\"-\",categories[e[1][1]])\n",
    "    \n",
    "f = open(save_dir+\"Metrics.txt\", \"a\")\n",
    "f.write('\\n\\nMost '+str(n_mistakes)+ ' mispredicted words\\n')\n",
    "for e in heapq.nlargest(n_mistakes,h):\n",
    "    f.write(str(e[0])+\"\\t\"+str(categories[e[1][0]])+\"-\"+str(categories[e[1][1]])+\"\\n\")\n",
    "f.close()"
   ]
  },
  {
   "cell_type": "code",
   "execution_count": null,
   "metadata": {},
   "outputs": [],
   "source": []
  },
  {
   "cell_type": "code",
   "execution_count": null,
   "metadata": {},
   "outputs": [],
   "source": []
  },
  {
   "cell_type": "code",
   "execution_count": null,
   "metadata": {},
   "outputs": [],
   "source": []
  }
 ],
 "metadata": {
  "kernelspec": {
   "display_name": "gputest",
   "language": "python",
   "name": "gputest"
  },
  "language_info": {
   "codemirror_mode": {
    "name": "ipython",
    "version": 3
   },
   "file_extension": ".py",
   "mimetype": "text/x-python",
   "name": "python",
   "nbconvert_exporter": "python",
   "pygments_lexer": "ipython3",
   "version": "3.7.7"
  }
 },
 "nbformat": 4,
 "nbformat_minor": 4
}
