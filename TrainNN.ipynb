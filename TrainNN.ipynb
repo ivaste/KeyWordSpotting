{
 "cells": [
  {
   "cell_type": "markdown",
   "metadata": {},
   "source": [
    "# 1) Prepare X_train, X_val, y_train, y_val"
   ]
  },
  {
   "cell_type": "code",
   "execution_count": 1,
   "metadata": {},
   "outputs": [],
   "source": [
    "import LoadAndPreprocessDataset"
   ]
  },
  {
   "cell_type": "code",
   "execution_count": 2,
   "metadata": {},
   "outputs": [
    {
     "name": "stdout",
     "output_type": "stream",
     "text": [
      "(30000, 16000) (3000, 16000)\n",
      "(30000, 16000, 1) (3000, 16000, 1)\n",
      "X_train uses 30000 of 30769 files\n",
      "X_val uses 3000 of 3703 files\n"
     ]
    }
   ],
   "source": [
    "#Load filenames\n",
    "train,val,test = LoadAndPreprocessDataset.loadDatasetFilenames()\n",
    "\n",
    "#Load TRAIN files\n",
    "X,y_train=LoadAndPreprocessDataset.loadBatch(train,batch_size=30000)\n",
    "#Preprocess TRAIN\n",
    "#X_train=LoadAndPreprocessDataset.MFCC_DELTA(X,n_mfcc=40)\n",
    "#X_train=LoadAndPreprocessDataset.MFCC(X,n_mfcc=40)\n",
    "#X_train=LoadAndPreprocessDataset.melspect(X)\n",
    "X_train=X #No preprocessing\n",
    "#Release memory\n",
    "del(X)\n",
    "\n",
    "#Load VAL files\n",
    "X,y_val=LoadAndPreprocessDataset.loadBatch(val,batch_size=3000)\n",
    "#Preprocess VAL\n",
    "#X_val=LoadAndPreprocessDataset.MFCC_DELTA(X,n_mfcc=40)\n",
    "#X_val=LoadAndPreprocessDataset.MFCC(X,n_mfcc=40)\n",
    "#X_val=LoadAndPreprocessDataset.melspect(X)\n",
    "X_val=X #No preprocessing\n",
    "#Release memory\n",
    "del(X)\n",
    "\n",
    "print(X_train.shape,X_val.shape)\n",
    "\n",
    "\n",
    "# NORMALIZATION\n",
    "### NO normalization seems better\n",
    "#from sklearn.preprocessing import normalize\n",
    "#from sklearn.preprocessing import MinMaxScaler\n",
    "#scaler = MinMaxScaler(feature_range=(-1,1)) # Gives huge bias\n",
    "#for i in range(len(X_train)):\n",
    "    #X_train[i]=normalize(X_train[i], axis=0, norm='max') #normalize each feature of the example\n",
    "    #X_train[i]=(X_train[i] - X_train[i].min(0)) / X_train[i].ptp(0) # HUGE BIAS\n",
    "    #X_train[i]=scaler.fit_transform(X_train[i]) # HUGE BIAS\n",
    "#for i in range(len(X_val)):\n",
    "    #X_val[i]=normalize(X_val[i], axis=0, norm='max') #normalize each feature of the example\n",
    "    #X_val[i]=(X_val[i] - X_val[i].min(0)) / X_val[i].ptp(0) #HUGE BIAS\n",
    "    #X_val[i]=scaler.fit_transform(X_val[i])  # HUGE BIAS\n",
    "\n",
    "\n",
    "#ADD extra dimension for CNN\n",
    "import numpy as np\n",
    "X_train = X_train[..., np.newaxis]\n",
    "X_val = X_val[..., np.newaxis]\n",
    "print(X_train.shape,X_val.shape)\n",
    "\n",
    "\n",
    "print('X_train uses',X_train.shape[0],\"of\",len(train),\"files\")\n",
    "print('X_val uses',X_val.shape[0],\"of\",len(val),\"files\")"
   ]
  },
  {
   "cell_type": "code",
   "execution_count": null,
   "metadata": {},
   "outputs": [],
   "source": [
    "# Look at some data\n",
    "\n",
    "print(X_train.shape)\n",
    "print(y_train.shape)\n",
    "print(X_val.shape)\n",
    "print(y_val.shape)\n",
    "\n",
    "import matplotlib.pyplot as plt\n",
    "plt.figure(figsize=(10, 4))\n",
    "plt.pcolormesh(X_train[0,:,:,0])\n",
    "plt.show()\n",
    "\n",
    "plt.figure(figsize=(10, 4))\n",
    "plt.pcolormesh(X_val[0,:,:,0])\n",
    "plt.show()\n",
    "\n",
    "import numpy as np\n",
    "print(np.min(X_train))\n",
    "print(np.max(X_train))\n",
    "\n",
    "'''for i in range(len(X_train[1])):\n",
    "    print(i,np.min(X_train[1,i]),np.max(X_train[1,i]))\n",
    "print(X_train[1].shape)'''"
   ]
  },
  {
   "cell_type": "markdown",
   "metadata": {},
   "source": [
    "----------------------------------------------------\n",
    "\n",
    "# 2) Model\n"
   ]
  },
  {
   "cell_type": "markdown",
   "metadata": {},
   "source": [
    "## Define NN"
   ]
  },
  {
   "cell_type": "code",
   "execution_count": 3,
   "metadata": {},
   "outputs": [],
   "source": [
    "import Models"
   ]
  },
  {
   "cell_type": "code",
   "execution_count": 18,
   "metadata": {},
   "outputs": [
    {
     "name": "stdout",
     "output_type": "stream",
     "text": [
      "Model: \"DirectCNN\"\n",
      "_________________________________________________________________\n",
      "Layer (type)                 Output Shape              Param #   \n",
      "=================================================================\n",
      "input_3 (InputLayer)         [(None, 16000, 1)]        0         \n",
      "_________________________________________________________________\n",
      "conv1d_8 (Conv1D)            (None, 7969, 16)          1040      \n",
      "_________________________________________________________________\n",
      "max_pooling1d_4 (MaxPooling1 (None, 996, 16)           0         \n",
      "_________________________________________________________________\n",
      "conv1d_9 (Conv1D)            (None, 483, 32)           16416     \n",
      "_________________________________________________________________\n",
      "max_pooling1d_5 (MaxPooling1 (None, 60, 32)            0         \n",
      "_________________________________________________________________\n",
      "conv1d_10 (Conv1D)           (None, 23, 64)            32832     \n",
      "_________________________________________________________________\n",
      "conv1d_11 (Conv1D)           (None, 8, 128)            65664     \n",
      "_________________________________________________________________\n",
      "flatten_2 (Flatten)          (None, 1024)              0         \n",
      "_________________________________________________________________\n",
      "dense_6 (Dense)              (None, 128)               131200    \n",
      "_________________________________________________________________\n",
      "dense_7 (Dense)              (None, 64)                8256      \n",
      "_________________________________________________________________\n",
      "dense_8 (Dense)              (None, 10)                650       \n",
      "=================================================================\n",
      "Total params: 256,058\n",
      "Trainable params: 256,058\n",
      "Non-trainable params: 0\n",
      "_________________________________________________________________\n"
     ]
    }
   ],
   "source": [
    "categories=['yes','no','up','down','left','right','on','off','stop','go']\n",
    "nCategories=len(categories)\n",
    "\n",
    "\n",
    "import datetime\n",
    "modelName=\"DirectCNN\"\n",
    "save_name=datetime.datetime.now().strftime(\"%Y-%m-%d_%H-%M\")+\"_\"+modelName\n",
    "\n",
    "'''model = Models.LeNet5(nCategories,\n",
    "                        inputShape=X_train.shape[1:],\n",
    "                        name=modelName)\n",
    "model = Models.AttRNNSpeechModel(nCategories,\n",
    "                        inputShape=X_train.shape[1:],\n",
    "                        name=modelName)'''\n",
    "model = Models.directCNN(nCategories,\n",
    "                        inputShape=X_train.shape[1:],\n",
    "                        name=modelName)\n",
    "\n",
    "\n",
    "model.compile(optimizer='nadam',\n",
    "              loss=['sparse_categorical_crossentropy'],\n",
    "              metrics=['sparse_categorical_accuracy'])\n",
    "\n",
    "model.summary()"
   ]
  },
  {
   "cell_type": "markdown",
   "metadata": {},
   "source": [
    "## Train NN"
   ]
  },
  {
   "cell_type": "code",
   "execution_count": 19,
   "metadata": {},
   "outputs": [],
   "source": [
    "from tensorflow.keras.callbacks import EarlyStopping, ModelCheckpoint, LearningRateScheduler, TensorBoard\n",
    "import math\n",
    "\n",
    "\n",
    "log_dir = \"logs\\\\\"+save_name\n",
    "\n",
    "def step_decay(epoch):\n",
    "    initial_lrate = 0.001\n",
    "    drop = 0.4\n",
    "    epochs_drop = 15.0\n",
    "    lrate = initial_lrate * math.pow(drop, math.floor((1+epoch)/epochs_drop))\n",
    "    \n",
    "    if (lrate < 4e-5):\n",
    "        lrate = 4e-5\n",
    "      \n",
    "    print('Changing learning rate to {}'.format(lrate))\n",
    "    return lrate\n",
    "lrate = LearningRateScheduler(step_decay)\n",
    "\n",
    "def performance_scheduling(epoch):\n",
    "    #.....\n",
    "    return lrate\n",
    "\n",
    "my_callbacks = [\n",
    "    EarlyStopping(monitor='val_sparse_categorical_accuracy',\n",
    "                  patience=20,\n",
    "                  verbose=1,\n",
    "                  restore_best_weights=True),\n",
    "    ModelCheckpoint('models/'+save_name+'.h5',\n",
    "                    monitor='val_sparse_categorical_accuracy',\n",
    "                    verbose=1,\n",
    "                    save_best_only=True),\n",
    "    TensorBoard(log_dir=log_dir,histogram_freq=1)]\n",
    "    #lrate]\n"
   ]
  },
  {
   "cell_type": "code",
   "execution_count": 20,
   "metadata": {},
   "outputs": [
    {
     "name": "stdout",
     "output_type": "stream",
     "text": [
      "Train on 30000 samples, validate on 3000 samples\n",
      "Epoch 1/100\n",
      "29900/30000 [============================>.] - ETA: 0s - loss: 1.5168 - sparse_categorical_accuracy: 0.4764\n",
      "Epoch 00001: val_sparse_categorical_accuracy improved from -inf to 0.75267, saving model to models/2020-07-22_18-14_DirectCNN.h5\n",
      "30000/30000 [==============================] - 19s 637us/sample - loss: 1.5145 - sparse_categorical_accuracy: 0.4770 - val_loss: 0.7806 - val_sparse_categorical_accuracy: 0.7527\n",
      "Epoch 2/100\n",
      "29900/30000 [============================>.] - ETA: 0s - loss: 0.6411 - sparse_categorical_accuracy: 0.7897\n",
      "Epoch 00002: val_sparse_categorical_accuracy improved from 0.75267 to 0.84167, saving model to models/2020-07-22_18-14_DirectCNN.h5\n",
      "30000/30000 [==============================] - 18s 591us/sample - loss: 0.6403 - sparse_categorical_accuracy: 0.7899 - val_loss: 0.4952 - val_sparse_categorical_accuracy: 0.8417\n",
      "Epoch 3/100\n",
      "29900/30000 [============================>.] - ETA: 0s - loss: 0.4262 - sparse_categorical_accuracy: 0.8558\n",
      "Epoch 00003: val_sparse_categorical_accuracy improved from 0.84167 to 0.86933, saving model to models/2020-07-22_18-14_DirectCNN.h5\n",
      "30000/30000 [==============================] - 18s 590us/sample - loss: 0.4258 - sparse_categorical_accuracy: 0.8559 - val_loss: 0.4221 - val_sparse_categorical_accuracy: 0.8693\n",
      "Epoch 4/100\n",
      "29900/30000 [============================>.] - ETA: 0s - loss: 0.3230 - sparse_categorical_accuracy: 0.8906\n",
      "Epoch 00004: val_sparse_categorical_accuracy improved from 0.86933 to 0.89300, saving model to models/2020-07-22_18-14_DirectCNN.h5\n",
      "30000/30000 [==============================] - 18s 595us/sample - loss: 0.3233 - sparse_categorical_accuracy: 0.8905 - val_loss: 0.3587 - val_sparse_categorical_accuracy: 0.8930\n",
      "Epoch 5/100\n",
      "29800/30000 [============================>.] - ETA: 0s - loss: 0.2655 - sparse_categorical_accuracy: 0.9094\n",
      "Epoch 00005: val_sparse_categorical_accuracy did not improve from 0.89300\n",
      "30000/30000 [==============================] - 18s 587us/sample - loss: 0.2655 - sparse_categorical_accuracy: 0.9094 - val_loss: 0.3680 - val_sparse_categorical_accuracy: 0.8853\n",
      "Epoch 6/100\n",
      "29900/30000 [============================>.] - ETA: 0s - loss: 0.2163 - sparse_categorical_accuracy: 0.9249\n",
      "Epoch 00006: val_sparse_categorical_accuracy improved from 0.89300 to 0.90000, saving model to models/2020-07-22_18-14_DirectCNN.h5\n",
      "30000/30000 [==============================] - 18s 588us/sample - loss: 0.2165 - sparse_categorical_accuracy: 0.9249 - val_loss: 0.3426 - val_sparse_categorical_accuracy: 0.9000\n",
      "Epoch 7/100\n",
      "29900/30000 [============================>.] - ETA: 0s - loss: 0.1894 - sparse_categorical_accuracy: 0.9324\n",
      "Epoch 00007: val_sparse_categorical_accuracy improved from 0.90000 to 0.90800, saving model to models/2020-07-22_18-14_DirectCNN.h5\n",
      "30000/30000 [==============================] - 18s 592us/sample - loss: 0.1891 - sparse_categorical_accuracy: 0.9325 - val_loss: 0.3162 - val_sparse_categorical_accuracy: 0.9080\n",
      "Epoch 8/100\n",
      "29900/30000 [============================>.] - ETA: 0s - loss: 0.1610 - sparse_categorical_accuracy: 0.9437\n",
      "Epoch 00008: val_sparse_categorical_accuracy improved from 0.90800 to 0.91433, saving model to models/2020-07-22_18-14_DirectCNN.h5\n",
      "30000/30000 [==============================] - 17s 577us/sample - loss: 0.1610 - sparse_categorical_accuracy: 0.9437 - val_loss: 0.3115 - val_sparse_categorical_accuracy: 0.9143\n",
      "Epoch 9/100\n",
      "29900/30000 [============================>.] - ETA: 0s - loss: 0.1441 - sparse_categorical_accuracy: 0.9492\n",
      "Epoch 00009: val_sparse_categorical_accuracy did not improve from 0.91433\n",
      "30000/30000 [==============================] - 17s 574us/sample - loss: 0.1444 - sparse_categorical_accuracy: 0.9492 - val_loss: 0.3839 - val_sparse_categorical_accuracy: 0.9027\n",
      "Epoch 10/100\n",
      "29800/30000 [============================>.] - ETA: 0s - loss: 0.1278 - sparse_categorical_accuracy: 0.9547\n",
      "Epoch 00010: val_sparse_categorical_accuracy did not improve from 0.91433\n",
      "30000/30000 [==============================] - 17s 576us/sample - loss: 0.1281 - sparse_categorical_accuracy: 0.9546 - val_loss: 0.4364 - val_sparse_categorical_accuracy: 0.8913\n",
      "Epoch 11/100\n",
      "29800/30000 [============================>.] - ETA: 0s - loss: 0.1190 - sparse_categorical_accuracy: 0.9588\n",
      "Epoch 00011: val_sparse_categorical_accuracy did not improve from 0.91433\n",
      "30000/30000 [==============================] - 17s 573us/sample - loss: 0.1189 - sparse_categorical_accuracy: 0.9587 - val_loss: 0.3725 - val_sparse_categorical_accuracy: 0.9093\n",
      "Epoch 12/100\n",
      "29900/30000 [============================>.] - ETA: 0s - loss: 0.1042 - sparse_categorical_accuracy: 0.9631\n",
      "Epoch 00012: val_sparse_categorical_accuracy did not improve from 0.91433\n",
      "30000/30000 [==============================] - 17s 574us/sample - loss: 0.1041 - sparse_categorical_accuracy: 0.9630 - val_loss: 0.4116 - val_sparse_categorical_accuracy: 0.9117\n",
      "Epoch 13/100\n",
      "29900/30000 [============================>.] - ETA: 0s - loss: 0.1113 - sparse_categorical_accuracy: 0.9636\n",
      "Epoch 00013: val_sparse_categorical_accuracy did not improve from 0.91433\n",
      "30000/30000 [==============================] - 17s 578us/sample - loss: 0.1111 - sparse_categorical_accuracy: 0.9637 - val_loss: 0.4343 - val_sparse_categorical_accuracy: 0.8993\n",
      "Epoch 14/100\n",
      "29800/30000 [============================>.] - ETA: 0s - loss: 0.0841 - sparse_categorical_accuracy: 0.9708\n",
      "Epoch 00014: val_sparse_categorical_accuracy did not improve from 0.91433\n",
      "30000/30000 [==============================] - 17s 571us/sample - loss: 0.0840 - sparse_categorical_accuracy: 0.9708 - val_loss: 0.3747 - val_sparse_categorical_accuracy: 0.9073\n",
      "Epoch 15/100\n",
      "29800/30000 [============================>.] - ETA: 0s - loss: 0.0965 - sparse_categorical_accuracy: 0.9682\n",
      "Epoch 00015: val_sparse_categorical_accuracy did not improve from 0.91433\n",
      "30000/30000 [==============================] - 17s 578us/sample - loss: 0.0967 - sparse_categorical_accuracy: 0.9682 - val_loss: 0.3897 - val_sparse_categorical_accuracy: 0.9130\n",
      "Epoch 16/100\n",
      "29900/30000 [============================>.] - ETA: 0s - loss: 0.0747 - sparse_categorical_accuracy: 0.9743\n",
      "Epoch 00016: val_sparse_categorical_accuracy did not improve from 0.91433\n",
      "30000/30000 [==============================] - 17s 577us/sample - loss: 0.0748 - sparse_categorical_accuracy: 0.9743 - val_loss: 0.4894 - val_sparse_categorical_accuracy: 0.9087\n",
      "Epoch 17/100\n",
      "29900/30000 [============================>.] - ETA: 0s - loss: 0.0689 - sparse_categorical_accuracy: 0.9771\n",
      "Epoch 00017: val_sparse_categorical_accuracy improved from 0.91433 to 0.91467, saving model to models/2020-07-22_18-14_DirectCNN.h5\n",
      "30000/30000 [==============================] - 17s 578us/sample - loss: 0.0688 - sparse_categorical_accuracy: 0.9771 - val_loss: 0.4767 - val_sparse_categorical_accuracy: 0.9147\n",
      "Epoch 18/100\n",
      "29900/30000 [============================>.] - ETA: 0s - loss: 0.0644 - sparse_categorical_accuracy: 0.9782\n",
      "Epoch 00018: val_sparse_categorical_accuracy did not improve from 0.91467\n",
      "30000/30000 [==============================] - 17s 579us/sample - loss: 0.0644 - sparse_categorical_accuracy: 0.9782 - val_loss: 0.5905 - val_sparse_categorical_accuracy: 0.8993\n",
      "Epoch 19/100\n",
      "29800/30000 [============================>.] - ETA: 0s - loss: 0.0777 - sparse_categorical_accuracy: 0.9741\n",
      "Epoch 00019: val_sparse_categorical_accuracy did not improve from 0.91467\n",
      "30000/30000 [==============================] - 17s 578us/sample - loss: 0.0776 - sparse_categorical_accuracy: 0.9742 - val_loss: 0.5063 - val_sparse_categorical_accuracy: 0.9093\n",
      "Epoch 20/100\n",
      "29900/30000 [============================>.] - ETA: 0s - loss: 0.0617 - sparse_categorical_accuracy: 0.9800- ETA: 2s - loss: 0.0631 - sparse_cat\n",
      "Epoch 00020: val_sparse_categorical_accuracy did not improve from 0.91467\n",
      "30000/30000 [==============================] - 17s 576us/sample - loss: 0.0616 - sparse_categorical_accuracy: 0.9801 - val_loss: 0.5506 - val_sparse_categorical_accuracy: 0.9110\n",
      "Epoch 21/100\n",
      "29900/30000 [============================>.] - ETA: 0s - loss: 0.0541 - sparse_categorical_accuracy: 0.9819\n",
      "Epoch 00021: val_sparse_categorical_accuracy did not improve from 0.91467\n",
      "30000/30000 [==============================] - 17s 578us/sample - loss: 0.0541 - sparse_categorical_accuracy: 0.9819 - val_loss: 0.5329 - val_sparse_categorical_accuracy: 0.9060\n"
     ]
    },
    {
     "name": "stdout",
     "output_type": "stream",
     "text": [
      "Epoch 22/100\n",
      "29900/30000 [============================>.] - ETA: 0s - loss: 0.0586 - sparse_categorical_accuracy: 0.9815\n",
      "Epoch 00022: val_sparse_categorical_accuracy did not improve from 0.91467\n",
      "30000/30000 [==============================] - 17s 583us/sample - loss: 0.0585 - sparse_categorical_accuracy: 0.9815 - val_loss: 0.5501 - val_sparse_categorical_accuracy: 0.9073\n",
      "Epoch 23/100\n",
      "29900/30000 [============================>.] - ETA: 0s - loss: 0.0543 - sparse_categorical_accuracy: 0.9819\n",
      "Epoch 00023: val_sparse_categorical_accuracy did not improve from 0.91467\n",
      "30000/30000 [==============================] - 17s 583us/sample - loss: 0.0545 - sparse_categorical_accuracy: 0.9818 - val_loss: 0.5882 - val_sparse_categorical_accuracy: 0.9020\n",
      "Epoch 24/100\n",
      "29900/30000 [============================>.] - ETA: 0s - loss: 0.0653 - sparse_categorical_accuracy: 0.9798\n",
      "Epoch 00024: val_sparse_categorical_accuracy did not improve from 0.91467\n",
      "30000/30000 [==============================] - 17s 579us/sample - loss: 0.0654 - sparse_categorical_accuracy: 0.9798 - val_loss: 0.5777 - val_sparse_categorical_accuracy: 0.9010\n",
      "Epoch 25/100\n",
      "29800/30000 [============================>.] - ETA: 0s - loss: 0.0537 - sparse_categorical_accuracy: 0.9825\n",
      "Epoch 00025: val_sparse_categorical_accuracy did not improve from 0.91467\n",
      "30000/30000 [==============================] - 17s 575us/sample - loss: 0.0536 - sparse_categorical_accuracy: 0.9825 - val_loss: 0.5113 - val_sparse_categorical_accuracy: 0.9127\n",
      "Epoch 26/100\n",
      "29900/30000 [============================>.] - ETA: 0s - loss: 0.0327 - sparse_categorical_accuracy: 0.9892\n",
      "Epoch 00026: val_sparse_categorical_accuracy did not improve from 0.91467\n",
      "30000/30000 [==============================] - 17s 573us/sample - loss: 0.0329 - sparse_categorical_accuracy: 0.9891 - val_loss: 0.5424 - val_sparse_categorical_accuracy: 0.9137\n",
      "Epoch 27/100\n",
      "29900/30000 [============================>.] - ETA: 0s - loss: 0.0382 - sparse_categorical_accuracy: 0.9878\n",
      "Epoch 00027: val_sparse_categorical_accuracy did not improve from 0.91467\n",
      "30000/30000 [==============================] - 17s 574us/sample - loss: 0.0381 - sparse_categorical_accuracy: 0.9879 - val_loss: 0.6491 - val_sparse_categorical_accuracy: 0.9033\n",
      "Epoch 28/100\n",
      "29900/30000 [============================>.] - ETA: 0s - loss: 0.0495 - sparse_categorical_accuracy: 0.9836\n",
      "Epoch 00028: val_sparse_categorical_accuracy did not improve from 0.91467\n",
      "30000/30000 [==============================] - 18s 586us/sample - loss: 0.0495 - sparse_categorical_accuracy: 0.9836 - val_loss: 0.6341 - val_sparse_categorical_accuracy: 0.9087\n",
      "Epoch 29/100\n",
      "29900/30000 [============================>.] - ETA: 0s - loss: 0.0401 - sparse_categorical_accuracy: 0.9871\n",
      "Epoch 00029: val_sparse_categorical_accuracy did not improve from 0.91467\n",
      "30000/30000 [==============================] - 18s 585us/sample - loss: 0.0400 - sparse_categorical_accuracy: 0.9871 - val_loss: 0.7526 - val_sparse_categorical_accuracy: 0.8990\n",
      "Epoch 30/100\n",
      "29900/30000 [============================>.] - ETA: 0s - loss: 0.0571 - sparse_categorical_accuracy: 0.9833\n",
      "Epoch 00030: val_sparse_categorical_accuracy did not improve from 0.91467\n",
      "30000/30000 [==============================] - 17s 572us/sample - loss: 0.0571 - sparse_categorical_accuracy: 0.9832 - val_loss: 0.6387 - val_sparse_categorical_accuracy: 0.9027\n",
      "Epoch 31/100\n",
      "29900/30000 [============================>.] - ETA: 0s - loss: 0.0491 - sparse_categorical_accuracy: 0.9846- ETA: 2s - loss: 0.0498 - sparse_c\n",
      "Epoch 00031: val_sparse_categorical_accuracy did not improve from 0.91467\n",
      "30000/30000 [==============================] - 17s 572us/sample - loss: 0.0490 - sparse_categorical_accuracy: 0.9846 - val_loss: 0.5779 - val_sparse_categorical_accuracy: 0.9033\n",
      "Epoch 32/100\n",
      "29900/30000 [============================>.] - ETA: 0s - loss: 0.0481 - sparse_categorical_accuracy: 0.9858\n",
      "Epoch 00032: val_sparse_categorical_accuracy did not improve from 0.91467\n",
      "30000/30000 [==============================] - 17s 566us/sample - loss: 0.0482 - sparse_categorical_accuracy: 0.9857 - val_loss: 0.5402 - val_sparse_categorical_accuracy: 0.9110\n",
      "Epoch 33/100\n",
      "29800/30000 [============================>.] - ETA: 0s - loss: 0.0349 - sparse_categorical_accuracy: 0.9896\n",
      "Epoch 00033: val_sparse_categorical_accuracy did not improve from 0.91467\n",
      "30000/30000 [==============================] - 17s 564us/sample - loss: 0.0347 - sparse_categorical_accuracy: 0.9897 - val_loss: 0.6087 - val_sparse_categorical_accuracy: 0.9133\n",
      "Epoch 34/100\n",
      "29900/30000 [============================>.] - ETA: 0s - loss: 0.0362 - sparse_categorical_accuracy: 0.9894\n",
      "Epoch 00034: val_sparse_categorical_accuracy did not improve from 0.91467\n",
      "30000/30000 [==============================] - 17s 576us/sample - loss: 0.0362 - sparse_categorical_accuracy: 0.9894 - val_loss: 0.6492 - val_sparse_categorical_accuracy: 0.9123\n",
      "Epoch 35/100\n",
      "29900/30000 [============================>.] - ETA: 0s - loss: 0.0347 - sparse_categorical_accuracy: 0.9893\n",
      "Epoch 00035: val_sparse_categorical_accuracy did not improve from 0.91467\n",
      "30000/30000 [==============================] - 18s 586us/sample - loss: 0.0346 - sparse_categorical_accuracy: 0.9893 - val_loss: 0.6034 - val_sparse_categorical_accuracy: 0.9087\n",
      "Epoch 36/100\n",
      "29900/30000 [============================>.] - ETA: 0s - loss: 0.0409 - sparse_categorical_accuracy: 0.9880\n",
      "Epoch 00036: val_sparse_categorical_accuracy did not improve from 0.91467\n",
      "30000/30000 [==============================] - 17s 578us/sample - loss: 0.0409 - sparse_categorical_accuracy: 0.9880 - val_loss: 0.6138 - val_sparse_categorical_accuracy: 0.9130\n",
      "Epoch 37/100\n",
      "29900/30000 [============================>.] - ETA: 0s - loss: 0.0321 - sparse_categorical_accuracy: 0.9901Restoring model weights from the end of the best epoch.\n",
      "\n",
      "Epoch 00037: val_sparse_categorical_accuracy did not improve from 0.91467\n",
      "30000/30000 [==============================] - 17s 575us/sample - loss: 0.0321 - sparse_categorical_accuracy: 0.9902 - val_loss: 0.6880 - val_sparse_categorical_accuracy: 0.9013\n",
      "Epoch 00037: early stopping\n"
     ]
    }
   ],
   "source": [
    "#Train\n",
    "results = model.fit(x=X_train,\n",
    "                    y=y_train,\n",
    "                    validation_data=(X_val,y_val),\n",
    "                    batch_size=32, # usually between 10 and 32\n",
    "                    epochs=100,\n",
    "                    callbacks=my_callbacks,\n",
    "                    verbose=1)\n",
    "\n",
    "#model.save('models/'+modelName+'.h5')"
   ]
  },
  {
   "cell_type": "code",
   "execution_count": 21,
   "metadata": {},
   "outputs": [
    {
     "data": {
      "image/png": "[encoded data removed]",
      "text/plain": [
       "<Figure size 432x288 with 1 Axes>"
      ]
     },
     "metadata": {
      "needs_background": "light"
     },
     "output_type": "display_data"
    },
    {
     "data": {
      "image/png": "[encoded data removed]",
      "text/plain": [
       "<Figure size 432x288 with 1 Axes>"
      ]
     },
     "metadata": {
      "needs_background": "light"
     },
     "output_type": "display_data"
    }
   ],
   "source": [
    "import matplotlib.pyplot as plt\n",
    "\n",
    "save_dir=\"output/\"+save_name+\"_\"\n",
    "\n",
    "# summarize history for categorical accuracy\n",
    "plt.plot(results.history['sparse_categorical_accuracy'])\n",
    "plt.plot(results.history['val_sparse_categorical_accuracy'])\n",
    "plt.title('Categorical accuracy')\n",
    "plt.ylabel('accuracy')\n",
    "plt.xlabel('epoch')\n",
    "plt.legend(['train', 'val'], loc='upper left')\n",
    "plt.savefig(save_dir+\"Categorical Accuracy\", dpi=400)\n",
    "plt.show()\n",
    "\n",
    "# summarize history for loss\n",
    "plt.plot(results.history['loss'])\n",
    "plt.plot(results.history['val_loss'])\n",
    "plt.title('model loss')\n",
    "plt.ylabel('loss')\n",
    "plt.xlabel('epoch')\n",
    "plt.legend(['train', 'val'], loc='upper left')\n",
    "plt.savefig(save_dir+\"Loss\", dpi=400)\n",
    "plt.show()\n",
    "\n"
   ]
  },
  {
   "cell_type": "markdown",
   "metadata": {},
   "source": [
    "--------------------------------------------"
   ]
  },
  {
   "cell_type": "markdown",
   "metadata": {},
   "source": [
    "# 3) Test the model"
   ]
  },
  {
   "cell_type": "code",
   "execution_count": 22,
   "metadata": {},
   "outputs": [],
   "source": [
    "#Load TEST file\n",
    "X,y_test=LoadAndPreprocessDataset.loadBatch(val,batch_size=3000)\n",
    "#Preprocess TEST\n",
    "#X_test=LoadAndPreprocessDataset.MFCC_DELTA(X,n_mfcc=40)\n",
    "#X_test=LoadAndPreprocessDataset.MFCC(X,n_mfcc=40)\n",
    "#X_test=LoadAndPreprocessDataset.melspect(X)\n",
    "X_test=X\n",
    "#Release memory\n",
    "del(X)\n",
    "\n",
    "#ADD extra dimension for CNN\n",
    "import numpy as np\n",
    "X_test = X_test[..., np.newaxis]"
   ]
  },
  {
   "cell_type": "code",
   "execution_count": 23,
   "metadata": {},
   "outputs": [
    {
     "name": "stdout",
     "output_type": "stream",
     "text": [
      "3000/3000 [==============================] - 1s 406us/sample - loss: 0.4956 - sparse_categorical_accuracy: 0.9143\n"
     ]
    },
    {
     "data": {
      "text/plain": [
       "'import time\\n\\ns=time.time()\\ny_pred=np.argmax(model.predict(X_test[:500,:,:]),1)\\ne=time.time()\\nprint(\"Entire:\",e-s)\\n\\nstarts=np.empty((len(X_test),))\\nends=np.empty((len(X_test),))\\nfor i in range(len(X_test)):\\n    a=np.array([X_test[i]])\\n    starts[i]=time.time()\\n    a=np.argmax(model.predict(a),1)\\n    ends[i]=time.time()\\naverage=sum(ends-starts)/len(X_test)\\nprint(\"Average single prediction time (s):\",average)'"
      ]
     },
     "execution_count": 23,
     "metadata": {},
     "output_type": "execute_result"
    }
   ],
   "source": [
    "#load best model\n",
    "from tensorflow.keras.models import load_model\n",
    "model = load_model('models/'+save_name+'.h5')\n",
    "\n",
    "# Test the model on test data\n",
    "import numpy as np\n",
    "score = model.evaluate(X_test, y_test)\n",
    "y_pred=np.argmax(model.predict(X_test),1)\n",
    "\n",
    "\n",
    "#Measure time for every single prediction\n",
    "\"\"\"import time\n",
    "\n",
    "s=time.time()\n",
    "y_pred=np.argmax(model.predict(X_test[:500,:,:]),1)\n",
    "e=time.time()\n",
    "print(\"Entire:\",e-s)\n",
    "\n",
    "starts=np.empty((len(X_test),))\n",
    "ends=np.empty((len(X_test),))\n",
    "for i in range(len(X_test)):\n",
    "    a=np.array([X_test[i]])\n",
    "    starts[i]=time.time()\n",
    "    a=np.argmax(model.predict(a),1)\n",
    "    ends[i]=time.time()\n",
    "average=sum(ends-starts)/len(X_test)\n",
    "print(\"Average single prediction time (s):\",average)\"\"\"\n",
    "\n",
    "# 1 prediction or a batch of 10 requires the same amount of time\n",
    "# a batch of 100 prediction requires the double of 1\n",
    "# a batch of 500 prediction requires the 3 times of 1"
   ]
  },
  {
   "cell_type": "markdown",
   "metadata": {},
   "source": [
    "# 4) Metrics Summary"
   ]
  },
  {
   "cell_type": "code",
   "execution_count": 24,
   "metadata": {},
   "outputs": [
    {
     "name": "stdout",
     "output_type": "stream",
     "text": [
      "Train loss:\t 0.032\n",
      "Train accuracy:\t 0.99\n",
      "Val loss:\t 0.688\n",
      "Val accuracy:\t 0.901\n",
      "Test loss:\t 0.496\n",
      "Test accuracy:\t 0.914\n",
      "Bias:\t\t 0.01\n",
      "Variance:\t 0.089\n",
      "Precision:\t 0.914\n",
      "Recall:\t\t 0.914\n",
      "F1:\t\t 0.914\n"
     ]
    },
    {
     "data": {
      "image/png": "[encoded data removed]",
      "text/plain": [
       "<Figure size 1080x1080 with 2 Axes>"
      ]
     },
     "metadata": {
      "needs_background": "light"
     },
     "output_type": "display_data"
    }
   ],
   "source": [
    "train_loss=results.history.get('loss')[-1]\n",
    "val_loss=results.history.get('val_loss')[-1]\n",
    "\n",
    "train_error=1-results.history.get('sparse_categorical_accuracy')[-1]\n",
    "val_error=1-results.history.get('val_sparse_categorical_accuracy')[-1]\n",
    "\n",
    "test_loss=score[0]\n",
    "test_error=1-score[1]\n",
    "\n",
    "print('Train loss:\\t', round(train_loss,3))\n",
    "print('Train accuracy:\\t', round(1-train_error,3))\n",
    "print('Val loss:\\t', round(val_loss,3))\n",
    "print('Val accuracy:\\t', round(1-val_error,3))\n",
    "print('Test loss:\\t', round(test_loss,3))\n",
    "print('Test accuracy:\\t', round(score[1],3))\n",
    "\n",
    "optimal_error=0.00 #human error\n",
    "\n",
    "bias=train_error-optimal_error\n",
    "variance=val_error-train_error\n",
    "print(\"Bias:\\t\\t\",round(bias,3))\n",
    "print(\"Variance:\\t\",round(variance,3))\n",
    "\n",
    "\n",
    "# Precision and Recall(sensitivity/true positive rate)\n",
    "from sklearn.metrics import precision_score, recall_score\n",
    "prec=precision_score(y_test, y_pred,average='micro')\n",
    "rec=recall_score(y_test, y_pred,average='micro')\n",
    "\n",
    "#F1 - high if both recall and precision are high.\n",
    "from sklearn.metrics import f1_score\n",
    "f1=f1_score(y_test, y_pred,average='micro')\n",
    "\n",
    "print(\"Precision:\\t\",round(prec,3))\n",
    "print(\"Recall:\\t\\t\",round(rec,3))\n",
    "print(\"F1:\\t\\t\",round(f1,3))\n",
    "\n",
    "# Confusion Matrix\n",
    "from sklearn.metrics import confusion_matrix\n",
    "cm = confusion_matrix(y_test, y_pred)\n",
    "import audioUtils\n",
    "audioUtils.plot_confusion_matrix(cm,categories, normalize=False,save_path=save_dir)\n",
    "\n",
    "\n",
    "\n",
    "# SAVE MODEL SUMMARY and METRICS TO FILE\n",
    "f = open(save_dir+\"Metrics.txt\", \"a\")\n",
    "\n",
    "stringlist = []\n",
    "model.summary(print_fn=lambda x: stringlist.append(x))\n",
    "short_model_summary = \"\\n\".join(stringlist)\n",
    "f.write(short_model_summary+\"\\n\\n\")\n",
    "\n",
    "f.write('Train loss:\\t'+ str(round(train_loss,3))+ \"\\n\")\n",
    "f.write('Train accuracy:\\t'+ str((round(1-train_error,3)))+ \"\\n\")\n",
    "f.write('Val loss:\\t'+ str(round(val_loss,3))+ \"\\n\")\n",
    "f.write('Val accuracy:\\t'+ str((round(1-val_error,3)))+ \"\\n\")\n",
    "f.write('Test loss:\\t'+ str(round(test_loss,3))+ \"\\n\")\n",
    "f.write('Test accuracy:\\t'+ str(round(score[1],3))+ \"\\n\")\n",
    "f.write(\"Bias:\\t\\t\"+str(round(bias,3))+ \"\\n\")\n",
    "f.write(\"Variance:\\t\"+str(round(variance,3))+ \"\\n\")\n",
    "f.write(\"Precision:\\t\"+str(round(prec,3))+ \"\\n\")\n",
    "f.write(\"Recall:\\t\\t\"+str(round(rec,3))+ \"\\n\")\n",
    "f.write(\"F1:\\t\\t\"+str(round(f1,3)))\n",
    "f.close()"
   ]
  },
  {
   "cell_type": "code",
   "execution_count": null,
   "metadata": {},
   "outputs": [],
   "source": []
  },
  {
   "cell_type": "code",
   "execution_count": null,
   "metadata": {},
   "outputs": [],
   "source": []
  },
  {
   "cell_type": "code",
   "execution_count": null,
   "metadata": {},
   "outputs": [],
   "source": []
  }
 ],
 "metadata": {
  "kernelspec": {
   "display_name": "gputest",
   "language": "python",
   "name": "gputest"
  },
  "language_info": {
   "codemirror_mode": {
    "name": "ipython",
    "version": 3
   },
   "file_extension": ".py",
   "mimetype": "text/x-python",
   "name": "python",
   "nbconvert_exporter": "python",
   "pygments_lexer": "ipython3",
   "version": "3.7.7"
  }
 },
 "nbformat": 4,
 "nbformat_minor": 4
}
