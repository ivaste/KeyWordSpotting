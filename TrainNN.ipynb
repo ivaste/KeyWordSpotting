{
 "cells": [
  {
   "cell_type": "code",
   "execution_count": 1,
   "metadata": {},
   "outputs": [
    {
     "name": "stdout",
     "output_type": "stream",
     "text": [
      "10\n"
     ]
    }
   ],
   "source": [
    "#Hyperparameters\n",
    "categories=['yes','no','up','down','left','right','on','off','stop','go']\n",
    "#categories=['yes','no','up','down','left','right','on','off','stop','go','zero','one','two','three','four','five','six','seven','eight','nine','unknown']\n",
    "nCategories=len(categories)\n",
    "print(nCategories)\n",
    "\n",
    "nTrainSamples=30000 #30k, 84k\n",
    "nValidSamples=3000 #3k, 9900\n",
    "nTestSamples=3000 #3k, 11k\n",
    "\n"
   ]
  },
  {
   "cell_type": "markdown",
   "metadata": {},
   "source": [
    "# 1) Prepare X_train, X_val, y_train, y_val"
   ]
  },
  {
   "cell_type": "code",
   "execution_count": 2,
   "metadata": {},
   "outputs": [],
   "source": [
    "import LoadAndPreprocessDataset"
   ]
  },
  {
   "cell_type": "code",
   "execution_count": 3,
   "metadata": {},
   "outputs": [
    {
     "name": "stdout",
     "output_type": "stream",
     "text": [
      "(30000, 120, 126) (3000, 120, 126)\n",
      "(30000, 120, 126, 1) (3000, 120, 126, 1)\n",
      "X_train uses 30000 of 30769 files and occupies 3628800000 bytes\n",
      "X_val uses 3000 of 3703 files and occupies 362880000 bytes\n"
     ]
    }
   ],
   "source": [
    "#Load filenames\n",
    "train,val,test = LoadAndPreprocessDataset.loadDatasetFilenames(nCategories=nCategories)\n",
    "\n",
    "#Load TRAIN files\n",
    "X,y_train=LoadAndPreprocessDataset.loadBatch(train,batch_size=nTrainSamples, nCategories=nCategories)\n",
    "#Preprocess TRAIN\n",
    "X_train=LoadAndPreprocessDataset.MFCC_DELTA(X,n_mfcc=40)\n",
    "#X_train=LoadAndPreprocessDataset.MFCC(X,n_mfcc=40)\n",
    "#X_train=LoadAndPreprocessDataset.melspect(X)\n",
    "#X_train=X #No preprocessing\n",
    "#Release memory\n",
    "del(X)\n",
    "\n",
    "#Load VAL files\n",
    "X,y_val=LoadAndPreprocessDataset.loadBatch(val,batch_size=nValidSamples, nCategories=nCategories)\n",
    "#Preprocess VAL\n",
    "X_val=LoadAndPreprocessDataset.MFCC_DELTA(X,n_mfcc=40)\n",
    "#X_val=LoadAndPreprocessDataset.MFCC(X,n_mfcc=40)\n",
    "#X_val=LoadAndPreprocessDataset.melspect(X)\n",
    "#X_val=X #No preprocessing\n",
    "#Release memory\n",
    "del(X)\n",
    "\n",
    "print(X_train.shape,X_val.shape)\n",
    "\n",
    "\n",
    "# NORMALIZATION\n",
    "### NO normalization seems better\n",
    "#from sklearn.preprocessing import normalize\n",
    "#from sklearn.preprocessing import MinMaxScaler\n",
    "#scaler = MinMaxScaler(feature_range=(-1,1)) # Gives huge bias\n",
    "#for i in range(len(X_train)):\n",
    "    #X_train[i]=normalize(X_train[i], axis=0, norm='max') #normalize each feature of the example\n",
    "    #X_train[i]=(X_train[i] - X_train[i].min(0)) / X_train[i].ptp(0) # HUGE BIAS\n",
    "    #X_train[i]=scaler.fit_transform(X_train[i]) # HUGE BIAS\n",
    "#for i in range(len(X_val)):\n",
    "    #X_val[i]=normalize(X_val[i], axis=0, norm='max') #normalize each feature of the example\n",
    "    #X_val[i]=(X_val[i] - X_val[i].min(0)) / X_val[i].ptp(0) #HUGE BIAS\n",
    "    #X_val[i]=scaler.fit_transform(X_val[i])  # HUGE BIAS\n",
    "\n",
    "\n",
    "#ADD extra dimension for CNN\n",
    "import numpy as np\n",
    "X_train = X_train[..., np.newaxis]\n",
    "X_val = X_val[..., np.newaxis]\n",
    "print(X_train.shape,X_val.shape)\n",
    "\n",
    "\n",
    "print('X_train uses',X_train.shape[0],\"of\",len(train),\"files\",\"and occupies\",X_train.nbytes,\"bytes\")\n",
    "print('X_val uses',X_val.shape[0],\"of\",len(val),\"files\",\"and occupies\",X_val.nbytes,\"bytes\")"
   ]
  },
  {
   "cell_type": "code",
   "execution_count": 4,
   "metadata": {},
   "outputs": [
    {
     "name": "stdout",
     "output_type": "stream",
     "text": [
      "{'yes': 3153, 'no': 3063, 'up': 2869, 'down': 3064, 'left': 2958, 'right': 2940, 'on': 2998, 'off': 2903, 'stop': 3038, 'go': 3014}\n",
      "{'yes': 326, 'no': 331, 'up': 288, 'down': 286, 'left': 290, 'right': 296, 'on': 280, 'off': 319, 'stop': 282, 'go': 302}\n"
     ]
    }
   ],
   "source": [
    "#DEBUGGING: Check how many examples there are per category\n",
    "trainCat={}\n",
    "for e in categories: trainCat[e]=0\n",
    "for e in y_train: trainCat[categories[e]]+=1\n",
    "print(trainCat)\n",
    "\n",
    "valCat={}\n",
    "for e in categories: valCat[e]=0\n",
    "for e in y_val: valCat[categories[e]]+=1\n",
    "print(valCat)"
   ]
  },
  {
   "cell_type": "code",
   "execution_count": 5,
   "metadata": {},
   "outputs": [
    {
     "name": "stdout",
     "output_type": "stream",
     "text": [
      "(30000, 120, 126, 1)\n",
      "(30000,)\n",
      "(3000, 120, 126, 1)\n",
      "(3000,)\n"
     ]
    },
    {
     "data": {
      "image/png": "[encoded data removed]",
      "text/plain": [
       "<Figure size 720x288 with 1 Axes>"
      ]
     },
     "metadata": {
      "needs_background": "light"
     },
     "output_type": "display_data"
    },
    {
     "data": {
      "image/png": "[encoded data removed]",
      "text/plain": [
       "<Figure size 720x288 with 1 Axes>"
      ]
     },
     "metadata": {
      "needs_background": "light"
     },
     "output_type": "display_data"
    },
    {
     "name": "stdout",
     "output_type": "stream",
     "text": [
      "-715.541748046875\n",
      "156.43775939941406\n"
     ]
    }
   ],
   "source": [
    "# Look at some data\n",
    "\n",
    "print(X_train.shape)\n",
    "print(y_train.shape)\n",
    "print(X_val.shape)\n",
    "print(y_val.shape)\n",
    "\n",
    "import matplotlib.pyplot as plt\n",
    "plt.figure(figsize=(10, 4))\n",
    "plt.pcolormesh(X_train[0,:,:,0])\n",
    "plt.show()\n",
    "\n",
    "plt.figure(figsize=(10, 4))\n",
    "plt.pcolormesh(X_val[0,:,:,0])\n",
    "plt.show()\n",
    "\n",
    "import numpy as np\n",
    "print(np.min(X_train))\n",
    "print(np.max(X_train))\n"
   ]
  },
  {
   "cell_type": "markdown",
   "metadata": {},
   "source": [
    "----------------------------------------------------\n",
    "\n",
    "# 2) Model\n"
   ]
  },
  {
   "cell_type": "markdown",
   "metadata": {},
   "source": [
    "## Define NN"
   ]
  },
  {
   "cell_type": "code",
   "execution_count": 6,
   "metadata": {},
   "outputs": [],
   "source": [
    "import Models"
   ]
  },
  {
   "cell_type": "code",
   "execution_count": 7,
   "metadata": {},
   "outputs": [
    {
     "name": "stdout",
     "output_type": "stream",
     "text": [
      "Model: \"DSConvModelMedium10\"\n",
      "_________________________________________________________________\n",
      "Layer (type)                 Output Shape              Param #   \n",
      "=================================================================\n",
      "input_1 (InputLayer)         [(None, 120, 126, 1)]     0         \n",
      "_________________________________________________________________\n",
      "conv2d (Conv2D)              (None, 120, 63, 172)      7052      \n",
      "_________________________________________________________________\n",
      "batch_normalization (BatchNo (None, 120, 63, 172)      688       \n",
      "_________________________________________________________________\n",
      "depthwise_conv2d (DepthwiseC (None, 59, 31, 172)       1720      \n",
      "_________________________________________________________________\n",
      "batch_normalization_1 (Batch (None, 59, 31, 172)       688       \n",
      "_________________________________________________________________\n",
      "activation (Activation)      (None, 59, 31, 172)       0         \n",
      "_________________________________________________________________\n",
      "conv2d_1 (Conv2D)            (None, 59, 31, 172)       29756     \n",
      "_________________________________________________________________\n",
      "batch_normalization_2 (Batch (None, 59, 31, 172)       688       \n",
      "_________________________________________________________________\n",
      "activation_1 (Activation)    (None, 59, 31, 172)       0         \n",
      "_________________________________________________________________\n",
      "depthwise_conv2d_1 (Depthwis (None, 57, 29, 172)       1720      \n",
      "_________________________________________________________________\n",
      "batch_normalization_3 (Batch (None, 57, 29, 172)       688       \n",
      "_________________________________________________________________\n",
      "activation_2 (Activation)    (None, 57, 29, 172)       0         \n",
      "_________________________________________________________________\n",
      "conv2d_2 (Conv2D)            (None, 57, 29, 172)       29756     \n",
      "_________________________________________________________________\n",
      "batch_normalization_4 (Batch (None, 57, 29, 172)       688       \n",
      "_________________________________________________________________\n",
      "activation_3 (Activation)    (None, 57, 29, 172)       0         \n",
      "_________________________________________________________________\n",
      "depthwise_conv2d_2 (Depthwis (None, 55, 27, 172)       1720      \n",
      "_________________________________________________________________\n",
      "batch_normalization_5 (Batch (None, 55, 27, 172)       688       \n",
      "_________________________________________________________________\n",
      "activation_4 (Activation)    (None, 55, 27, 172)       0         \n",
      "_________________________________________________________________\n",
      "conv2d_3 (Conv2D)            (None, 55, 27, 172)       29756     \n",
      "_________________________________________________________________\n",
      "batch_normalization_6 (Batch (None, 55, 27, 172)       688       \n",
      "_________________________________________________________________\n",
      "activation_5 (Activation)    (None, 55, 27, 172)       0         \n",
      "_________________________________________________________________\n",
      "depthwise_conv2d_3 (Depthwis (None, 53, 25, 172)       1720      \n",
      "_________________________________________________________________\n",
      "batch_normalization_7 (Batch (None, 53, 25, 172)       688       \n",
      "_________________________________________________________________\n",
      "activation_6 (Activation)    (None, 53, 25, 172)       0         \n",
      "_________________________________________________________________\n",
      "conv2d_4 (Conv2D)            (None, 53, 25, 172)       29756     \n",
      "_________________________________________________________________\n",
      "batch_normalization_8 (Batch (None, 53, 25, 172)       688       \n",
      "_________________________________________________________________\n",
      "activation_7 (Activation)    (None, 53, 25, 172)       0         \n",
      "_________________________________________________________________\n",
      "average_pooling2d (AveragePo (None, 26, 12, 172)       0         \n",
      "_________________________________________________________________\n",
      "flatten (Flatten)            (None, 53664)             0         \n",
      "_________________________________________________________________\n",
      "dense (Dense)                (None, 10)                536650    \n",
      "=================================================================\n",
      "Total params: 675,798\n",
      "Trainable params: 672,702\n",
      "Non-trainable params: 3,096\n",
      "_________________________________________________________________\n"
     ]
    }
   ],
   "source": [
    "import datetime\n",
    "\n",
    "modelName=\"DSConvModelMedium\"+str(nCategories)\n",
    "save_name=datetime.datetime.now().strftime(\"%Y-%m-%d_%H-%M\")+\"_\"+modelName\n",
    "\n",
    "'''model = Models.LeNet5(nCategories,\n",
    "                        inputShape=X_train.shape[1:],\n",
    "                        name=modelName)\n",
    "model = Models.AttRNNSpeechModel(nCategories,\n",
    "                        inputShape=X_train.shape[1:],\n",
    "                        name=modelName)\n",
    "Xmodel = Models.directCNN(nCategories,\n",
    "                        inputShape=X_train.shape[1:],\n",
    "                        name=modelName)'''\n",
    "\n",
    "\n",
    "################### DA FARE I SEGUENTI #####################\n",
    "'''model = Models.DSConvModel(nCategories,\n",
    "                        inputShape=X_train.shape[1:],\n",
    "                        name=modelName)'''\n",
    "\n",
    "model = Models.DSConvModelMedium(nCategories,\n",
    "                        inputShape=X_train.shape[1:],\n",
    "                        name=modelName)\n",
    "\n",
    "'''model = Models.DSConvModelSmall(nCategories,\n",
    "                        inputShape=X_train.shape[1:],\n",
    "                        name=modelName)'''\n",
    "############################################################\n",
    "\n",
    "\n",
    "model.compile(optimizer='nadam',\n",
    "              loss=['sparse_categorical_crossentropy'],\n",
    "              metrics=['sparse_categorical_accuracy'])\n",
    "\n",
    "model.summary()"
   ]
  },
  {
   "cell_type": "markdown",
   "metadata": {},
   "source": [
    "## Train NN"
   ]
  },
  {
   "cell_type": "code",
   "execution_count": 8,
   "metadata": {},
   "outputs": [],
   "source": [
    "from tensorflow.keras.callbacks import EarlyStopping, ModelCheckpoint, LearningRateScheduler, TensorBoard\n",
    "import math\n",
    "\n",
    "\n",
    "log_dir = \"logs\\\\\"+save_name\n",
    "\n",
    "def step_decay(epoch):\n",
    "    initial_lrate = 0.001\n",
    "    drop = 0.4\n",
    "    epochs_drop = 15.0\n",
    "    lrate = initial_lrate * math.pow(drop, math.floor((1+epoch)/epochs_drop))\n",
    "    \n",
    "    if (lrate < 4e-5):\n",
    "        lrate = 4e-5\n",
    "      \n",
    "    print('Changing learning rate to {}'.format(lrate))\n",
    "    return lrate\n",
    "lrate = LearningRateScheduler(step_decay)\n",
    "\n",
    "def performance_scheduling(epoch):\n",
    "    #.....\n",
    "    return lrate\n",
    "\n",
    "my_callbacks = [\n",
    "    EarlyStopping(monitor='val_sparse_categorical_accuracy',\n",
    "                  patience=10,\n",
    "                  verbose=1,\n",
    "                  restore_best_weights=True),\n",
    "    ModelCheckpoint('models/'+save_name+'.h5',\n",
    "                    monitor='val_sparse_categorical_accuracy',\n",
    "                    verbose=1,\n",
    "                    save_best_only=True),\n",
    "    TensorBoard(log_dir=log_dir,histogram_freq=1)]\n",
    "    #lrate]\n"
   ]
  },
  {
   "cell_type": "code",
   "execution_count": 9,
   "metadata": {
    "scrolled": false
   },
   "outputs": [
    {
     "name": "stdout",
     "output_type": "stream",
     "text": [
      "Train on 30000 samples, validate on 3000 samples\n",
      "Epoch 1/50\n",
      "29984/30000 [============================>.] - ETA: 0s - loss: 0.8489 - sparse_categorical_accuracy: 0.7550\n",
      "Epoch 00001: val_sparse_categorical_accuracy improved from -inf to 0.85367, saving model to models/2020-08-02_15-35_DSConvModelMedium10.h5\n",
      "30000/30000 [==============================] - 159s 5ms/sample - loss: 0.8489 - sparse_categorical_accuracy: 0.7550 - val_loss: 0.4465 - val_sparse_categorical_accuracy: 0.8537\n",
      "Epoch 2/50\n",
      "29984/30000 [============================>.] - ETA: 0s - loss: 0.2649 - sparse_categorical_accuracy: 0.9124\n",
      "Epoch 00002: val_sparse_categorical_accuracy improved from 0.85367 to 0.91667, saving model to models/2020-08-02_15-35_DSConvModelMedium10.h5\n",
      "30000/30000 [==============================] - 153s 5ms/sample - loss: 0.2648 - sparse_categorical_accuracy: 0.9124 - val_loss: 0.2520 - val_sparse_categorical_accuracy: 0.9167\n",
      "Epoch 3/50\n",
      "29984/30000 [============================>.] - ETA: 0s - loss: 0.1950 - sparse_categorical_accuracy: 0.9345\n",
      "Epoch 00003: val_sparse_categorical_accuracy did not improve from 0.91667\n",
      "30000/30000 [==============================] - 153s 5ms/sample - loss: 0.1950 - sparse_categorical_accuracy: 0.9345 - val_loss: 0.3087 - val_sparse_categorical_accuracy: 0.9077\n",
      "Epoch 4/50\n",
      "29984/30000 [============================>.] - ETA: 0s - loss: 0.1630 - sparse_categorical_accuracy: 0.9445\n",
      "Epoch 00004: val_sparse_categorical_accuracy did not improve from 0.91667\n",
      "30000/30000 [==============================] - 153s 5ms/sample - loss: 0.1630 - sparse_categorical_accuracy: 0.9445 - val_loss: 0.4826 - val_sparse_categorical_accuracy: 0.8707\n",
      "Epoch 5/50\n",
      "29984/30000 [============================>.] - ETA: 0s - loss: 0.1370 - sparse_categorical_accuracy: 0.9534\n",
      "Epoch 00005: val_sparse_categorical_accuracy improved from 0.91667 to 0.94000, saving model to models/2020-08-02_15-35_DSConvModelMedium10.h5\n",
      "30000/30000 [==============================] - 152s 5ms/sample - loss: 0.1369 - sparse_categorical_accuracy: 0.9535 - val_loss: 0.2058 - val_sparse_categorical_accuracy: 0.9400\n",
      "Epoch 6/50\n",
      "29984/30000 [============================>.] - ETA: 0s - loss: 0.1196 - sparse_categorical_accuracy: 0.9581\n",
      "Epoch 00006: val_sparse_categorical_accuracy did not improve from 0.94000\n",
      "30000/30000 [==============================] - 152s 5ms/sample - loss: 0.1196 - sparse_categorical_accuracy: 0.9581 - val_loss: 0.1946 - val_sparse_categorical_accuracy: 0.9363\n",
      "Epoch 7/50\n",
      "29984/30000 [============================>.] - ETA: 0s - loss: 0.1083 - sparse_categorical_accuracy: 0.9630\n",
      "Epoch 00007: val_sparse_categorical_accuracy did not improve from 0.94000\n",
      "30000/30000 [==============================] - 153s 5ms/sample - loss: 0.1082 - sparse_categorical_accuracy: 0.9630 - val_loss: 0.2114 - val_sparse_categorical_accuracy: 0.9350\n",
      "Epoch 8/50\n",
      "29984/30000 [============================>.] - ETA: 0s - loss: 0.0892 - sparse_categorical_accuracy: 0.9696\n",
      "Epoch 00008: val_sparse_categorical_accuracy improved from 0.94000 to 0.94267, saving model to models/2020-08-02_15-35_DSConvModelMedium10.h5\n",
      "30000/30000 [==============================] - 157s 5ms/sample - loss: 0.0892 - sparse_categorical_accuracy: 0.9696 - val_loss: 0.1883 - val_sparse_categorical_accuracy: 0.9427\n",
      "Epoch 9/50\n",
      "29984/30000 [============================>.] - ETA: 0s - loss: 0.0785 - sparse_categorical_accuracy: 0.9725\n",
      "Epoch 00009: val_sparse_categorical_accuracy did not improve from 0.94267\n",
      "30000/30000 [==============================] - 158s 5ms/sample - loss: 0.0784 - sparse_categorical_accuracy: 0.9725 - val_loss: 0.2489 - val_sparse_categorical_accuracy: 0.9250\n",
      "Epoch 10/50\n",
      "29984/30000 [============================>.] - ETA: 0s - loss: 0.0711 - sparse_categorical_accuracy: 0.9764\n",
      "Epoch 00010: val_sparse_categorical_accuracy did not improve from 0.94267\n",
      "30000/30000 [==============================] - 159s 5ms/sample - loss: 0.0711 - sparse_categorical_accuracy: 0.9764 - val_loss: 0.2523 - val_sparse_categorical_accuracy: 0.9330\n",
      "Epoch 11/50\n",
      "29984/30000 [============================>.] - ETA: 0s - loss: 0.0613 - sparse_categorical_accuracy: 0.9801\n",
      "Epoch 00011: val_sparse_categorical_accuracy did not improve from 0.94267\n",
      "30000/30000 [==============================] - 155s 5ms/sample - loss: 0.0614 - sparse_categorical_accuracy: 0.9800 - val_loss: 0.2027 - val_sparse_categorical_accuracy: 0.9383\n",
      "Epoch 12/50\n",
      "29984/30000 [============================>.] - ETA: 0s - loss: 0.0518 - sparse_categorical_accuracy: 0.9834\n",
      "Epoch 00012: val_sparse_categorical_accuracy did not improve from 0.94267\n",
      "30000/30000 [==============================] - 152s 5ms/sample - loss: 0.0518 - sparse_categorical_accuracy: 0.9834 - val_loss: 0.2431 - val_sparse_categorical_accuracy: 0.9350\n",
      "Epoch 13/50\n",
      "29984/30000 [============================>.] - ETA: 0s - loss: 0.0441 - sparse_categorical_accuracy: 0.9854\n",
      "Epoch 00013: val_sparse_categorical_accuracy improved from 0.94267 to 0.94533, saving model to models/2020-08-02_15-35_DSConvModelMedium10.h5\n",
      "30000/30000 [==============================] - 157s 5ms/sample - loss: 0.0441 - sparse_categorical_accuracy: 0.9854 - val_loss: 0.2767 - val_sparse_categorical_accuracy: 0.9453\n",
      "Epoch 14/50\n",
      "29984/30000 [============================>.] - ETA: 0s - loss: 0.0384 - sparse_categorical_accuracy: 0.9880\n",
      "Epoch 00014: val_sparse_categorical_accuracy did not improve from 0.94533\n",
      "30000/30000 [==============================] - 164s 5ms/sample - loss: 0.0384 - sparse_categorical_accuracy: 0.9880 - val_loss: 0.2587 - val_sparse_categorical_accuracy: 0.9430\n",
      "Epoch 15/50\n",
      "29984/30000 [============================>.] - ETA: 0s - loss: 0.0357 - sparse_categorical_accuracy: 0.9889\n",
      "Epoch 00015: val_sparse_categorical_accuracy did not improve from 0.94533\n",
      "30000/30000 [==============================] - 162s 5ms/sample - loss: 0.0357 - sparse_categorical_accuracy: 0.9889 - val_loss: 0.3174 - val_sparse_categorical_accuracy: 0.9397\n",
      "Epoch 16/50\n",
      "29984/30000 [============================>.] - ETA: 0s - loss: 0.0344 - sparse_categorical_accuracy: 0.9894\n",
      "Epoch 00016: val_sparse_categorical_accuracy did not improve from 0.94533\n",
      "30000/30000 [==============================] - 158s 5ms/sample - loss: 0.0344 - sparse_categorical_accuracy: 0.9894 - val_loss: 0.2807 - val_sparse_categorical_accuracy: 0.9417\n",
      "Epoch 17/50\n",
      "29984/30000 [============================>.] - ETA: 0s - loss: 0.0346 - sparse_categorical_accuracy: 0.9894\n",
      "Epoch 00017: val_sparse_categorical_accuracy did not improve from 0.94533\n",
      "30000/30000 [==============================] - 158s 5ms/sample - loss: 0.0345 - sparse_categorical_accuracy: 0.9894 - val_loss: 0.2530 - val_sparse_categorical_accuracy: 0.9430\n",
      "Epoch 18/50\n",
      "29984/30000 [============================>.] - ETA: 0s - loss: 0.0287 - sparse_categorical_accuracy: 0.9913\n",
      "Epoch 00018: val_sparse_categorical_accuracy did not improve from 0.94533\n",
      "30000/30000 [==============================] - 165s 6ms/sample - loss: 0.0287 - sparse_categorical_accuracy: 0.9913 - val_loss: 0.3017 - val_sparse_categorical_accuracy: 0.9410\n",
      "Epoch 19/50\n",
      "29984/30000 [============================>.] - ETA: 0s - loss: 0.0262 - sparse_categorical_accuracy: 0.9921\n",
      "Epoch 00019: val_sparse_categorical_accuracy improved from 0.94533 to 0.95033, saving model to models/2020-08-02_15-35_DSConvModelMedium10.h5\n",
      "30000/30000 [==============================] - 173s 6ms/sample - loss: 0.0262 - sparse_categorical_accuracy: 0.9921 - val_loss: 0.2714 - val_sparse_categorical_accuracy: 0.9503\n",
      "Epoch 20/50\n",
      "29984/30000 [============================>.] - ETA: 0s - loss: 0.0230 - sparse_categorical_accuracy: 0.9924\n",
      "Epoch 00020: val_sparse_categorical_accuracy did not improve from 0.95033\n",
      "30000/30000 [==============================] - 161s 5ms/sample - loss: 0.0229 - sparse_categorical_accuracy: 0.9924 - val_loss: 0.3469 - val_sparse_categorical_accuracy: 0.9317\n",
      "Epoch 21/50\n",
      "29984/30000 [============================>.] - ETA: 0s - loss: 0.0249 - sparse_categorical_accuracy: 0.9924\n",
      "Epoch 00021: val_sparse_categorical_accuracy did not improve from 0.95033\n",
      "30000/30000 [==============================] - 154s 5ms/sample - loss: 0.0249 - sparse_categorical_accuracy: 0.9924 - val_loss: 0.4222 - val_sparse_categorical_accuracy: 0.9287\n"
     ]
    },
    {
     "name": "stdout",
     "output_type": "stream",
     "text": [
      "Epoch 22/50\n",
      "29984/30000 [============================>.] - ETA: 0s - loss: 0.0204 - sparse_categorical_accuracy: 0.9937\n",
      "Epoch 00022: val_sparse_categorical_accuracy did not improve from 0.95033\n",
      "30000/30000 [==============================] - 153s 5ms/sample - loss: 0.0204 - sparse_categorical_accuracy: 0.9937 - val_loss: 0.2577 - val_sparse_categorical_accuracy: 0.9463\n",
      "Epoch 23/50\n",
      "29984/30000 [============================>.] - ETA: 0s - loss: 0.0218 - sparse_categorical_accuracy: 0.9931\n",
      "Epoch 00023: val_sparse_categorical_accuracy did not improve from 0.95033\n",
      "30000/30000 [==============================] - 167s 6ms/sample - loss: 0.0218 - sparse_categorical_accuracy: 0.9930 - val_loss: 0.2981 - val_sparse_categorical_accuracy: 0.9370\n",
      "Epoch 24/50\n",
      "29984/30000 [============================>.] - ETA: 0s - loss: 0.0165 - sparse_categorical_accuracy: 0.9951\n",
      "Epoch 00024: val_sparse_categorical_accuracy did not improve from 0.95033\n",
      "30000/30000 [==============================] - 162s 5ms/sample - loss: 0.0165 - sparse_categorical_accuracy: 0.9951 - val_loss: 0.3143 - val_sparse_categorical_accuracy: 0.9400\n",
      "Epoch 25/50\n",
      "29984/30000 [============================>.] - ETA: 0s - loss: 0.0203 - sparse_categorical_accuracy: 0.9937\n",
      "Epoch 00025: val_sparse_categorical_accuracy did not improve from 0.95033\n",
      "30000/30000 [==============================] - 168s 6ms/sample - loss: 0.0203 - sparse_categorical_accuracy: 0.9937 - val_loss: 0.3236 - val_sparse_categorical_accuracy: 0.9443\n",
      "Epoch 26/50\n",
      "29984/30000 [============================>.] - ETA: 0s - loss: 0.0206 - sparse_categorical_accuracy: 0.9934- ETA: 8s - \n",
      "Epoch 00026: val_sparse_categorical_accuracy did not improve from 0.95033\n",
      "30000/30000 [==============================] - 160s 5ms/sample - loss: 0.0206 - sparse_categorical_accuracy: 0.9934 - val_loss: 0.3746 - val_sparse_categorical_accuracy: 0.9310\n",
      "Epoch 27/50\n",
      "29984/30000 [============================>.] - ETA: 0s - loss: 0.0173 - sparse_categorical_accuracy: 0.9955\n",
      "Epoch 00027: val_sparse_categorical_accuracy did not improve from 0.95033\n",
      "30000/30000 [==============================] - 154s 5ms/sample - loss: 0.0173 - sparse_categorical_accuracy: 0.9955 - val_loss: 0.3546 - val_sparse_categorical_accuracy: 0.9427\n",
      "Epoch 28/50\n",
      "29984/30000 [============================>.] - ETA: 0s - loss: 0.0139 - sparse_categorical_accuracy: 0.9963\n",
      "Epoch 00028: val_sparse_categorical_accuracy did not improve from 0.95033\n",
      "30000/30000 [==============================] - 166s 6ms/sample - loss: 0.0139 - sparse_categorical_accuracy: 0.9963 - val_loss: 0.3344 - val_sparse_categorical_accuracy: 0.9347\n",
      "Epoch 29/50\n",
      "29984/30000 [============================>.] - ETA: 0s - loss: 0.0203 - sparse_categorical_accuracy: 0.9940Restoring model weights from the end of the best epoch.\n",
      "\n",
      "Epoch 00029: val_sparse_categorical_accuracy did not improve from 0.95033\n",
      "30000/30000 [==============================] - 153s 5ms/sample - loss: 0.0203 - sparse_categorical_accuracy: 0.9940 - val_loss: 0.3384 - val_sparse_categorical_accuracy: 0.9267\n",
      "Epoch 00029: early stopping\n"
     ]
    }
   ],
   "source": [
    "#Train\n",
    "results = model.fit(x=X_train,\n",
    "                    y=y_train,\n",
    "                    validation_data=(X_val,y_val),\n",
    "                    batch_size=32, # usually between 10 and 32\n",
    "                    epochs=50,\n",
    "                    callbacks=my_callbacks,\n",
    "                    verbose=1)\n",
    "\n",
    "#model.save('models/'+modelName+'.h5')"
   ]
  },
  {
   "cell_type": "code",
   "execution_count": 10,
   "metadata": {},
   "outputs": [
    {
     "data": {
      "image/png": "[encoded data removed]",
      "text/plain": [
       "<Figure size 432x288 with 1 Axes>"
      ]
     },
     "metadata": {
      "needs_background": "light"
     },
     "output_type": "display_data"
    },
    {
     "data": {
      "image/png": "[encoded data removed]",
      "text/plain": [
       "<Figure size 432x288 with 1 Axes>"
      ]
     },
     "metadata": {
      "needs_background": "light"
     },
     "output_type": "display_data"
    }
   ],
   "source": [
    "import matplotlib.pyplot as plt\n",
    "\n",
    "save_dir=\"output/\"+save_name+\"_\"\n",
    "\n",
    "# summarize history for categorical accuracy\n",
    "plt.plot(results.history['sparse_categorical_accuracy'])\n",
    "plt.plot(results.history['val_sparse_categorical_accuracy'])\n",
    "plt.title('Categorical accuracy')\n",
    "plt.ylabel('accuracy')\n",
    "plt.xlabel('epoch')\n",
    "plt.legend(['train', 'val'], loc='upper left')\n",
    "plt.savefig(save_dir+\"Categorical Accuracy\", dpi=400)\n",
    "plt.show()\n",
    "\n",
    "# summarize history for loss\n",
    "plt.plot(results.history['loss'])\n",
    "plt.plot(results.history['val_loss'])\n",
    "plt.title('model loss')\n",
    "plt.ylabel('loss')\n",
    "plt.xlabel('epoch')\n",
    "plt.legend(['train', 'val'], loc='upper left')\n",
    "plt.savefig(save_dir+\"Loss\", dpi=400)\n",
    "plt.show()\n",
    "\n"
   ]
  },
  {
   "cell_type": "markdown",
   "metadata": {},
   "source": [
    "--------------------------------------------"
   ]
  },
  {
   "cell_type": "markdown",
   "metadata": {},
   "source": [
    "# 3) Test the model"
   ]
  },
  {
   "cell_type": "code",
   "execution_count": 11,
   "metadata": {},
   "outputs": [],
   "source": [
    "#Release memory\n",
    "del(X_train)\n",
    "del(y_train)\n",
    "del(X_val)\n",
    "del(y_val)"
   ]
  },
  {
   "cell_type": "code",
   "execution_count": 12,
   "metadata": {},
   "outputs": [
    {
     "name": "stdout",
     "output_type": "stream",
     "text": [
      "X_test uses 3000 of 4074 files and occupies 362880000 bytes\n",
      "{'yes': 306, 'no': 304, 'up': 318, 'down': 295, 'left': 307, 'right': 293, 'on': 298, 'off': 288, 'stop': 295, 'go': 296}\n"
     ]
    }
   ],
   "source": [
    "#Load TEST file\n",
    "X,y_test=LoadAndPreprocessDataset.loadBatch(test,batch_size=nTestSamples, nCategories=nCategories)\n",
    "#Preprocess TEST\n",
    "X_test=LoadAndPreprocessDataset.MFCC_DELTA(X,n_mfcc=40)\n",
    "#X_test=LoadAndPreprocessDataset.MFCC(X,n_mfcc=40)\n",
    "#X_test=LoadAndPreprocessDataset.melspect(X)\n",
    "#X_test=X\n",
    "#Release memory\n",
    "del(X)\n",
    "\n",
    "#ADD extra dimension for CNN\n",
    "import numpy as np\n",
    "X_test = X_test[..., np.newaxis]\n",
    "\n",
    "\n",
    "print('X_test uses',X_test.shape[0],\"of\",len(test),\"files\",\"and occupies\",X_test.nbytes,\"bytes\")\n",
    "\n",
    "\n",
    "#DEBUGGING: Check how many examples there are per category\n",
    "testCat={}\n",
    "for e in categories: testCat[e]=0\n",
    "for e in y_test: testCat[categories[e]]+=1\n",
    "print(testCat)"
   ]
  },
  {
   "cell_type": "code",
   "execution_count": 13,
   "metadata": {},
   "outputs": [
    {
     "name": "stdout",
     "output_type": "stream",
     "text": [
      "3000/3000 [==============================] - 4s 1ms/sample - loss: 0.2808 - sparse_categorical_accuracy: 0.9477\n"
     ]
    },
    {
     "data": {
      "text/plain": [
       "'import time\\n\\ns=time.time()\\ny_pred=np.argmax(model.predict(X_test[:500,:,:]),1)\\ne=time.time()\\nprint(\"Entire:\",e-s)\\n\\nstarts=np.empty((len(X_test),))\\nends=np.empty((len(X_test),))\\nfor i in range(len(X_test)):\\n    a=np.array([X_test[i]])\\n    starts[i]=time.time()\\n    a=np.argmax(model.predict(a),1)\\n    ends[i]=time.time()\\naverage=sum(ends-starts)/len(X_test)\\nprint(\"Average single prediction time (s):\",average)'"
      ]
     },
     "execution_count": 13,
     "metadata": {},
     "output_type": "execute_result"
    }
   ],
   "source": [
    "#load best model\n",
    "from tensorflow.keras.models import load_model\n",
    "model = load_model('models/'+save_name+'.h5')\n",
    "\n",
    "# Test the model on test data\n",
    "import numpy as np\n",
    "score = model.evaluate(X_test, y_test)\n",
    "y_pred=np.argmax(model.predict(X_test),1)\n",
    "\n",
    "\n",
    "#Measure time for every single prediction\n",
    "\"\"\"import time\n",
    "\n",
    "s=time.time()\n",
    "y_pred=np.argmax(model.predict(X_test[:500,:,:]),1)\n",
    "e=time.time()\n",
    "print(\"Entire:\",e-s)\n",
    "\n",
    "starts=np.empty((len(X_test),))\n",
    "ends=np.empty((len(X_test),))\n",
    "for i in range(len(X_test)):\n",
    "    a=np.array([X_test[i]])\n",
    "    starts[i]=time.time()\n",
    "    a=np.argmax(model.predict(a),1)\n",
    "    ends[i]=time.time()\n",
    "average=sum(ends-starts)/len(X_test)\n",
    "print(\"Average single prediction time (s):\",average)\"\"\"\n",
    "\n",
    "# 1 prediction or a batch of 10 requires the same amount of time\n",
    "# a batch of 100 prediction requires the double of 1\n",
    "# a batch of 500 prediction requires the 3 times of 1"
   ]
  },
  {
   "cell_type": "markdown",
   "metadata": {},
   "source": [
    "# 4) Metrics Summary"
   ]
  },
  {
   "cell_type": "code",
   "execution_count": 14,
   "metadata": {},
   "outputs": [
    {
     "name": "stdout",
     "output_type": "stream",
     "text": [
      "Train loss:\t 0.02\n",
      "Train accuracy:\t 0.994\n",
      "Val loss:\t 0.338\n",
      "Val accuracy:\t 0.927\n",
      "Test loss:\t 0.281\n",
      "Test accuracy:\t 0.948\n",
      "Bias:\t\t 0.006\n",
      "Variance:\t 0.067\n",
      "Precision:\t 0.948\n",
      "Recall:\t\t 0.948\n",
      "F1:\t\t 0.948\n"
     ]
    },
    {
     "data": {
      "image/png": "[encoded data removed]",
      "text/plain": [
       "<Figure size 1080x1080 with 2 Axes>"
      ]
     },
     "metadata": {
      "needs_background": "light"
     },
     "output_type": "display_data"
    }
   ],
   "source": [
    "train_loss=results.history.get('loss')[-1]\n",
    "val_loss=results.history.get('val_loss')[-1]\n",
    "\n",
    "train_error=1-results.history.get('sparse_categorical_accuracy')[-1]\n",
    "val_error=1-results.history.get('val_sparse_categorical_accuracy')[-1]\n",
    "\n",
    "test_loss=score[0]\n",
    "test_error=1-score[1]\n",
    "\n",
    "print('Train loss:\\t', round(train_loss,3))\n",
    "print('Train accuracy:\\t', round(1-train_error,3))\n",
    "print('Val loss:\\t', round(val_loss,3))\n",
    "print('Val accuracy:\\t', round(1-val_error,3))\n",
    "print('Test loss:\\t', round(test_loss,3))\n",
    "print('Test accuracy:\\t', round(score[1],3))\n",
    "\n",
    "optimal_error=0.00 #human error\n",
    "\n",
    "bias=train_error-optimal_error\n",
    "variance=val_error-train_error\n",
    "print(\"Bias:\\t\\t\",round(bias,3))\n",
    "print(\"Variance:\\t\",round(variance,3))\n",
    "\n",
    "\n",
    "# Precision and Recall(sensitivity/true positive rate)\n",
    "from sklearn.metrics import precision_score, recall_score\n",
    "prec=precision_score(y_test, y_pred,average='micro')\n",
    "rec=recall_score(y_test, y_pred,average='micro')\n",
    "\n",
    "#F1 - high if both recall and precision are high.\n",
    "from sklearn.metrics import f1_score\n",
    "f1=f1_score(y_test, y_pred,average='micro')\n",
    "\n",
    "print(\"Precision:\\t\",round(prec,3))\n",
    "print(\"Recall:\\t\\t\",round(rec,3))\n",
    "print(\"F1:\\t\\t\",round(f1,3))\n",
    "\n",
    "# Confusion Matrix\n",
    "from sklearn.metrics import confusion_matrix\n",
    "cm = confusion_matrix(y_test, y_pred)\n",
    "import audioUtils\n",
    "audioUtils.plot_confusion_matrix(cm,categories, normalize=False,save_path=save_dir)\n",
    "\n",
    "\n",
    "\n",
    "# SAVE MODEL SUMMARY and METRICS TO FILE\n",
    "f = open(save_dir+\"Metrics.txt\", \"a\")\n",
    "\n",
    "stringlist = []\n",
    "model.summary(print_fn=lambda x: stringlist.append(x))\n",
    "short_model_summary = \"\\n\".join(stringlist)\n",
    "f.write(short_model_summary+\"\\n\\n\")\n",
    "\n",
    "f.write('Train loss:\\t'+ str(round(train_loss,3))+ \"\\n\")\n",
    "f.write('Train accuracy:\\t'+ str((round(1-train_error,3)))+ \"\\n\")\n",
    "f.write('Val loss:\\t'+ str(round(val_loss,3))+ \"\\n\")\n",
    "f.write('Val accuracy:\\t'+ str((round(1-val_error,3)))+ \"\\n\")\n",
    "f.write('Test loss:\\t'+ str(round(test_loss,3))+ \"\\n\")\n",
    "f.write('Test accuracy:\\t'+ str(round(score[1],3))+ \"\\n\")\n",
    "f.write(\"Bias:\\t\\t\"+str(round(bias,3))+ \"\\n\")\n",
    "f.write(\"Variance:\\t\"+str(round(variance,3))+ \"\\n\")\n",
    "f.write(\"Precision:\\t\"+str(round(prec,3))+ \"\\n\")\n",
    "f.write(\"Recall:\\t\\t\"+str(round(rec,3))+ \"\\n\")\n",
    "f.write(\"F1:\\t\\t\"+str(round(f1,3)))\n",
    "f.close()"
   ]
  },
  {
   "cell_type": "code",
   "execution_count": 15,
   "metadata": {},
   "outputs": [
    {
     "name": "stdout",
     "output_type": "stream",
     "text": [
      "24 no - go\n",
      "16 up - off\n",
      "13 no - down\n",
      "12 on - off\n",
      "9 up - on\n",
      "8 yes - left\n",
      "7 up - go\n",
      "6 down - go\n",
      "5 on - go\n",
      "5 no - left\n",
      "4 off - go\n",
      "4 up - stop\n",
      "4 no - off\n",
      "3 right - go\n",
      "3 right - on\n",
      "3 down - stop\n",
      "3 down - on\n",
      "2 stop - go\n",
      "2 off - stop\n",
      "2 on - stop\n"
     ]
    }
   ],
   "source": [
    "#Most mispredicted words\n",
    "n_mistakes=20\n",
    "import heapq\n",
    "h=[]\n",
    "for i in range(nCategories):\n",
    "    for j in range(i+1,nCategories):\n",
    "        heapq.heappush(h,(cm[i,j]+cm[j,i],(i,j)))\n",
    "for e in heapq.nlargest(n_mistakes,h):\n",
    "    print(e[0],categories[e[1][0]],\"-\",categories[e[1][1]])\n",
    "    \n",
    "f = open(save_dir+\"Metrics.txt\", \"a\")\n",
    "f.write('\\n\\nMost '+str(n_mistakes)+ ' mispredicted words\\n')\n",
    "for e in heapq.nlargest(n_mistakes,h):\n",
    "    f.write(str(e[0])+\"\\t\"+str(categories[e[1][0]])+\"-\"+str(categories[e[1][1]])+\"\\n\")\n",
    "f.close()"
   ]
  },
  {
   "cell_type": "code",
   "execution_count": null,
   "metadata": {},
   "outputs": [],
   "source": []
  },
  {
   "cell_type": "code",
   "execution_count": null,
   "metadata": {},
   "outputs": [],
   "source": []
  },
  {
   "cell_type": "code",
   "execution_count": null,
   "metadata": {},
   "outputs": [],
   "source": []
  }
 ],
 "metadata": {
  "kernelspec": {
   "display_name": "gputest",
   "language": "python",
   "name": "gputest"
  },
  "language_info": {
   "codemirror_mode": {
    "name": "ipython",
    "version": 3
   },
   "file_extension": ".py",
   "mimetype": "text/x-python",
   "name": "python",
   "nbconvert_exporter": "python",
   "pygments_lexer": "ipython3",
   "version": "3.7.7"
  }
 },
 "nbformat": 4,
 "nbformat_minor": 4
}
