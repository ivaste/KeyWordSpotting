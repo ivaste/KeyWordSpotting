{
 "cells": [
  {
   "cell_type": "markdown",
   "metadata": {},
   "source": [
    "# Load Dataset 9cmd\n"
   ]
  },
  {
   "cell_type": "code",
   "execution_count": 47,
   "metadata": {},
   "outputs": [],
   "source": [
    "import numpy as np\n",
    "import librosa # mfcc functions\n",
    "import pandas as pd #reading txt files\n",
    "import os\n",
    "\n",
    "sr=16000"
   ]
  },
  {
   "cell_type": "code",
   "execution_count": 48,
   "metadata": {},
   "outputs": [
    {
     "name": "stdout",
     "output_type": "stream",
     "text": [
      "('yes/', 'no/', 'up/', 'down/', 'left/', 'right/', 'on/', 'off/', 'stop/', 'go/')\n"
     ]
    }
   ],
   "source": [
    "diCategories = {\n",
    "            'yes': 0,\n",
    "            'no': 1,\n",
    "            'up': 2,\n",
    "            'down': 3,\n",
    "            'left': 4,\n",
    "            'right': 5,\n",
    "            'on': 6,\n",
    "            'off': 7,\n",
    "            'stop': 8,\n",
    "            'go': 9}\n",
    "\n",
    "categoriesFolder=tuple([e+\"/\" for e in diCategories])\n",
    "categories=tuple(diCategories)\n",
    "print(categoriesFolder)"
   ]
  },
  {
   "cell_type": "code",
   "execution_count": 49,
   "metadata": {},
   "outputs": [
    {
     "name": "stdout",
     "output_type": "stream",
     "text": [
      "# of test:  4074\n",
      "# of val:  3703\n",
      "# of train:  30769\n",
      "# total:  38546\n"
     ]
    }
   ],
   "source": [
    "# Load Dataset filenames\n",
    "basePath = 'sd_GSCmdV2'\n",
    "\n",
    "testWAVs = pd.read_csv(basePath + '/train/testing_list.txt',\n",
    "                           sep=\" \", header=None)[0].tolist()\n",
    "testWAVs = [os.path.join(basePath + '/train/', f + '.npy')\n",
    "                for f in testWAVs if f.endswith('.wav') and f.startswith(categoriesFolder)]\n",
    "\n",
    "valWAVs = pd.read_csv(basePath + '/train/validation_list.txt',\n",
    "                           sep=\" \", header=None)[0].tolist()\n",
    "valWAVs = [os.path.join(basePath + '/train/', f + '.npy')\n",
    "                for f in valWAVs if f.endswith('.wav') and f.startswith(categoriesFolder)]\n",
    "\n",
    "allWAVs = []\n",
    "for root, dirs, files in os.walk(basePath + '/train/'):\n",
    "    allWAVs += [root + '/' + f for f in files if f.endswith('.wav.npy') and root.endswith(categories)]\n",
    "trainWAVs = list(set(allWAVs) - set(valWAVs) - set(testWAVs))\n",
    "\n",
    "print(\"# of test: \",len(testWAVs))\n",
    "print(\"# of val: \",len(valWAVs))\n",
    "print(\"# of train: \",len(trainWAVs))\n",
    "print(\"# total: \",len(allWAVs))"
   ]
  },
  {
   "cell_type": "code",
   "execution_count": 50,
   "metadata": {},
   "outputs": [],
   "source": [
    "# LOAD DATASET FILES\n",
    "def loadBatch(filesList,batch_size=1000,dim=16000):\n",
    "\n",
    "    X = np.empty((batch_size, dim))\n",
    "    y = np.empty((batch_size), dtype=int)\n",
    "\n",
    "    # Generate data\n",
    "    for i, ID in enumerate(filesList[0:batch_size]):\n",
    "        # load data from file, saved as numpy array on disk\n",
    "        curX = np.load(ID)\n",
    "\n",
    "        # curX could be bigger or smaller than self.dim\n",
    "        if curX.shape[0] == dim:\n",
    "            X[i] = curX\n",
    "        elif curX.shape[0] > dim:  # bigger\n",
    "            # we can choose any position in curX-self.dim\n",
    "            randPos = np.random.randint(curX.shape[0]-dim)\n",
    "            X[i] = curX[randPos:randPos+dim]\n",
    "        else:  # smaller\n",
    "            randPos = np.random.randint(dim-curX.shape[0])\n",
    "            X[i, randPos:randPos + curX.shape[0]] = curX\n",
    "            # print('File dim smaller')\n",
    "        \n",
    "        # Store class\n",
    "        y[i] = diCategories[os.path.basename(os.path.dirname(ID))]\n",
    "        \n",
    "    return X,y"
   ]
  },
  {
   "cell_type": "code",
   "execution_count": 58,
   "metadata": {},
   "outputs": [],
   "source": [
    "# PREPROCESSING\n",
    "\n",
    "#12 MFCC + 12 DELTA +12 DELTADELTA\n",
    "def MFCC_DELTA_12(X,sr=16000):\n",
    "    features = np.empty((X.shape[0],36,126)) #12*3, ...\n",
    "    for i,y in enumerate(X):\n",
    "        S = librosa.feature.melspectrogram(y, sr=sr, n_fft=1024,\n",
    "                                                hop_length=128, power=1.0, #window='hann',\n",
    "                                                n_mels=80, fmin=40.0, fmax=sr/2)\n",
    "\n",
    "        # Convert to log scale (dB). We'll use the peak power (max) as reference.\n",
    "        log_S = librosa.power_to_db(S, ref=np.max)\n",
    "\n",
    "        # Next, we'll extract the top 12 Mel-frequency cepstral coefficients (MFCCs)\n",
    "        mfcc        = librosa.feature.mfcc(S=log_S, n_mfcc=12)\n",
    "\n",
    "        # Let's pad on the first and second deltas while we're at it\n",
    "        delta_mfcc  = librosa.feature.delta(mfcc)\n",
    "        delta2_mfcc = librosa.feature.delta(mfcc, order=2)\n",
    "\n",
    "        features[i] = np.concatenate((mfcc, delta_mfcc, delta2_mfcc), axis=0)\n",
    "    return features"
   ]
  },
  {
   "cell_type": "code",
   "execution_count": null,
   "metadata": {},
   "outputs": [],
   "source": []
  },
  {
   "cell_type": "code",
   "execution_count": 61,
   "metadata": {},
   "outputs": [
    {
     "name": "stdout",
     "output_type": "stream",
     "text": [
      "Loading  1000  files (seconds): 0.43779611587524414\n",
      "Size: 128000000 bytes\n",
      "Transforming  1000  elements (seconds): 4.509008884429932\n",
      "Size: 36288000 bytes\n"
     ]
    },
    {
     "data": {
      "image/png": "[encoded data removed]",
      "text/plain": [
       "<Figure size 720x288 with 1 Axes>"
      ]
     },
     "metadata": {
      "needs_background": "light"
     },
     "output_type": "display_data"
    }
   ],
   "source": [
    "import time\n",
    "import matplotlib.pyplot as plt\n",
    "\n",
    "start = time.time()\n",
    "X,y=loadBatch(valWAVs)\n",
    "end = time.time()\n",
    "print(\"Loading \", 1000, \" files (seconds):\", end - start)\n",
    "print(\"Size: %d bytes\" % (X.nbytes))\n",
    "\n",
    "start = time.time()\n",
    "features=MFCC_DELTA_12(X)\n",
    "end = time.time()\n",
    "print(\"Transforming \", 1000, \" elements (seconds):\", end - start)\n",
    "print(\"Size: %d bytes\" % (features.nbytes))\n",
    "\n",
    "\n",
    "plt.figure(figsize=(10, 4))\n",
    "plt.pcolormesh(features[0])\n",
    "plt.show()"
   ]
  },
  {
   "cell_type": "code",
   "execution_count": 46,
   "metadata": {},
   "outputs": [
    {
     "name": "stdout",
     "output_type": "stream",
     "text": [
      "ciao\n"
     ]
    }
   ],
   "source": [
    "print(\"ciao\")"
   ]
  },
  {
   "cell_type": "code",
   "execution_count": 57,
   "metadata": {},
   "outputs": [
    {
     "name": "stdout",
     "output_type": "stream",
     "text": [
      "1000\n"
     ]
    }
   ],
   "source": [
    "print(X.shape[0])"
   ]
  },
  {
   "cell_type": "code",
   "execution_count": null,
   "metadata": {},
   "outputs": [],
   "source": []
  }
 ],
 "metadata": {
  "kernelspec": {
   "display_name": "gputest",
   "language": "python",
   "name": "gputest"
  },
  "language_info": {
   "codemirror_mode": {
    "name": "ipython",
    "version": 3
   },
   "file_extension": ".py",
   "mimetype": "text/x-python",
   "name": "python",
   "nbconvert_exporter": "python",
   "pygments_lexer": "ipython3",
   "version": "3.7.7"
  }
 },
 "nbformat": 4,
 "nbformat_minor": 4
}
