{
 "cells": [
  {
   "cell_type": "markdown",
   "metadata": {},
   "source": [
    "## Prepare X_train, X_val, y_train, y_val"
   ]
  },
  {
   "cell_type": "code",
   "execution_count": 1,
   "metadata": {},
   "outputs": [],
   "source": [
    "import LoadAndPreprocessDataset"
   ]
  },
  {
   "cell_type": "code",
   "execution_count": 2,
   "metadata": {},
   "outputs": [
    {
     "name": "stdout",
     "output_type": "stream",
     "text": [
      "(1000, 120, 126) (100, 120, 126)\n",
      "(1000, 120, 126, 1) (100, 120, 126, 1)\n"
     ]
    }
   ],
   "source": [
    "#Load filenames\n",
    "train,val,test = LoadAndPreprocessDataset.loadDatasetFilenames()\n",
    "\n",
    "#Load TRAIN files\n",
    "X,y_train=LoadAndPreprocessDataset.loadBatch(train,batch_size=1000)\n",
    "#Preprocess TRAIN\n",
    "X_train=LoadAndPreprocessDataset.MFCC_DELTA(X,n_mfcc=40)\n",
    "#X_train=LoadAndPreprocessDataset.MFCC(X,n_mfcc=40)\n",
    "#Release memory\n",
    "del(X)\n",
    "\n",
    "#Load VAL files\n",
    "X,y_val=LoadAndPreprocessDataset.loadBatch(val,batch_size=100)\n",
    "#Preprocess VAL\n",
    "X_val=LoadAndPreprocessDataset.MFCC_DELTA(X,n_mfcc=40)\n",
    "#X_val=LoadAndPreprocessDataset.MFCC(X,n_mfcc=40)\n",
    "#Release memory\n",
    "del(X)\n",
    "\n",
    "print(X_train.shape,X_val.shape)\n",
    "\n",
    "#ADD extra dimension for CNN\n",
    "import numpy as np\n",
    "X_train = X_train[..., np.newaxis]\n",
    "X_val = X_val[..., np.newaxis]\n",
    "print(X_train.shape,X_val.shape)\n",
    "\n",
    "# NORMALIZATION\n",
    "### NO normalization seems better\n",
    "#from sklearn.preprocessing import normalize\n",
    "#from sklearn.preprocessing import MinMaxScaler\n",
    "#scaler = MinMaxScaler(feature_range=(-1,1)) # Gives huge bias\n",
    "#for i in range(len(X_train)):\n",
    "    #X_train[i]=normalize(X_train[i], axis=0, norm='max') #normalize each feature of the example\n",
    "    #X_train[i]=(X_train[i] - X_train[i].min(0)) / X_train[i].ptp(0) # HUGE BIAS\n",
    "    #X_train[i]=scaler.fit_transform(X_train[i]) # HUGE BIAS\n",
    "#for i in range(len(X_val)):\n",
    "    #X_val[i]=normalize(X_val[i], axis=0, norm='max') #normalize each feature of the example\n",
    "    #X_val[i]=(X_val[i] - X_val[i].min(0)) / X_val[i].ptp(0) #HUGE BIAS\n",
    "    #X_val[i]=scaler.fit_transform(X_val[i])  # HUGE BIAS\n",
    "\n",
    "\n"
   ]
  },
  {
   "cell_type": "code",
   "execution_count": 3,
   "metadata": {},
   "outputs": [
    {
     "name": "stdout",
     "output_type": "stream",
     "text": [
      "(1000, 120, 126, 1)\n",
      "(1000,)\n",
      "(100, 120, 126, 1)\n",
      "(100,)\n"
     ]
    },
    {
     "ename": "ValueError",
     "evalue": "too many values to unpack (expected 2)",
     "output_type": "error",
     "traceback": [
      "\u001b[1;31m---------------------------------------------------------------------------\u001b[0m",
      "\u001b[1;31mValueError\u001b[0m                                Traceback (most recent call last)",
      "\u001b[1;32m<ipython-input-3-d52621e7d478>\u001b[0m in \u001b[0;36m<module>\u001b[1;34m\u001b[0m\n\u001b[0;32m      8\u001b[0m \u001b[1;32mimport\u001b[0m \u001b[0mmatplotlib\u001b[0m\u001b[1;33m.\u001b[0m\u001b[0mpyplot\u001b[0m \u001b[1;32mas\u001b[0m \u001b[0mplt\u001b[0m\u001b[1;33m\u001b[0m\u001b[1;33m\u001b[0m\u001b[0m\n\u001b[0;32m      9\u001b[0m \u001b[0mplt\u001b[0m\u001b[1;33m.\u001b[0m\u001b[0mfigure\u001b[0m\u001b[1;33m(\u001b[0m\u001b[0mfigsize\u001b[0m\u001b[1;33m=\u001b[0m\u001b[1;33m(\u001b[0m\u001b[1;36m10\u001b[0m\u001b[1;33m,\u001b[0m \u001b[1;36m4\u001b[0m\u001b[1;33m)\u001b[0m\u001b[1;33m)\u001b[0m\u001b[1;33m\u001b[0m\u001b[1;33m\u001b[0m\u001b[0m\n\u001b[1;32m---> 10\u001b[1;33m \u001b[0mplt\u001b[0m\u001b[1;33m.\u001b[0m\u001b[0mpcolormesh\u001b[0m\u001b[1;33m(\u001b[0m\u001b[0mX_train\u001b[0m\u001b[1;33m[\u001b[0m\u001b[1;36m0\u001b[0m\u001b[1;33m]\u001b[0m\u001b[1;33m)\u001b[0m\u001b[1;33m\u001b[0m\u001b[1;33m\u001b[0m\u001b[0m\n\u001b[0m\u001b[0;32m     11\u001b[0m \u001b[0mplt\u001b[0m\u001b[1;33m.\u001b[0m\u001b[0mshow\u001b[0m\u001b[1;33m(\u001b[0m\u001b[1;33m)\u001b[0m\u001b[1;33m\u001b[0m\u001b[1;33m\u001b[0m\u001b[0m\n\u001b[0;32m     12\u001b[0m \u001b[1;33m\u001b[0m\u001b[0m\n",
      "\u001b[1;32m~\\.conda\\envs\\gputest\\lib\\site-packages\\matplotlib\\pyplot.py\u001b[0m in \u001b[0;36mpcolormesh\u001b[1;34m(alpha, norm, cmap, vmin, vmax, shading, antialiased, data, *args, **kwargs)\u001b[0m\n\u001b[0;32m   2723\u001b[0m         \u001b[1;33m*\u001b[0m\u001b[0margs\u001b[0m\u001b[1;33m,\u001b[0m \u001b[0malpha\u001b[0m\u001b[1;33m=\u001b[0m\u001b[0malpha\u001b[0m\u001b[1;33m,\u001b[0m \u001b[0mnorm\u001b[0m\u001b[1;33m=\u001b[0m\u001b[0mnorm\u001b[0m\u001b[1;33m,\u001b[0m \u001b[0mcmap\u001b[0m\u001b[1;33m=\u001b[0m\u001b[0mcmap\u001b[0m\u001b[1;33m,\u001b[0m \u001b[0mvmin\u001b[0m\u001b[1;33m=\u001b[0m\u001b[0mvmin\u001b[0m\u001b[1;33m,\u001b[0m\u001b[1;33m\u001b[0m\u001b[1;33m\u001b[0m\u001b[0m\n\u001b[0;32m   2724\u001b[0m         \u001b[0mvmax\u001b[0m\u001b[1;33m=\u001b[0m\u001b[0mvmax\u001b[0m\u001b[1;33m,\u001b[0m \u001b[0mshading\u001b[0m\u001b[1;33m=\u001b[0m\u001b[0mshading\u001b[0m\u001b[1;33m,\u001b[0m \u001b[0mantialiased\u001b[0m\u001b[1;33m=\u001b[0m\u001b[0mantialiased\u001b[0m\u001b[1;33m,\u001b[0m\u001b[1;33m\u001b[0m\u001b[1;33m\u001b[0m\u001b[0m\n\u001b[1;32m-> 2725\u001b[1;33m         **({\"data\": data} if data is not None else {}), **kwargs)\n\u001b[0m\u001b[0;32m   2726\u001b[0m     \u001b[0msci\u001b[0m\u001b[1;33m(\u001b[0m\u001b[0m__ret\u001b[0m\u001b[1;33m)\u001b[0m\u001b[1;33m\u001b[0m\u001b[1;33m\u001b[0m\u001b[0m\n\u001b[0;32m   2727\u001b[0m     \u001b[1;32mreturn\u001b[0m \u001b[0m__ret\u001b[0m\u001b[1;33m\u001b[0m\u001b[1;33m\u001b[0m\u001b[0m\n",
      "\u001b[1;32m~\\.conda\\envs\\gputest\\lib\\site-packages\\matplotlib\\__init__.py\u001b[0m in \u001b[0;36minner\u001b[1;34m(ax, data, *args, **kwargs)\u001b[0m\n\u001b[0;32m   1563\u001b[0m     \u001b[1;32mdef\u001b[0m \u001b[0minner\u001b[0m\u001b[1;33m(\u001b[0m\u001b[0max\u001b[0m\u001b[1;33m,\u001b[0m \u001b[1;33m*\u001b[0m\u001b[0margs\u001b[0m\u001b[1;33m,\u001b[0m \u001b[0mdata\u001b[0m\u001b[1;33m=\u001b[0m\u001b[1;32mNone\u001b[0m\u001b[1;33m,\u001b[0m \u001b[1;33m**\u001b[0m\u001b[0mkwargs\u001b[0m\u001b[1;33m)\u001b[0m\u001b[1;33m:\u001b[0m\u001b[1;33m\u001b[0m\u001b[1;33m\u001b[0m\u001b[0m\n\u001b[0;32m   1564\u001b[0m         \u001b[1;32mif\u001b[0m \u001b[0mdata\u001b[0m \u001b[1;32mis\u001b[0m \u001b[1;32mNone\u001b[0m\u001b[1;33m:\u001b[0m\u001b[1;33m\u001b[0m\u001b[1;33m\u001b[0m\u001b[0m\n\u001b[1;32m-> 1565\u001b[1;33m             \u001b[1;32mreturn\u001b[0m \u001b[0mfunc\u001b[0m\u001b[1;33m(\u001b[0m\u001b[0max\u001b[0m\u001b[1;33m,\u001b[0m \u001b[1;33m*\u001b[0m\u001b[0mmap\u001b[0m\u001b[1;33m(\u001b[0m\u001b[0msanitize_sequence\u001b[0m\u001b[1;33m,\u001b[0m \u001b[0margs\u001b[0m\u001b[1;33m)\u001b[0m\u001b[1;33m,\u001b[0m \u001b[1;33m**\u001b[0m\u001b[0mkwargs\u001b[0m\u001b[1;33m)\u001b[0m\u001b[1;33m\u001b[0m\u001b[1;33m\u001b[0m\u001b[0m\n\u001b[0m\u001b[0;32m   1566\u001b[0m \u001b[1;33m\u001b[0m\u001b[0m\n\u001b[0;32m   1567\u001b[0m         \u001b[0mbound\u001b[0m \u001b[1;33m=\u001b[0m \u001b[0mnew_sig\u001b[0m\u001b[1;33m.\u001b[0m\u001b[0mbind\u001b[0m\u001b[1;33m(\u001b[0m\u001b[0max\u001b[0m\u001b[1;33m,\u001b[0m \u001b[1;33m*\u001b[0m\u001b[0margs\u001b[0m\u001b[1;33m,\u001b[0m \u001b[1;33m**\u001b[0m\u001b[0mkwargs\u001b[0m\u001b[1;33m)\u001b[0m\u001b[1;33m\u001b[0m\u001b[1;33m\u001b[0m\u001b[0m\n",
      "\u001b[1;32m~\\.conda\\envs\\gputest\\lib\\site-packages\\matplotlib\\axes\\_axes.py\u001b[0m in \u001b[0;36mpcolormesh\u001b[1;34m(self, alpha, norm, cmap, vmin, vmax, shading, antialiased, *args, **kwargs)\u001b[0m\n\u001b[0;32m   6102\u001b[0m         \u001b[0mallmatch\u001b[0m \u001b[1;33m=\u001b[0m \u001b[1;33m(\u001b[0m\u001b[0mshading\u001b[0m \u001b[1;33m==\u001b[0m \u001b[1;34m'gouraud'\u001b[0m\u001b[1;33m)\u001b[0m\u001b[1;33m\u001b[0m\u001b[1;33m\u001b[0m\u001b[0m\n\u001b[0;32m   6103\u001b[0m \u001b[1;33m\u001b[0m\u001b[0m\n\u001b[1;32m-> 6104\u001b[1;33m         \u001b[0mX\u001b[0m\u001b[1;33m,\u001b[0m \u001b[0mY\u001b[0m\u001b[1;33m,\u001b[0m \u001b[0mC\u001b[0m \u001b[1;33m=\u001b[0m \u001b[0mself\u001b[0m\u001b[1;33m.\u001b[0m\u001b[0m_pcolorargs\u001b[0m\u001b[1;33m(\u001b[0m\u001b[1;34m'pcolormesh'\u001b[0m\u001b[1;33m,\u001b[0m \u001b[1;33m*\u001b[0m\u001b[0margs\u001b[0m\u001b[1;33m,\u001b[0m \u001b[0mallmatch\u001b[0m\u001b[1;33m=\u001b[0m\u001b[0mallmatch\u001b[0m\u001b[1;33m)\u001b[0m\u001b[1;33m\u001b[0m\u001b[1;33m\u001b[0m\u001b[0m\n\u001b[0m\u001b[0;32m   6105\u001b[0m         \u001b[0mNy\u001b[0m\u001b[1;33m,\u001b[0m \u001b[0mNx\u001b[0m \u001b[1;33m=\u001b[0m \u001b[0mX\u001b[0m\u001b[1;33m.\u001b[0m\u001b[0mshape\u001b[0m\u001b[1;33m\u001b[0m\u001b[1;33m\u001b[0m\u001b[0m\n\u001b[0;32m   6106\u001b[0m         \u001b[0mX\u001b[0m \u001b[1;33m=\u001b[0m \u001b[0mX\u001b[0m\u001b[1;33m.\u001b[0m\u001b[0mravel\u001b[0m\u001b[1;33m(\u001b[0m\u001b[1;33m)\u001b[0m\u001b[1;33m\u001b[0m\u001b[1;33m\u001b[0m\u001b[0m\n",
      "\u001b[1;32m~\\.conda\\envs\\gputest\\lib\\site-packages\\matplotlib\\axes\\_axes.py\u001b[0m in \u001b[0;36m_pcolorargs\u001b[1;34m(funcname, allmatch, *args)\u001b[0m\n\u001b[0;32m   5654\u001b[0m         \u001b[1;32mif\u001b[0m \u001b[0mlen\u001b[0m\u001b[1;33m(\u001b[0m\u001b[0margs\u001b[0m\u001b[1;33m)\u001b[0m \u001b[1;33m==\u001b[0m \u001b[1;36m1\u001b[0m\u001b[1;33m:\u001b[0m\u001b[1;33m\u001b[0m\u001b[1;33m\u001b[0m\u001b[0m\n\u001b[0;32m   5655\u001b[0m             \u001b[0mC\u001b[0m \u001b[1;33m=\u001b[0m \u001b[0mnp\u001b[0m\u001b[1;33m.\u001b[0m\u001b[0masanyarray\u001b[0m\u001b[1;33m(\u001b[0m\u001b[0margs\u001b[0m\u001b[1;33m[\u001b[0m\u001b[1;36m0\u001b[0m\u001b[1;33m]\u001b[0m\u001b[1;33m)\u001b[0m\u001b[1;33m\u001b[0m\u001b[1;33m\u001b[0m\u001b[0m\n\u001b[1;32m-> 5656\u001b[1;33m             \u001b[0mnrows\u001b[0m\u001b[1;33m,\u001b[0m \u001b[0mncols\u001b[0m \u001b[1;33m=\u001b[0m \u001b[0mC\u001b[0m\u001b[1;33m.\u001b[0m\u001b[0mshape\u001b[0m\u001b[1;33m\u001b[0m\u001b[1;33m\u001b[0m\u001b[0m\n\u001b[0m\u001b[0;32m   5657\u001b[0m             \u001b[1;32mif\u001b[0m \u001b[0mallmatch\u001b[0m\u001b[1;33m:\u001b[0m\u001b[1;33m\u001b[0m\u001b[1;33m\u001b[0m\u001b[0m\n\u001b[0;32m   5658\u001b[0m                 \u001b[0mX\u001b[0m\u001b[1;33m,\u001b[0m \u001b[0mY\u001b[0m \u001b[1;33m=\u001b[0m \u001b[0mnp\u001b[0m\u001b[1;33m.\u001b[0m\u001b[0mmeshgrid\u001b[0m\u001b[1;33m(\u001b[0m\u001b[0mnp\u001b[0m\u001b[1;33m.\u001b[0m\u001b[0marange\u001b[0m\u001b[1;33m(\u001b[0m\u001b[0mncols\u001b[0m\u001b[1;33m)\u001b[0m\u001b[1;33m,\u001b[0m \u001b[0mnp\u001b[0m\u001b[1;33m.\u001b[0m\u001b[0marange\u001b[0m\u001b[1;33m(\u001b[0m\u001b[0mnrows\u001b[0m\u001b[1;33m)\u001b[0m\u001b[1;33m)\u001b[0m\u001b[1;33m\u001b[0m\u001b[1;33m\u001b[0m\u001b[0m\n",
      "\u001b[1;31mValueError\u001b[0m: too many values to unpack (expected 2)"
     ]
    },
    {
     "data": {
      "image/png": "[encoded data removed]",
      "text/plain": [
       "<Figure size 720x288 with 1 Axes>"
      ]
     },
     "metadata": {
      "needs_background": "light"
     },
     "output_type": "display_data"
    }
   ],
   "source": [
    "# Look at some data\n",
    "\n",
    "print(X_train.shape)\n",
    "print(y_train.shape)\n",
    "print(X_val.shape)\n",
    "print(y_val.shape)\n",
    "\n",
    "import matplotlib.pyplot as plt\n",
    "plt.figure(figsize=(10, 4))\n",
    "plt.pcolormesh(X_train[0])\n",
    "plt.show()\n",
    "\n",
    "plt.figure(figsize=(10, 4))\n",
    "plt.pcolormesh(X_val[0])\n",
    "plt.show()\n",
    "\n",
    "import numpy as np\n",
    "print(np.min(X_train))\n",
    "print(np.max(X_train))\n",
    "\n",
    "for i in range(len(X_train[1])):\n",
    "    print(i,np.min(X_train[1,i]),np.max(X_train[1,i]))\n",
    "print(X_train[1].shape)"
   ]
  },
  {
   "cell_type": "markdown",
   "metadata": {},
   "source": [
    "## Define NN"
   ]
  },
  {
   "cell_type": "code",
   "execution_count": 4,
   "metadata": {},
   "outputs": [],
   "source": [
    "import Models"
   ]
  },
  {
   "cell_type": "code",
   "execution_count": 5,
   "metadata": {},
   "outputs": [
    {
     "name": "stdout",
     "output_type": "stream",
     "text": [
      "Model: \"simpleCNN-elu\"\n",
      "_________________________________________________________________\n",
      "Layer (type)                 Output Shape              Param #   \n",
      "=================================================================\n",
      "input_1 (InputLayer)         [(None, 120, 126, 1)]     0         \n",
      "_________________________________________________________________\n",
      "conv2d (Conv2D)              (None, 60, 63, 16)        65552     \n",
      "_________________________________________________________________\n",
      "conv2d_1 (Conv2D)            (None, 30, 32, 16)        65552     \n",
      "_________________________________________________________________\n",
      "flatten (Flatten)            (None, 15360)             0         \n",
      "_________________________________________________________________\n",
      "dense (Dense)                (None, 10)                153610    \n",
      "=================================================================\n",
      "Total params: 284,714\n",
      "Trainable params: 284,714\n",
      "Non-trainable params: 0\n",
      "_________________________________________________________________\n"
     ]
    }
   ],
   "source": [
    "categories=['yes','no','up','down','left','right','on','off','stop','go']\n",
    "nCategories=len(categories)\n",
    "\n",
    "\n",
    "modelName=\"simpleCNN-elu\"\n",
    "model = Models.SimpleCNN(nCategories,\n",
    "                        inputShape=X_train.shape[1:],\n",
    "                        name=modelName)\n",
    "\n",
    "\n",
    "\n",
    "model.compile(optimizer='Nadam',\n",
    "              loss=['sparse_categorical_crossentropy'],\n",
    "              metrics=['sparse_categorical_accuracy'])\n",
    "\n",
    "model.summary()"
   ]
  },
  {
   "cell_type": "code",
   "execution_count": 7,
   "metadata": {},
   "outputs": [],
   "source": [
    "from tensorflow.keras.callbacks import EarlyStopping, ModelCheckpoint, LearningRateScheduler, TensorBoard\n",
    "import math\n",
    "import datetime\n",
    "\n",
    "log_dir = \"logs/fit/\" +modelName+\"-\"+ datetime.datetime.now().strftime(\"%Y-%m-%d_%H-%M-%S\")\n",
    "\n",
    "def step_decay(epoch):\n",
    "    initial_lrate = 0.001\n",
    "    drop = 0.4\n",
    "    epochs_drop = 15.0\n",
    "    lrate = initial_lrate * math.pow(drop, math.floor((1+epoch)/epochs_drop))\n",
    "    \n",
    "    if (lrate < 4e-5):\n",
    "        lrate = 4e-5\n",
    "      \n",
    "    print('Changing learning rate to {}'.format(lrate))\n",
    "    return lrate\n",
    "lrate = LearningRateScheduler(step_decay)\n",
    "\n",
    "def performance_scheduling(epoch):\n",
    "    #.....\n",
    "    return lrate\n",
    "\n",
    "my_callbacks = [\n",
    "    EarlyStopping(monitor='val_sparse_categorical_accuracy',\n",
    "                  patience=15,\n",
    "                  verbose=1,\n",
    "                  restore_best_weights=True),\n",
    "    ModelCheckpoint('models/'+modelName+'.h5',\n",
    "                    monitor='val_sparse_categorical_accuracy',\n",
    "                    verbose=1,\n",
    "                    save_best_only=True)]#,\n",
    "    #lrate]\n"
   ]
  },
  {
   "cell_type": "code",
   "execution_count": 8,
   "metadata": {},
   "outputs": [
    {
     "name": "stdout",
     "output_type": "stream",
     "text": [
      "Train on 1000 samples, validate on 100 samples\n",
      "Epoch 1/60\n",
      " 992/1000 [============================>.] - ETA: 0s - loss: 7.4312 - sparse_categorical_accuracy: 0.1310\n",
      "Epoch 00001: val_sparse_categorical_accuracy improved from -inf to 0.10000, saving model to models/simpleCNN-elu.h5\n",
      "1000/1000 [==============================] - 6s 6ms/sample - loss: 7.4025 - sparse_categorical_accuracy: 0.1300 - val_loss: 3.2638 - val_sparse_categorical_accuracy: 0.1000\n",
      "Epoch 2/60\n",
      " 992/1000 [============================>.] - ETA: 0s - loss: 2.1039 - sparse_categorical_accuracy: 0.3387\n",
      "Epoch 00002: val_sparse_categorical_accuracy improved from 0.10000 to 0.15000, saving model to models/simpleCNN-elu.h5\n",
      "1000/1000 [==============================] - 3s 3ms/sample - loss: 2.1060 - sparse_categorical_accuracy: 0.3380 - val_loss: 5.3796 - val_sparse_categorical_accuracy: 0.1500\n",
      "Epoch 3/60\n",
      " 992/1000 [============================>.] - ETA: 0s - loss: 1.4659 - sparse_categorical_accuracy: 0.5685\n",
      "Epoch 00003: val_sparse_categorical_accuracy improved from 0.15000 to 0.28000, saving model to models/simpleCNN-elu.h5\n",
      "1000/1000 [==============================] - 3s 3ms/sample - loss: 1.4683 - sparse_categorical_accuracy: 0.5650 - val_loss: 3.5374 - val_sparse_categorical_accuracy: 0.2800\n",
      "Epoch 4/60\n",
      " 992/1000 [============================>.] - ETA: 0s - loss: 0.5435 - sparse_categorical_accuracy: 0.8448\n",
      "Epoch 00004: val_sparse_categorical_accuracy did not improve from 0.28000\n",
      "1000/1000 [==============================] - 3s 3ms/sample - loss: 0.5426 - sparse_categorical_accuracy: 0.8450 - val_loss: 3.1691 - val_sparse_categorical_accuracy: 0.2700\n",
      "Epoch 5/60\n",
      " 992/1000 [============================>.] - ETA: 0s - loss: 0.1571 - sparse_categorical_accuracy: 0.9718\n",
      "Epoch 00005: val_sparse_categorical_accuracy improved from 0.28000 to 0.33000, saving model to models/simpleCNN-elu.h5\n",
      "1000/1000 [==============================] - 3s 3ms/sample - loss: 0.1572 - sparse_categorical_accuracy: 0.9710 - val_loss: 3.0635 - val_sparse_categorical_accuracy: 0.3300\n",
      "Epoch 6/60\n",
      " 992/1000 [============================>.] - ETA: 0s - loss: 0.0449 - sparse_categorical_accuracy: 0.9980\n",
      "Epoch 00006: val_sparse_categorical_accuracy improved from 0.33000 to 0.37000, saving model to models/simpleCNN-elu.h5\n",
      "1000/1000 [==============================] - 3s 3ms/sample - loss: 0.0448 - sparse_categorical_accuracy: 0.9980 - val_loss: 2.8515 - val_sparse_categorical_accuracy: 0.3700\n",
      "Epoch 7/60\n",
      " 992/1000 [============================>.] - ETA: 0s - loss: 0.0163 - sparse_categorical_accuracy: 1.0000\n",
      "Epoch 00007: val_sparse_categorical_accuracy improved from 0.37000 to 0.43000, saving model to models/simpleCNN-elu.h5\n",
      "1000/1000 [==============================] - 3s 3ms/sample - loss: 0.0163 - sparse_categorical_accuracy: 1.0000 - val_loss: 2.8699 - val_sparse_categorical_accuracy: 0.4300\n",
      "Epoch 8/60\n",
      " 992/1000 [============================>.] - ETA: 0s - loss: 0.0093 - sparse_categorical_accuracy: 1.0000\n",
      "Epoch 00008: val_sparse_categorical_accuracy did not improve from 0.43000\n",
      "1000/1000 [==============================] - 3s 3ms/sample - loss: 0.0093 - sparse_categorical_accuracy: 1.0000 - val_loss: 2.8888 - val_sparse_categorical_accuracy: 0.4200\n",
      "Epoch 9/60\n",
      " 992/1000 [============================>.] - ETA: 0s - loss: 0.0069 - sparse_categorical_accuracy: 1.0000\n",
      "Epoch 00009: val_sparse_categorical_accuracy did not improve from 0.43000\n",
      "1000/1000 [==============================] - 3s 3ms/sample - loss: 0.0069 - sparse_categorical_accuracy: 1.0000 - val_loss: 2.9322 - val_sparse_categorical_accuracy: 0.4100\n",
      "Epoch 10/60\n",
      " 992/1000 [============================>.] - ETA: 0s - loss: 0.0055 - sparse_categorical_accuracy: 1.0000\n",
      "Epoch 00010: val_sparse_categorical_accuracy did not improve from 0.43000\n",
      "1000/1000 [==============================] - 3s 3ms/sample - loss: 0.0055 - sparse_categorical_accuracy: 1.0000 - val_loss: 2.9480 - val_sparse_categorical_accuracy: 0.4200\n",
      "Epoch 11/60\n",
      " 992/1000 [============================>.] - ETA: 0s - loss: 0.0046 - sparse_categorical_accuracy: 1.0000\n",
      "Epoch 00011: val_sparse_categorical_accuracy did not improve from 0.43000\n",
      "1000/1000 [==============================] - 3s 3ms/sample - loss: 0.0046 - sparse_categorical_accuracy: 1.0000 - val_loss: 2.9796 - val_sparse_categorical_accuracy: 0.4300\n",
      "Epoch 12/60\n",
      " 992/1000 [============================>.] - ETA: 0s - loss: 0.0038 - sparse_categorical_accuracy: 1.0000\n",
      "Epoch 00012: val_sparse_categorical_accuracy did not improve from 0.43000\n",
      "1000/1000 [==============================] - 3s 3ms/sample - loss: 0.0038 - sparse_categorical_accuracy: 1.0000 - val_loss: 3.0309 - val_sparse_categorical_accuracy: 0.4200\n",
      "Epoch 13/60\n",
      " 992/1000 [============================>.] - ETA: 0s - loss: 0.0033 - sparse_categorical_accuracy: 1.0000\n",
      "Epoch 00013: val_sparse_categorical_accuracy improved from 0.43000 to 0.45000, saving model to models/simpleCNN-elu.h5\n",
      "1000/1000 [==============================] - 3s 3ms/sample - loss: 0.0033 - sparse_categorical_accuracy: 1.0000 - val_loss: 3.0460 - val_sparse_categorical_accuracy: 0.4500\n",
      "Epoch 14/60\n",
      " 992/1000 [============================>.] - ETA: 0s - loss: 0.0029 - sparse_categorical_accuracy: 1.0000\n",
      "Epoch 00014: val_sparse_categorical_accuracy did not improve from 0.45000\n",
      "1000/1000 [==============================] - 3s 3ms/sample - loss: 0.0029 - sparse_categorical_accuracy: 1.0000 - val_loss: 3.0740 - val_sparse_categorical_accuracy: 0.4400\n",
      "Epoch 15/60\n",
      " 992/1000 [============================>.] - ETA: 0s - loss: 0.0025 - sparse_categorical_accuracy: 1.0000\n",
      "Epoch 00015: val_sparse_categorical_accuracy did not improve from 0.45000\n",
      "1000/1000 [==============================] - 3s 3ms/sample - loss: 0.0025 - sparse_categorical_accuracy: 1.0000 - val_loss: 3.0944 - val_sparse_categorical_accuracy: 0.4500\n",
      "Epoch 16/60\n",
      " 992/1000 [============================>.] - ETA: 0s - loss: 0.0023 - sparse_categorical_accuracy: 1.0000\n",
      "Epoch 00016: val_sparse_categorical_accuracy did not improve from 0.45000\n",
      "1000/1000 [==============================] - 3s 3ms/sample - loss: 0.0022 - sparse_categorical_accuracy: 1.0000 - val_loss: 3.1370 - val_sparse_categorical_accuracy: 0.4400\n",
      "Epoch 17/60\n",
      " 992/1000 [============================>.] - ETA: 0s - loss: 0.0020 - sparse_categorical_accuracy: 1.0000\n",
      "Epoch 00017: val_sparse_categorical_accuracy did not improve from 0.45000\n",
      "1000/1000 [==============================] - 3s 3ms/sample - loss: 0.0020 - sparse_categorical_accuracy: 1.0000 - val_loss: 3.1547 - val_sparse_categorical_accuracy: 0.4500\n",
      "Epoch 18/60\n",
      " 992/1000 [============================>.] - ETA: 0s - loss: 0.0018 - sparse_categorical_accuracy: 1.0000\n",
      "Epoch 00018: val_sparse_categorical_accuracy improved from 0.45000 to 0.46000, saving model to models/simpleCNN-elu.h5\n",
      "1000/1000 [==============================] - 3s 3ms/sample - loss: 0.0018 - sparse_categorical_accuracy: 1.0000 - val_loss: 3.1663 - val_sparse_categorical_accuracy: 0.4600\n",
      "Epoch 19/60\n",
      " 992/1000 [============================>.] - ETA: 0s - loss: 0.0016 - sparse_categorical_accuracy: 1.0000\n",
      "Epoch 00019: val_sparse_categorical_accuracy did not improve from 0.46000\n",
      "1000/1000 [==============================] - 3s 3ms/sample - loss: 0.0016 - sparse_categorical_accuracy: 1.0000 - val_loss: 3.1903 - val_sparse_categorical_accuracy: 0.4600\n",
      "Epoch 20/60\n",
      " 992/1000 [============================>.] - ETA: 0s - loss: 0.0015 - sparse_categorical_accuracy: 1.0000- ETA: 0s - loss: 0.0015 - sparse_categorical_accuracy: 1.\n",
      "Epoch 00020: val_sparse_categorical_accuracy did not improve from 0.46000\n",
      "1000/1000 [==============================] - 3s 3ms/sample - loss: 0.0015 - sparse_categorical_accuracy: 1.0000 - val_loss: 3.2037 - val_sparse_categorical_accuracy: 0.4500\n",
      "Epoch 21/60\n",
      " 992/1000 [============================>.] - ETA: 0s - loss: 0.0014 - sparse_categorical_accuracy: 1.0000\n",
      "Epoch 00021: val_sparse_categorical_accuracy did not improve from 0.46000\n",
      "1000/1000 [==============================] - 3s 3ms/sample - loss: 0.0014 - sparse_categorical_accuracy: 1.0000 - val_loss: 3.2265 - val_sparse_categorical_accuracy: 0.4500\n",
      "Epoch 22/60\n"
     ]
    },
    {
     "name": "stdout",
     "output_type": "stream",
     "text": [
      " 992/1000 [============================>.] - ETA: 0s - loss: 0.0013 - sparse_categorical_accuracy: 1.0000\n",
      "Epoch 00022: val_sparse_categorical_accuracy did not improve from 0.46000\n",
      "1000/1000 [==============================] - 3s 3ms/sample - loss: 0.0012 - sparse_categorical_accuracy: 1.0000 - val_loss: 3.2604 - val_sparse_categorical_accuracy: 0.4500\n",
      "Epoch 23/60\n",
      " 992/1000 [============================>.] - ETA: 0s - loss: 0.0011 - sparse_categorical_accuracy: 1.0000\n",
      "Epoch 00023: val_sparse_categorical_accuracy did not improve from 0.46000\n",
      "1000/1000 [==============================] - 3s 3ms/sample - loss: 0.0011 - sparse_categorical_accuracy: 1.0000 - val_loss: 3.2834 - val_sparse_categorical_accuracy: 0.4500\n",
      "Epoch 24/60\n",
      " 992/1000 [============================>.] - ETA: 0s - loss: 0.0011 - sparse_categorical_accuracy: 1.0000\n",
      "Epoch 00024: val_sparse_categorical_accuracy did not improve from 0.46000\n",
      "1000/1000 [==============================] - 3s 3ms/sample - loss: 0.0011 - sparse_categorical_accuracy: 1.0000 - val_loss: 3.2959 - val_sparse_categorical_accuracy: 0.4600\n",
      "Epoch 25/60\n",
      " 992/1000 [============================>.] - ETA: 0s - loss: 9.8932e-04 - sparse_categorical_accuracy: 1.0000\n",
      "Epoch 00025: val_sparse_categorical_accuracy did not improve from 0.46000\n",
      "1000/1000 [==============================] - 3s 3ms/sample - loss: 9.8576e-04 - sparse_categorical_accuracy: 1.0000 - val_loss: 3.3087 - val_sparse_categorical_accuracy: 0.4400\n",
      "Epoch 26/60\n",
      " 992/1000 [============================>.] - ETA: 0s - loss: 9.1109e-04 - sparse_categorical_accuracy: 1.0000\n",
      "Epoch 00026: val_sparse_categorical_accuracy did not improve from 0.46000\n",
      "1000/1000 [==============================] - 3s 3ms/sample - loss: 9.1434e-04 - sparse_categorical_accuracy: 1.0000 - val_loss: 3.3254 - val_sparse_categorical_accuracy: 0.4400\n",
      "Epoch 27/60\n",
      " 992/1000 [============================>.] - ETA: 0s - loss: 8.5115e-04 - sparse_categorical_accuracy: 1.0000\n",
      "Epoch 00027: val_sparse_categorical_accuracy did not improve from 0.46000\n",
      "1000/1000 [==============================] - 3s 3ms/sample - loss: 8.5423e-04 - sparse_categorical_accuracy: 1.0000 - val_loss: 3.3384 - val_sparse_categorical_accuracy: 0.4400\n",
      "Epoch 28/60\n",
      " 992/1000 [============================>.] - ETA: 0s - loss: 7.9716e-04 - sparse_categorical_accuracy: 1.0000\n",
      "Epoch 00028: val_sparse_categorical_accuracy did not improve from 0.46000\n",
      "1000/1000 [==============================] - 3s 3ms/sample - loss: 7.9699e-04 - sparse_categorical_accuracy: 1.0000 - val_loss: 3.3640 - val_sparse_categorical_accuracy: 0.4400\n",
      "Epoch 29/60\n",
      " 992/1000 [============================>.] - ETA: 0s - loss: 7.4592e-04 - sparse_categorical_accuracy: 1.0000\n",
      "Epoch 00029: val_sparse_categorical_accuracy did not improve from 0.46000\n",
      "1000/1000 [==============================] - 3s 3ms/sample - loss: 7.4524e-04 - sparse_categorical_accuracy: 1.0000 - val_loss: 3.3797 - val_sparse_categorical_accuracy: 0.4400\n",
      "Epoch 30/60\n",
      " 992/1000 [============================>.] - ETA: 0s - loss: 6.9832e-04 - sparse_categorical_accuracy: 1.0000\n",
      "Epoch 00030: val_sparse_categorical_accuracy did not improve from 0.46000\n",
      "1000/1000 [==============================] - 3s 3ms/sample - loss: 6.9737e-04 - sparse_categorical_accuracy: 1.0000 - val_loss: 3.3927 - val_sparse_categorical_accuracy: 0.4400\n",
      "Epoch 31/60\n",
      " 992/1000 [============================>.] - ETA: 0s - loss: 6.5597e-04 - sparse_categorical_accuracy: 1.0000\n",
      "Epoch 00031: val_sparse_categorical_accuracy did not improve from 0.46000\n",
      "1000/1000 [==============================] - 3s 3ms/sample - loss: 6.5618e-04 - sparse_categorical_accuracy: 1.0000 - val_loss: 3.4118 - val_sparse_categorical_accuracy: 0.4400\n",
      "Epoch 32/60\n",
      " 992/1000 [============================>.] - ETA: 0s - loss: 6.1767e-04 - sparse_categorical_accuracy: 1.0000\n",
      "Epoch 00032: val_sparse_categorical_accuracy did not improve from 0.46000\n",
      "1000/1000 [==============================] - 3s 3ms/sample - loss: 6.1704e-04 - sparse_categorical_accuracy: 1.0000 - val_loss: 3.4255 - val_sparse_categorical_accuracy: 0.4400\n",
      "Epoch 33/60\n",
      " 992/1000 [============================>.] - ETA: 0s - loss: 5.8442e-04 - sparse_categorical_accuracy: 1.0000Restoring model weights from the end of the best epoch.\n",
      "\n",
      "Epoch 00033: val_sparse_categorical_accuracy did not improve from 0.46000\n",
      "1000/1000 [==============================] - 3s 3ms/sample - loss: 5.8191e-04 - sparse_categorical_accuracy: 1.0000 - val_loss: 3.4379 - val_sparse_categorical_accuracy: 0.4400\n",
      "Epoch 00033: early stopping\n"
     ]
    }
   ],
   "source": [
    "#Train\n",
    "results = model.fit(x=X_train,\n",
    "                    y=y_train,\n",
    "                    validation_data=(X_val,y_val),\n",
    "                    batch_size=32, # usually between 10 and 32\n",
    "                    epochs=60,\n",
    "                    callbacks=my_callbacks,\n",
    "                    verbose=1)\n",
    "\n",
    "#model.save('models/'+modelName+'.h5')"
   ]
  },
  {
   "cell_type": "code",
   "execution_count": 13,
   "metadata": {},
   "outputs": [
    {
     "data": {
      "image/png": "[encoded data removed]",
      "text/plain": [
       "<Figure size 432x288 with 1 Axes>"
      ]
     },
     "metadata": {
      "needs_background": "light"
     },
     "output_type": "display_data"
    },
    {
     "data": {
      "image/png": "[encoded data removed]",
      "text/plain": [
       "<Figure size 432x288 with 1 Axes>"
      ]
     },
     "metadata": {
      "needs_background": "light"
     },
     "output_type": "display_data"
    }
   ],
   "source": [
    "import matplotlib.pyplot as plt\n",
    "\n",
    "import datetime\n",
    "save_dir=\"output/\"+modelName+\"-\"+ datetime.datetime.now().strftime(\"%Y-%m-%d_%H-%M\")+\"_\"\n",
    "\n",
    "# summarize history for categorical accuracy\n",
    "plt.plot(results.history['sparse_categorical_accuracy'])\n",
    "plt.plot(results.history['val_sparse_categorical_accuracy'])\n",
    "plt.title('Categorical accuracy')\n",
    "plt.ylabel('accuracy')\n",
    "plt.xlabel('epoch')\n",
    "plt.legend(['train', 'val'], loc='upper left')\n",
    "plt.savefig(save_dir+\"Categorical Accuracy\", dpi=400)\n",
    "plt.show()\n",
    "\n",
    "# summarize history for loss\n",
    "plt.plot(results.history['loss'])\n",
    "plt.plot(results.history['val_loss'])\n",
    "plt.title('model loss')\n",
    "plt.ylabel('loss')\n",
    "plt.xlabel('epoch')\n",
    "plt.legend(['train', 'val'], loc='upper left')\n",
    "plt.savefig(save_dir+\"Loss\", dpi=400)\n",
    "plt.show()\n",
    "\n"
   ]
  },
  {
   "cell_type": "markdown",
   "metadata": {},
   "source": [
    "## Test the model"
   ]
  },
  {
   "cell_type": "code",
   "execution_count": 10,
   "metadata": {},
   "outputs": [],
   "source": [
    "#Load TEST files\n",
    "X,y_test=LoadAndPreprocessDataset.loadBatch(val,batch_size=1000)\n",
    "#Preprocess TEST\n",
    "X_test=LoadAndPreprocessDataset.MFCC_DELTA(X,n_mfcc=40)\n",
    "#X_test=LoadAndPreprocessDataset.MFCC(X,n_mfcc=40)\n",
    "#Release memory\n",
    "del(X)\n",
    "\n",
    "#ADD extra dimension for CNN\n",
    "import numpy as np\n",
    "X_test = X_test[..., np.newaxis]"
   ]
  },
  {
   "cell_type": "code",
   "execution_count": 11,
   "metadata": {},
   "outputs": [
    {
     "name": "stdout",
     "output_type": "stream",
     "text": [
      "1000/1000 [==============================] - 2s 2ms/sample - loss: 3.1897 - sparse_categorical_accuracy: 0.3770\n"
     ]
    },
    {
     "data": {
      "text/plain": [
       "'import time\\n\\ns=time.time()\\ny_pred=np.argmax(model.predict(X_test[:500,:,:]),1)\\ne=time.time()\\nprint(\"Entire:\",e-s)\\n\\nstarts=np.empty((len(X_test),))\\nends=np.empty((len(X_test),))\\nfor i in range(len(X_test)):\\n    a=np.array([X_test[i]])\\n    starts[i]=time.time()\\n    a=np.argmax(model.predict(a),1)\\n    ends[i]=time.time()\\naverage=sum(ends-starts)/len(X_test)\\nprint(\"Average single prediction time (s):\",average)'"
      ]
     },
     "execution_count": 11,
     "metadata": {},
     "output_type": "execute_result"
    }
   ],
   "source": [
    "#load best model\n",
    "from tensorflow.keras.models import load_model\n",
    "model = load_model('models/'+modelName+'.h5')\n",
    "\n",
    "# Test the model on test data\n",
    "import numpy as np\n",
    "score = model.evaluate(X_test, y_test)\n",
    "y_pred=np.argmax(model.predict(X_test),1)\n",
    "\n",
    "\n",
    "#Measure time for every single prediction\n",
    "\"\"\"import time\n",
    "\n",
    "s=time.time()\n",
    "y_pred=np.argmax(model.predict(X_test[:500,:,:]),1)\n",
    "e=time.time()\n",
    "print(\"Entire:\",e-s)\n",
    "\n",
    "starts=np.empty((len(X_test),))\n",
    "ends=np.empty((len(X_test),))\n",
    "for i in range(len(X_test)):\n",
    "    a=np.array([X_test[i]])\n",
    "    starts[i]=time.time()\n",
    "    a=np.argmax(model.predict(a),1)\n",
    "    ends[i]=time.time()\n",
    "average=sum(ends-starts)/len(X_test)\n",
    "print(\"Average single prediction time (s):\",average)\"\"\"\n",
    "\n",
    "# 1 prediction or a batch of 10 requires the same amount of time\n",
    "# a batch of 100 prediction requires the double of 1\n",
    "# a batch of 500 prediction requires the 3 times of 1"
   ]
  },
  {
   "cell_type": "markdown",
   "metadata": {},
   "source": [
    "## Metrics Summary"
   ]
  },
  {
   "cell_type": "code",
   "execution_count": 14,
   "metadata": {},
   "outputs": [
    {
     "name": "stdout",
     "output_type": "stream",
     "text": [
      "Train loss:\t 0.0005819081799127161\n",
      "Train accuracy:\t 1.0\n",
      "Val loss:\t 3.437861261367798\n",
      "Val accuracy:\t 0.4399999976158142\n",
      "Test loss:\t 3.1897080726623535\n",
      "Test accuracy:\t 0.377\n",
      "Bias:\t\t -0.01\n",
      "Variance:\t 0.5600000023841858\n",
      "Precision:\t 0.377\n",
      "Recall:\t\t 0.377\n",
      "F1:\t\t 0.377\n"
     ]
    },
    {
     "data": {
      "image/png": "[encoded data removed]",
      "text/plain": [
       "<Figure size 1080x1080 with 2 Axes>"
      ]
     },
     "metadata": {
      "needs_background": "light"
     },
     "output_type": "display_data"
    }
   ],
   "source": [
    "train_loss=results.history.get('loss')[-1]\n",
    "val_loss=results.history.get('val_loss')[-1]\n",
    "\n",
    "train_error=1-results.history.get('sparse_categorical_accuracy')[-1]\n",
    "val_error=1-results.history.get('val_sparse_categorical_accuracy')[-1]\n",
    "\n",
    "test_loss=score[0]\n",
    "test_error=1-score[1]\n",
    "\n",
    "print('Train loss:\\t', train_loss)\n",
    "print('Train accuracy:\\t', 1-train_error)\n",
    "print('Val loss:\\t', val_loss)\n",
    "print('Val accuracy:\\t', 1-val_error)\n",
    "print('Test loss:\\t', test_loss)\n",
    "print('Test accuracy:\\t', score[1])\n",
    "\n",
    "optimal_error=0.01 #human error\n",
    "\n",
    "bias=train_error-optimal_error\n",
    "variance=val_error-train_error\n",
    "print(\"Bias:\\t\\t\",bias)\n",
    "print(\"Variance:\\t\",variance)\n",
    "\n",
    "\n",
    "# Precision and Recall(sensitivity/true positive rate)\n",
    "from sklearn.metrics import precision_score, recall_score\n",
    "prec=precision_score(y_test, y_pred,average='micro')\n",
    "rec=recall_score(y_test, y_pred,average='micro')\n",
    "\n",
    "#F1 - high if both recall and precision are high.\n",
    "from sklearn.metrics import f1_score\n",
    "f1=f1_score(y_test, y_pred,average='micro')\n",
    "\n",
    "print(\"Precision:\\t\",prec)\n",
    "print(\"Recall:\\t\\t\",rec)\n",
    "print(\"F1:\\t\\t\",f1)\n",
    "\n",
    "# Confusion Matrix\n",
    "from sklearn.metrics import confusion_matrix\n",
    "cm = confusion_matrix(y_test, y_pred)\n",
    "import audioUtils\n",
    "audioUtils.plot_confusion_matrix(cm,categories, normalize=False,save_path=save_dir)\n",
    "\n",
    "\n",
    "\n",
    "# SAVE METRICS TO FILE\n",
    "f = open(save_dir+\"Metrics.txt\", \"a\")\n",
    "f.write('Train loss:\\t'+ str(train_loss)+ \"\\n\")\n",
    "f.write('Train accuracy:\\t'+ str((1-train_error))+ \"\\n\")\n",
    "f.write('Val loss:\\t'+ str(val_loss)+ \"\\n\")\n",
    "f.write('Val accuracy:\\t'+ str((1-val_error))+ \"\\n\")\n",
    "f.write('Test loss:\\t'+ str(test_loss)+ \"\\n\")\n",
    "f.write('Test accuracy:\\t'+ str(score[1])+ \"\\n\")\n",
    "f.write(\"Bias:\\t\\t\"+str(bias)+ \"\\n\")\n",
    "f.write(\"Variance:\\t\"+str(variance)+ \"\\n\")\n",
    "f.write(\"Precision:\\t\"+str(prec)+ \"\\n\")\n",
    "f.write(\"Recall:\\t\\t\"+str(rec)+ \"\\n\")\n",
    "f.write(\"F1:\\t\\t\"+str(f1))\n",
    "f.close()"
   ]
  },
  {
   "cell_type": "code",
   "execution_count": null,
   "metadata": {},
   "outputs": [],
   "source": [
    "#ROC FOR MULTICLASS?????\n",
    "\"\"\"\n",
    "#ROC Curve\n",
    "from sklearn.metrics import roc_curve\n",
    "fpr, tpr, thresholds = roc_curve(y_test, y_pred)\n",
    "def plot_roc_curve(fpr, tpr, label=None):\n",
    "    plt.plot(fpr, tpr, linewidth=2, label=label)\n",
    "    plt.plot([0, 1], [0, 1], \"k--\") # dashed diagonal\n",
    "    # Add axis labels and grid\n",
    "plot_roc_curve(fpr, tpr)\n",
    "plt.show()\n",
    "\n",
    "#AUC Score\n",
    "#perfect classifier=1, purely random=0.5.\n",
    "from sklearn.metrics import roc_auc_score\n",
    "roc_auc_score(y_test, y_pred)\"\"\""
   ]
  },
  {
   "cell_type": "code",
   "execution_count": null,
   "metadata": {},
   "outputs": [],
   "source": []
  },
  {
   "cell_type": "code",
   "execution_count": null,
   "metadata": {},
   "outputs": [],
   "source": []
  }
 ],
 "metadata": {
  "kernelspec": {
   "display_name": "gputest",
   "language": "python",
   "name": "gputest"
  },
  "language_info": {
   "codemirror_mode": {
    "name": "ipython",
    "version": 3
   },
   "file_extension": ".py",
   "mimetype": "text/x-python",
   "name": "python",
   "nbconvert_exporter": "python",
   "pygments_lexer": "ipython3",
   "version": "3.7.7"
  }
 },
 "nbformat": 4,
 "nbformat_minor": 4
}
