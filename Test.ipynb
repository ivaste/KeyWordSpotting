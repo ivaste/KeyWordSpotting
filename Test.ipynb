{
 "cells": [
  {
   "cell_type": "markdown",
   "metadata": {},
   "source": [
    "# Test MFCC"
   ]
  },
  {
   "cell_type": "code",
   "execution_count": 6,
   "metadata": {},
   "outputs": [
    {
     "name": "stdout",
     "output_type": "stream",
     "text": [
      "# of test:  11005\n",
      "# of val:  9981\n",
      "# of train:  84849\n",
      "# total:  105835\n",
      "(2500, 16000)\n",
      "Loading  2500  files (seconds): 44.18078947067261\n",
      "Size: 320000000 bytes\n",
      "Transforming  2500  elements (seconds): 10.172855854034424\n",
      "Size: 90720000 bytes\n"
     ]
    },
    {
     "data": {
      "image/png": "[encoded data removed]",
      "text/plain": [
       "<Figure size 720x288 with 1 Axes>"
      ]
     },
     "metadata": {
      "needs_background": "light"
     },
     "output_type": "display_data"
    }
   ],
   "source": [
    "import numpy as np\n",
    "import matplotlib.pyplot as plt\n",
    "%matplotlib inline\n",
    "import librosa\n",
    "\n",
    "import pandas as pd # for reading txt files\n",
    "import time # for measuring time\n",
    "import os\n",
    "\n",
    "sr=16000\n",
    "\n",
    "\n",
    "basePath = 'sd_GSCmdV2'\n",
    "testWAVs = pd.read_csv(basePath + '/train/testing_list.txt',\n",
    "                           sep=\" \", header=None)[0].tolist()\n",
    "testWAVs = [os.path.join(basePath + '/train/', f + '.npy')\n",
    "                for f in testWAVs if f.endswith('.wav')]\n",
    "\n",
    "valWAVs = pd.read_csv(basePath + '/train/validation_list.txt',\n",
    "                          sep=\" \", header=None)[0].tolist()\n",
    "valWAVs = [os.path.join(basePath + '/train/', f + '.npy')\n",
    "               for f in valWAVs if f.endswith('.wav')]\n",
    "allWAVs = []\n",
    "for root, dirs, files in os.walk(basePath + '/train/'):\n",
    "    allWAVs += [root + '/' + f for f in files if f.endswith('.wav.npy')]\n",
    "trainWAVs = list(set(allWAVs) - set(valWAVs) - set(testWAVs))\n",
    "\n",
    "print(\"# of test: \",len(testWAVs))\n",
    "print(\"# of val: \",len(valWAVs))\n",
    "print(\"# of train: \",len(trainWAVs))\n",
    "print(\"# total: \",len(allWAVs))\n",
    "\n",
    "\n",
    "#LOAD A BATCH OF DATA\n",
    "batch_size=2500\n",
    "dim=sr\n",
    "start = time.time()\n",
    "X = np.empty((batch_size, dim))\n",
    "print(X.shape)\n",
    "# Generate data\n",
    "for i, ID in enumerate(valWAVs[0:batch_size]):\n",
    "    # load data from file, saved as numpy array on disk\n",
    "    curX = np.load(ID)\n",
    "\n",
    "    # curX could be bigger or smaller than self.dim\n",
    "    if curX.shape[0] == dim:\n",
    "        X[i] = curX\n",
    "    elif curX.shape[0] > dim:  # bigger\n",
    "        # we can choose any position in curX-self.dim\n",
    "        randPos = np.random.randint(curX.shape[0]-dim)\n",
    "        X[i] = curX[randPos:randPos+dim]\n",
    "    else:  # smaller\n",
    "        randPos = np.random.randint(dim-curX.shape[0])\n",
    "        X[i, randPos:randPos + curX.shape[0]] = curX\n",
    "        # print('File dim smaller')\n",
    "\n",
    "end = time.time()\n",
    "print(\"Loading \", batch_size, \" files (seconds):\", end - start)\n",
    "print(\"Size: %d bytes\" % (X.size * X.itemsize))\n",
    "\n",
    "\n",
    "# FEATURE EXTRACTION OF A BATCH\n",
    "start = time.time()\n",
    "features = np.empty((batch_size,36,126))\n",
    "for i,y in enumerate(X):\n",
    "    S = librosa.feature.melspectrogram(y, sr=sr, n_fft=1024,\n",
    "                                            hop_length=128, power=1.0, #window='hann',\n",
    "                                            n_mels=80, fmin=40.0, fmax=sr/2)\n",
    "\n",
    "    # Convert to log scale (dB). We'll use the peak power (max) as reference.\n",
    "    log_S = librosa.power_to_db(S, ref=np.max)\n",
    "\n",
    "    # Next, we'll extract the top 13 Mel-frequency cepstral coefficients (MFCCs)\n",
    "    mfcc        = librosa.feature.mfcc(S=log_S, n_mfcc=12)\n",
    "\n",
    "    # Let's pad on the first and second deltas while we're at it\n",
    "    delta_mfcc  = librosa.feature.delta(mfcc)\n",
    "    delta2_mfcc = librosa.feature.delta(mfcc, order=2)\n",
    "\n",
    "    features[i] = np.concatenate((mfcc, delta_mfcc, delta2_mfcc), axis=0)\n",
    "\n",
    "end = time.time()\n",
    "print(\"Transforming \", batch_size, \" elements (seconds):\", end - start)\n",
    "print(\"Size: %d bytes\" % (features.size * features.itemsize))\n",
    "    \n",
    "    \n",
    "'''plt.figure(figsize=(10, 4))\n",
    "plt.pcolormesh(mfcc)\n",
    "plt.show()\n",
    "\n",
    "plt.figure(figsize=(10, 4))\n",
    "plt.pcolormesh(delta_mfcc)\n",
    "plt.show()\n",
    "\n",
    "plt.figure(figsize=(10, 4))\n",
    "plt.pcolormesh(delta2_mfcc)\n",
    "plt.show()'''\n",
    "\n",
    "plt.figure(figsize=(10, 4))\n",
    "plt.pcolormesh(features[0])\n",
    "plt.show()"
   ]
  },
  {
   "cell_type": "code",
   "execution_count": 7,
   "metadata": {},
   "outputs": [],
   "source": [
    "del X"
   ]
  },
  {
   "cell_type": "code",
   "execution_count": null,
   "metadata": {},
   "outputs": [],
   "source": []
  }
 ],
 "metadata": {
  "kernelspec": {
   "display_name": "gputest",
   "language": "python",
   "name": "gputest"
  },
  "language_info": {
   "codemirror_mode": {
    "name": "ipython",
    "version": 3
   },
   "file_extension": ".py",
   "mimetype": "text/x-python",
   "name": "python",
   "nbconvert_exporter": "python",
   "pygments_lexer": "ipython3",
   "version": "3.7.7"
  }
 },
 "nbformat": 4,
 "nbformat_minor": 4
}
